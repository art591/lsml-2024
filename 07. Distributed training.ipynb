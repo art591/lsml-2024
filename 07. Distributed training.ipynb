{
 "cells": [
  {
   "cell_type": "markdown",
   "metadata": {},
   "source": [
    "# Распределенное обучение классических моделей\n",
    "\n",
    "Поговорим про то, как решать задачу машинного обучения, когда самих наблюдений очень много и они все не помещаются на машину.\n",
    "\n",
    "Центральная идея во всех алгоритмах - параллельно на нескольких машинах посчитать частичные элементы, которые требуются для принятия решения, передать их на центральную машину и сделать шаг алгоритма.\n",
    "\n",
    "Для обучения линейных моделей на различных машинах будем считать градиент и на главной машине делать шаг градиентного спуска.\n",
    "\n",
    "Для деревьев решений на различных машинах будем считать распределение по корзинкам (по бинам) и на главной машине будет определять порог для определенного признака."
   ]
  },
  {
   "cell_type": "markdown",
   "metadata": {},
   "source": [
    "### Распределенное обучение VW\n",
    "\n",
    "Vowpal Wabbit также умеет работать распределенно, что делает его универсальным инструментом для обучения линейных моделей на больших данных. Для работы он использует дополнительный компонент - `spanning_tree` - это специальный процесс, который координирует работу различных воркеров между собой.\n",
    "\n",
    "Про него можно также думать, как про корневую вершину в алгоритме \"Tree Allreduce\", который используется для эффективной утилизации сети при обучении.\n",
    "\n",
    "Чтобы иметь возможность использовать `spanning_tree`, необходимо собрать VW руками.\n",
    "\n",
    "\n",
    "Собирем VW. Делать это нужно с суперпользоателя, поэтому удобнее всего запускать из терминала.\n",
    "\n",
    "```bash\n",
    "apt update && \\\n",
    "apt install git psmisc -y && \\\n",
    "apt install libboost-dev libboost-program-options-dev libboost-system-dev libboost-thread-dev libboost-math-dev libboost-test-dev zlib1g-dev cmake g++ -y \n",
    "\n",
    "\n",
    "wget https://github.com/google/flatbuffers/archive/v1.12.0.tar.gz && \\\n",
    "tar -xzf v1.12.0.tar.gz && \\\n",
    "cd flatbuffers-1.12.0 && \\\n",
    "mkdir build_dir && \\\n",
    "cd build_dir && \\\n",
    "cmake -G \"Unix Makefiles\" -DFLATBUFFERS_BUILD_TESTS=Off -DFLATBUFFERS_INSTALL=On -DCMAKE_BUILD_TYPE=Release DFLATBUFFERS_BUILD_FLATHASH=Off .. && \\\n",
    "make install -j$(nproc) && \\\n",
    "cd ../..\n",
    "\n",
    "git clone --recursive https://github.com/VowpalWabbit/vowpal_wabbit.git && \\\n",
    "cd vowpal_wabbit && \\\n",
    "sudo make && \\\n",
    "cd build && \\\n",
    "sudo make install -j$(nproc)\n",
    "```\n",
    "\n",
    "**Хозяйке на заметку** Чтобы получить рутовый доступ с кластера в Azure через Jupyter можно открыть терминал и по ssh подключиться к пользователю `azureuser`. Текущий пользователь `spark` к сожалению имеет очень мало прав.\n",
    "\n",
    "```bash\n",
    "ssh azureuser@localhost\n",
    "sudo su\n",
    "```"
   ]
  },
  {
   "cell_type": "code",
   "execution_count": 1,
   "metadata": {},
   "outputs": [
    {
     "name": "stdout",
     "output_type": "stream",
     "text": [
      "Overwriting install_vw.sh\n"
     ]
    }
   ],
   "source": [
    "%%writefile install_vw.sh\n",
    "\n",
    "sudo apt update -y\n",
    "sudo apt install git psmisc -y \n",
    "sudo apt install libboost-dev libboost-program-options-dev libboost-system-dev libboost-thread-dev libboost-math-dev libboost-test-dev zlib1g-dev cmake g++ -y \n",
    "\n",
    "wget https://github.com/google/flatbuffers/archive/v1.12.0.tar.gz && \\\n",
    "    tar -xzf v1.12.0.tar.gz && \\\n",
    "    cd flatbuffers-1.12.0 && \\\n",
    "    mkdir build_dir && \\\n",
    "    cd build_dir && \\\n",
    "    cmake -G \"Unix Makefiles\" -DFLATBUFFERS_BUILD_TESTS=Off -DFLATBUFFERS_INSTALL=On -DCMAKE_BUILD_TYPE=Release DFLATBUFFERS_BUILD_FLATHASH=Off .. && \\\n",
    "    make install -j$(nproc) && \\\n",
    "    cd ../..\n",
    "    \n",
    "git clone --recursive https://github.com/VowpalWabbit/vowpal_wabbit.git && \\\n",
    "    cd vowpal_wabbit && \\\n",
    "    git checkout d1ead9a0a9afd56d2ee11a72e0c1aaa7702ee281 && \\\n",
    "    sudo make && \\\n",
    "    cd build && \\\n",
    "    sudo make install -j$(nproc)"
   ]
  },
  {
   "cell_type": "code",
   "execution_count": null,
   "metadata": {
    "scrolled": true
   },
   "outputs": [],
   "source": [
    "! bash install_vw.sh"
   ]
  },
  {
   "cell_type": "code",
   "execution_count": 2,
   "metadata": {},
   "outputs": [
    {
     "name": "stdout",
     "output_type": "stream",
     "text": [
      "/usr/local/bin/vw\r\n"
     ]
    }
   ],
   "source": [
    "! which vw"
   ]
  },
  {
   "cell_type": "code",
   "execution_count": 3,
   "metadata": {
    "cell_status": {
     "execute_time": {
      "duration": 186.580078125,
      "end_time": 1613981874641.176
     }
    }
   },
   "outputs": [
    {
     "name": "stdout",
     "output_type": "stream",
     "text": [
      "/usr/local/bin/spanning_tree\r\n"
     ]
    }
   ],
   "source": [
    "! which spanning_tree"
   ]
  },
  {
   "cell_type": "code",
   "execution_count": null,
   "metadata": {},
   "outputs": [],
   "source": []
  },
  {
   "cell_type": "code",
   "execution_count": 4,
   "metadata": {
    "cell_status": {
     "execute_time": {
      "duration": 3100.781982421875,
      "end_time": 1613982023114.511
     }
    }
   },
   "outputs": [
    {
     "name": "stdout",
     "output_type": "stream",
     "text": [
      "--2024-03-16 11:53:18--  https://archive.ics.uci.edu/ml/machine-learning-databases/00462/drugsCom_raw.zip\n",
      "Resolving archive.ics.uci.edu (archive.ics.uci.edu)... 128.195.10.252\n",
      "Connecting to archive.ics.uci.edu (archive.ics.uci.edu)|128.195.10.252|:443... connected.\n",
      "HTTP request sent, awaiting response... 200 OK\n",
      "Length: unspecified\n",
      "Saving to: ‘drugsCom_raw.zip.1’\n",
      "\n",
      "drugsCom_raw.zip.1      [     <=>            ]  41.00M  5.30MB/s    in 8.2s    \n",
      "\n",
      "2024-03-16 11:53:27 (5.01 MB/s) - ‘drugsCom_raw.zip.1’ saved [42989872]\n",
      "\n",
      "Archive:  drugsCom_raw.zip\n",
      "replace drugsComTest_raw.tsv? [y]es, [n]o, [A]ll, [N]one, [r]ename: ^C\n"
     ]
    }
   ],
   "source": [
    "! wget https://archive.ics.uci.edu/ml/machine-learning-databases/00462/drugsCom_raw.zip\n",
    "! unzip drugsCom_raw.zip"
   ]
  },
  {
   "cell_type": "code",
   "execution_count": 5,
   "metadata": {},
   "outputs": [
    {
     "name": "stdout",
     "output_type": "stream",
     "text": [
      "Found 6 items\r\n",
      "drwxr-xr-x   - ubuntu hadoop          0 2024-02-28 22:52 /user/airbnb\r\n",
      "drwxr-xr-x   - ubuntu hadoop          0 2024-03-16 08:52 /user/drugs\r\n",
      "drwxr-xr-x   - hive   hadoop          0 2024-02-24 08:00 /user/hive\r\n",
      "drwxr-xr-x   - ubuntu hadoop          0 2024-02-24 11:57 /user/spark-example\r\n",
      "drwxr-xr-x   - ubuntu hadoop          0 2024-02-24 11:10 /user/tweets\r\n",
      "drwxr-xr-x   - ubuntu hadoop          0 2024-02-24 08:06 /user/ubuntu\r\n"
     ]
    }
   ],
   "source": [
    "! hdfs dfs -ls /user"
   ]
  },
  {
   "cell_type": "code",
   "execution_count": 6,
   "metadata": {
    "cell_status": {
     "execute_time": {
      "duration": 5219.3681640625,
      "end_time": 1613982512264.579
     }
    }
   },
   "outputs": [
    {
     "name": "stdout",
     "output_type": "stream",
     "text": [
      "Deleted /user/drugs/data\r\n"
     ]
    }
   ],
   "source": [
    "! hdfs dfs -rm -r /user/drugs/data || true\n",
    "! hdfs dfs -mkdir -p /user/drugs/data"
   ]
  },
  {
   "cell_type": "code",
   "execution_count": 7,
   "metadata": {},
   "outputs": [
    {
     "name": "stdout",
     "output_type": "stream",
     "text": [
      "Found 4 items\r\n",
      "drwxr-xr-x   - ubuntu hadoop          0 2024-03-16 11:53 /user/drugs/data\r\n",
      "drwxr-xr-x   - ubuntu hadoop          0 2024-03-16 08:52 /user/drugs/part1.vw\r\n",
      "drwxr-xr-x   - ubuntu hadoop          0 2024-03-16 08:52 /user/drugs/part2.vw\r\n",
      "drwxr-xr-x   - ubuntu hadoop          0 2024-03-16 08:52 /user/drugs/test.vw\r\n"
     ]
    }
   ],
   "source": [
    "! hdfs dfs -ls /user/drugs"
   ]
  },
  {
   "cell_type": "markdown",
   "metadata": {},
   "source": [
    "Выгрузим датасет с препаратами."
   ]
  },
  {
   "cell_type": "code",
   "execution_count": 8,
   "metadata": {
    "cell_status": {
     "execute_time": {
      "duration": 3977.365966796875,
      "end_time": 1613982557665.565
     }
    }
   },
   "outputs": [],
   "source": [
    "%%bash\n",
    "\n",
    "cat drugsComTrain_raw.tsv <(tail -n +2 drugsComTest_raw.tsv) | hdfs dfs -put - /user/drugs/data/drugs.tsv"
   ]
  },
  {
   "cell_type": "code",
   "execution_count": 9,
   "metadata": {
    "cell_status": {
     "execute_time": {
      "duration": 2452.219970703125,
      "end_time": 1613982582184.549
     }
    }
   },
   "outputs": [
    {
     "name": "stdout",
     "output_type": "stream",
     "text": [
      "Found 1 items\r\n",
      "-rw-r--r--   1 ubuntu hadoop    107.2 M 2024-03-16 11:54 /user/drugs/data/drugs.tsv\r\n"
     ]
    }
   ],
   "source": [
    "! hdfs dfs -ls  -h /user/drugs/data"
   ]
  },
  {
   "cell_type": "code",
   "execution_count": null,
   "metadata": {
    "cell_status": {
     "execute_time": {
      "duration": 38.340087890625,
      "end_time": 1613982201031.531
     }
    }
   },
   "outputs": [],
   "source": []
  },
  {
   "cell_type": "code",
   "execution_count": 10,
   "metadata": {},
   "outputs": [],
   "source": [
    "import findspark\n",
    "findspark.init()"
   ]
  },
  {
   "cell_type": "code",
   "execution_count": 11,
   "metadata": {},
   "outputs": [],
   "source": [
    "import pyspark\n",
    "sc = pyspark.SparkContext(appName=\"lsml-app-1\")"
   ]
  },
  {
   "cell_type": "code",
   "execution_count": 12,
   "metadata": {},
   "outputs": [],
   "source": [
    "from pyspark.sql import SparkSession, Row\n",
    "se = SparkSession(sc)"
   ]
  },
  {
   "cell_type": "code",
   "execution_count": 13,
   "metadata": {
    "cell_status": {
     "execute_time": {
      "duration": 33.364990234375,
      "end_time": 1613986893297.585
     }
    }
   },
   "outputs": [],
   "source": [
    "from pyspark.sql import functions as F\n",
    "from datetime import datetime\n",
    "import re"
   ]
  },
  {
   "cell_type": "code",
   "execution_count": 14,
   "metadata": {
    "cell_status": {
     "execute_time": {
      "duration": 17387.600830078125,
      "end_time": 1613984918317.608
     }
    }
   },
   "outputs": [],
   "source": [
    "data = se.read.option(\"delimiter\", \"\\t\").csv('/user/drugs/data/*', header=True, inferSchema=True)"
   ]
  },
  {
   "cell_type": "code",
   "execution_count": 15,
   "metadata": {
    "cell_status": {
     "execute_time": {
      "duration": 762.689208984375,
      "end_time": 1613984919090.165
     }
    }
   },
   "outputs": [
    {
     "data": {
      "text/html": [
       "<div>\n",
       "<style scoped>\n",
       "    .dataframe tbody tr th:only-of-type {\n",
       "        vertical-align: middle;\n",
       "    }\n",
       "\n",
       "    .dataframe tbody tr th {\n",
       "        vertical-align: top;\n",
       "    }\n",
       "\n",
       "    .dataframe thead th {\n",
       "        text-align: right;\n",
       "    }\n",
       "</style>\n",
       "<table border=\"1\" class=\"dataframe\">\n",
       "  <thead>\n",
       "    <tr style=\"text-align: right;\">\n",
       "      <th></th>\n",
       "      <th>_c0</th>\n",
       "      <th>drugName</th>\n",
       "      <th>condition</th>\n",
       "      <th>review</th>\n",
       "      <th>rating</th>\n",
       "      <th>date</th>\n",
       "      <th>usefulCount</th>\n",
       "    </tr>\n",
       "  </thead>\n",
       "  <tbody>\n",
       "    <tr>\n",
       "      <th>0</th>\n",
       "      <td>206461</td>\n",
       "      <td>Valsartan</td>\n",
       "      <td>Left Ventricular Dysfunction</td>\n",
       "      <td>\"\"\"It has no side effect, I take it in combina...</td>\n",
       "      <td>9.0</td>\n",
       "      <td>May 20, 2012</td>\n",
       "      <td>27.0</td>\n",
       "    </tr>\n",
       "    <tr>\n",
       "      <th>1</th>\n",
       "      <td>95260</td>\n",
       "      <td>Guanfacine</td>\n",
       "      <td>ADHD</td>\n",
       "      <td>\"\"\"My son is halfway through his fourth week o...</td>\n",
       "      <td>None</td>\n",
       "      <td>None</td>\n",
       "      <td>NaN</td>\n",
       "    </tr>\n",
       "    <tr>\n",
       "      <th>2</th>\n",
       "      <td>We have tried many different medications and s...</td>\n",
       "      <td>8.0</td>\n",
       "      <td>April 27, 2010</td>\n",
       "      <td>192</td>\n",
       "      <td>None</td>\n",
       "      <td>None</td>\n",
       "      <td>NaN</td>\n",
       "    </tr>\n",
       "    <tr>\n",
       "      <th>3</th>\n",
       "      <td>92703</td>\n",
       "      <td>Lybrel</td>\n",
       "      <td>Birth Control</td>\n",
       "      <td>\"\"\"I used to take another oral contraceptive, ...</td>\n",
       "      <td>None</td>\n",
       "      <td>None</td>\n",
       "      <td>NaN</td>\n",
       "    </tr>\n",
       "    <tr>\n",
       "      <th>4</th>\n",
       "      <td>The positive side is that I didn&amp;#039;t have a...</td>\n",
       "      <td>5.0</td>\n",
       "      <td>December 14, 2009</td>\n",
       "      <td>17</td>\n",
       "      <td>None</td>\n",
       "      <td>None</td>\n",
       "      <td>NaN</td>\n",
       "    </tr>\n",
       "    <tr>\n",
       "      <th>5</th>\n",
       "      <td>138000</td>\n",
       "      <td>Ortho Evra</td>\n",
       "      <td>Birth Control</td>\n",
       "      <td>\"\"\"This is my first time using any form of bir...</td>\n",
       "      <td>8.0</td>\n",
       "      <td>November 3, 2015</td>\n",
       "      <td>10.0</td>\n",
       "    </tr>\n",
       "    <tr>\n",
       "      <th>6</th>\n",
       "      <td>35696</td>\n",
       "      <td>Buprenorphine / naloxone</td>\n",
       "      <td>Opiate Dependence</td>\n",
       "      <td>\"\"\"Suboxone has completely turned my life arou...</td>\n",
       "      <td>9.0</td>\n",
       "      <td>November 27, 2016</td>\n",
       "      <td>37.0</td>\n",
       "    </tr>\n",
       "    <tr>\n",
       "      <th>7</th>\n",
       "      <td>155963</td>\n",
       "      <td>Cialis</td>\n",
       "      <td>Benign Prostatic Hyperplasia</td>\n",
       "      <td>\"\"\"2nd day on 5mg started to work with rock ha...</td>\n",
       "      <td>2.0</td>\n",
       "      <td>November 28, 2015</td>\n",
       "      <td>43.0</td>\n",
       "    </tr>\n",
       "    <tr>\n",
       "      <th>8</th>\n",
       "      <td>165907</td>\n",
       "      <td>Levonorgestrel</td>\n",
       "      <td>Emergency Contraception</td>\n",
       "      <td>\"\"\"He pulled out, but he cummed a bit in me. I...</td>\n",
       "      <td>1.0</td>\n",
       "      <td>March 7, 2017</td>\n",
       "      <td>5.0</td>\n",
       "    </tr>\n",
       "    <tr>\n",
       "      <th>9</th>\n",
       "      <td>102654</td>\n",
       "      <td>Aripiprazole</td>\n",
       "      <td>Bipolar Disorde</td>\n",
       "      <td>\"\"\"Abilify changed my life. There is hope. I w...</td>\n",
       "      <td>10.0</td>\n",
       "      <td>March 14, 2015</td>\n",
       "      <td>32.0</td>\n",
       "    </tr>\n",
       "  </tbody>\n",
       "</table>\n",
       "</div>"
      ],
      "text/plain": [
       "                                                 _c0  \\\n",
       "0                                             206461   \n",
       "1                                              95260   \n",
       "2  We have tried many different medications and s...   \n",
       "3                                              92703   \n",
       "4  The positive side is that I didn&#039;t have a...   \n",
       "5                                             138000   \n",
       "6                                              35696   \n",
       "7                                             155963   \n",
       "8                                             165907   \n",
       "9                                             102654   \n",
       "\n",
       "                   drugName                     condition  \\\n",
       "0                 Valsartan  Left Ventricular Dysfunction   \n",
       "1                Guanfacine                          ADHD   \n",
       "2                       8.0                April 27, 2010   \n",
       "3                    Lybrel                 Birth Control   \n",
       "4                       5.0             December 14, 2009   \n",
       "5                Ortho Evra                 Birth Control   \n",
       "6  Buprenorphine / naloxone             Opiate Dependence   \n",
       "7                    Cialis  Benign Prostatic Hyperplasia   \n",
       "8            Levonorgestrel       Emergency Contraception   \n",
       "9              Aripiprazole               Bipolar Disorde   \n",
       "\n",
       "                                              review rating  \\\n",
       "0  \"\"\"It has no side effect, I take it in combina...    9.0   \n",
       "1  \"\"\"My son is halfway through his fourth week o...   None   \n",
       "2                                                192   None   \n",
       "3  \"\"\"I used to take another oral contraceptive, ...   None   \n",
       "4                                                 17   None   \n",
       "5  \"\"\"This is my first time using any form of bir...    8.0   \n",
       "6  \"\"\"Suboxone has completely turned my life arou...    9.0   \n",
       "7  \"\"\"2nd day on 5mg started to work with rock ha...    2.0   \n",
       "8  \"\"\"He pulled out, but he cummed a bit in me. I...    1.0   \n",
       "9  \"\"\"Abilify changed my life. There is hope. I w...   10.0   \n",
       "\n",
       "                date  usefulCount  \n",
       "0       May 20, 2012         27.0  \n",
       "1               None          NaN  \n",
       "2               None          NaN  \n",
       "3               None          NaN  \n",
       "4               None          NaN  \n",
       "5   November 3, 2015         10.0  \n",
       "6  November 27, 2016         37.0  \n",
       "7  November 28, 2015         43.0  \n",
       "8      March 7, 2017          5.0  \n",
       "9     March 14, 2015         32.0  "
      ]
     },
     "execution_count": 15,
     "metadata": {},
     "output_type": "execute_result"
    }
   ],
   "source": [
    "data.limit(10).toPandas()"
   ]
  },
  {
   "cell_type": "markdown",
   "metadata": {},
   "source": [
    "Мы будем запускать 2 воркера. Поэтмоу разделим весь датасет на 3 части - 2 равные для воркером и 1 маленькую часть для теста."
   ]
  },
  {
   "cell_type": "code",
   "execution_count": 16,
   "metadata": {
    "cell_status": {
     "execute_time": {
      "duration": 244.2529296875,
      "end_time": 1613986336547.433
     }
    }
   },
   "outputs": [],
   "source": [
    "part1, part2, test = (\n",
    "    data\n",
    "    .na.drop('any')\n",
    "    .randomSplit([0.45, 0.45, 0.1], 422)\n",
    ")"
   ]
  },
  {
   "cell_type": "markdown",
   "metadata": {},
   "source": [
    "Соберем датасет на спарке"
   ]
  },
  {
   "cell_type": "code",
   "execution_count": 17,
   "metadata": {
    "cell_status": {
     "execute_time": {
      "duration": 31.01318359375,
      "end_time": 1613986336688.383
     }
    }
   },
   "outputs": [],
   "source": [
    "def convert_to_vw(data):\n",
    "    target = data['usefulCount']\n",
    "    \n",
    "    drug_name = data['drugName'].lower().replace(' ', '_')\n",
    "    condition = data['condition'].lower().replace(' ', '_')\n",
    "    \n",
    "    raw_text = data['review'].lower()\n",
    "    word_pattern = re.compile(r\"[a-zA-Z0-9_]+\")\n",
    "    words = [match.group(0) for match in re.finditer(word_pattern, raw_text)]\n",
    "    review = ' '.join(words)\n",
    "    \n",
    "    rating = data['rating']\n",
    "    \n",
    "    weekday = datetime.strptime(data['date'], '%B %d, %Y').weekday()\n",
    "    \n",
    "    template = \"{target} |d {drug_name} |c {condition} |r {review} |w {weekday} |s rating:{rating}\"\n",
    "    return template.format(\n",
    "        target=target,\n",
    "        drug_name=drug_name,\n",
    "        condition=condition,\n",
    "        review=review,\n",
    "        weekday=weekday,\n",
    "        rating=rating\n",
    "    )"
   ]
  },
  {
   "cell_type": "code",
   "execution_count": 18,
   "metadata": {
    "cell_status": {
     "execute_time": {
      "duration": 3050.494873046875,
      "end_time": 1613986378939.938
     }
    }
   },
   "outputs": [
    {
     "name": "stdout",
     "output_type": "stream",
     "text": [
      "Deleted /user/drugs/part1.vw\n",
      "Deleted /user/drugs/part2.vw\n",
      "Deleted /user/drugs/test.vw\n"
     ]
    }
   ],
   "source": [
    "! hdfs dfs -rm -r /user/drugs/*.vw"
   ]
  },
  {
   "cell_type": "code",
   "execution_count": 19,
   "metadata": {
    "cell_status": {
     "execute_time": {
      "duration": 9322.19091796875,
      "end_time": 1613986395951.814
     }
    }
   },
   "outputs": [],
   "source": [
    "part1.rdd.map(convert_to_vw).saveAsTextFile('/user/drugs/part1.vw')\n",
    "part2.rdd.map(convert_to_vw).saveAsTextFile('/user/drugs/part2.vw')\n",
    "test.rdd.map(convert_to_vw).saveAsTextFile('/user/drugs/test.vw')"
   ]
  },
  {
   "cell_type": "code",
   "execution_count": 20,
   "metadata": {
    "cell_status": {
     "execute_time": {
      "duration": 12384.204833984375,
      "end_time": 1613986623135.253
     }
    }
   },
   "outputs": [],
   "source": [
    "\n",
    "! hdfs dfs -cat /user/drugs/part1.vw/* > train.part1.vw\n",
    "! hdfs dfs -cat /user/drugs/part2.vw/* > train.part2.vw\n",
    "! hdfs dfs -cat /user/drugs/test.vw/* > test.vw"
   ]
  },
  {
   "cell_type": "markdown",
   "metadata": {},
   "source": [
    "Посмотрим, какие результаты мы получим, если просто запустим VW на всем файле."
   ]
  },
  {
   "cell_type": "code",
   "execution_count": 21,
   "metadata": {
    "cell_status": {
     "execute_time": {
      "duration": 256.260009765625,
      "end_time": 1613987206894.957
     }
    }
   },
   "outputs": [],
   "source": [
    "! cat train.*.vw > train.full.vw"
   ]
  },
  {
   "cell_type": "code",
   "execution_count": 22,
   "metadata": {
    "cell_status": {
     "execute_time": {
      "duration": 3399.77099609375,
      "end_time": 1613987014763.149
     }
    }
   },
   "outputs": [],
   "source": [
    "import numpy as np\n",
    "from sklearn.metrics import r2_score\n",
    "\n",
    "\n",
    "def calc_r2(predictions_filename, answers_filename):\n",
    "    def read_target_from_vw(vw_record):\n",
    "        return float(vw_record.split(' ')[0])\n",
    "    \n",
    "    with open(predictions_filename, 'r') as f:\n",
    "        y_pred = np.array([float(value) for value in f.readlines()])\n",
    "        \n",
    "    with open(answers_filename, 'r') as f:\n",
    "        y_expected = np.array([read_target_from_vw(value) for value in f.readlines()])\n",
    "        \n",
    "    return r2_score(y_expected, y_pred)"
   ]
  },
  {
   "cell_type": "code",
   "execution_count": null,
   "metadata": {},
   "outputs": [],
   "source": []
  },
  {
   "cell_type": "code",
   "execution_count": 23,
   "metadata": {
    "cell_status": {
     "execute_time": {
      "duration": 201.5390625,
      "end_time": 1613987014977.758
     }
    }
   },
   "outputs": [
    {
     "name": "stdout",
     "output_type": "stream",
     "text": [
      "Num weight bits = 18\r\n",
      "learning rate = 0.5\r\n",
      "initial_t = 0\r\n",
      "power_t = 0.5\r\n",
      "using no cache\r\n",
      "Reading datafile = \r\n",
      "num sources = 1\r\n",
      "driver:\r\n",
      "  --onethread           Disable parse thread\r\n",
      "VW options:\r\n",
      "  --ring_size arg (=256, ) size of example ring\r\n",
      "  --strict_parse           throw on malformed examples\r\n",
      "Update options:\r\n",
      "  -l [ --learning_rate ] arg Set learning rate\r\n",
      "  --power_t arg              t power value\r\n",
      "  --decay_learning_rate arg  Set Decay factor for learning_rate between passes\r\n",
      "  --initial_t arg            initial t value\r\n"
     ]
    }
   ],
   "source": [
    "! vw --help | head"
   ]
  },
  {
   "cell_type": "markdown",
   "metadata": {},
   "source": [
    "Обучаем VW на одном файле целиком"
   ]
  },
  {
   "cell_type": "code",
   "execution_count": 24,
   "metadata": {
    "cell_status": {
     "execute_time": {
      "duration": 38173.47607421875,
      "end_time": 1613989408919.288
     }
    }
   },
   "outputs": [
    {
     "name": "stdout",
     "output_type": "stream",
     "text": [
      "Generating 2-grams for r namespaces.\n",
      "creating features for following interactions: dc \n",
      "final_regressor = drugs.model.bin\n",
      "Num weight bits = 23\n",
      "learning rate = 20\n",
      "initial_t = 0\n",
      "power_t = 0.5\n",
      "decay_learning_rate = 1\n",
      "creating cache_file = train.full.vw.cache\n",
      "Reading datafile = train.full.vw\n",
      "num sources = 1\n",
      "Enabled reductions: gd, scorer\n",
      "average  since         example        example  current  current  current\n",
      "loss     last          counter         weight    label  predict features\n",
      "16.000000 16.000000            1            1.0   4.0000   0.0000      155\n",
      "8.284978 0.569956            2            2.0   1.0000   1.7550      207\n",
      "5.384596 2.484213            4            4.0   0.0000   1.6859      249\n",
      "3.444507 1.504419            8            8.0   1.0000   0.1637       45\n",
      "110.780388 218.116268           16           16.0   3.0000   7.7153      139\n",
      "75.235660 39.690933           32           32.0   2.0000   4.0961      151\n",
      "51.536644 27.837627           64           64.0   2.0000   1.9416       73\n",
      "80.020489 108.504335          128          128.0   3.0000   6.1402      195\n",
      "873.081100 1666.141711          256          256.0   9.0000  14.4029      161\n",
      "1160.002329 1446.923559          512          512.0  79.0000   0.0000      247\n",
      "999.645317 839.288304         1024         1024.0  29.0000  33.4246      117\n",
      "839.118734 678.592150         2048         2048.0   0.0000  22.5671       93\n",
      "1045.837843 1252.556953         4096         4096.0  23.0000  16.7853      305\n",
      "924.149914 802.461985         8192         8192.0   3.0000   0.0000      307\n",
      "1045.836684 1167.523454        16384        16384.0  32.0000  22.8957       79\n",
      "991.280404 936.724125        32768        32768.0  68.0000 127.5900      291\n",
      "913.958523 836.636641        65536        65536.0  18.0000  16.1984      125\n",
      "833.377287 752.796051       131072       131072.0  11.0000  17.9540      297\n",
      "767.057827 767.057827       262144       262144.0  18.0000  22.0474      105 h\n",
      "649.845052 532.632276       524288       524288.0  23.0000  22.3745      233 h\n",
      "547.113472 444.383656      1048576      1048576.0   8.0000   7.8707      207 h\n",
      "487.013218 426.912448      2097152      2097152.0  27.0000  27.9684      173 h\n",
      "\n",
      "finished run\n",
      "number of examples per pass = 153905\n",
      "passes used = 17\n",
      "weighted example sum = 2616385.000000\n",
      "weighted label sum = 74117042.000000\n",
      "average loss = 422.329315 h\n",
      "best constant = 28.328033\n",
      "total feature number = 461006153\n",
      "CPU times: user 428 ms, sys: 25.4 ms, total: 454 ms\n",
      "Wall time: 27.1 s\n"
     ]
    }
   ],
   "source": [
    "%%time\n",
    "\n",
    "! vw --final_regressor drugs.model.bin train.full.vw \\\n",
    "    --onethread \\\n",
    "    --learning_rate 20.0 \\\n",
    "    --bit_precision 23 \\\n",
    "    --passes 40 \\\n",
    "    --ngram r2 \\\n",
    "    --interactions dc \\\n",
    "    --cache -k"
   ]
  },
  {
   "cell_type": "code",
   "execution_count": 25,
   "metadata": {
    "cell_status": {
     "execute_time": {
      "duration": 384.7109375,
      "end_time": 1613989409310.835
     }
    }
   },
   "outputs": [
    {
     "name": "stdout",
     "output_type": "stream",
     "text": [
      "Generating 2-grams for r namespaces.\n",
      "creating features for following interactions: dc \n",
      "only testing\n",
      "predictions = drugs.preductions.txt\n",
      "Num weight bits = 23\n",
      "learning rate = 0.5\n",
      "initial_t = 0\n",
      "power_t = 0.5\n",
      "using no cache\n",
      "Reading datafile = test.vw\n",
      "num sources = 1\n",
      "Enabled reductions: gd, scorer\n",
      "average  since         example        example  current  current  current\n",
      "loss     last          counter         weight    label  predict features\n",
      "0.447677 0.447677            1            1.0   2.0000   2.6691      317\n",
      "2.223839 4.000000            2            2.0   2.0000   0.0000      237\n",
      "4.300955 6.378071            4            4.0  10.0000  11.9381      163\n",
      "25.360267 46.419579            8            8.0   1.0000  14.3987       59\n",
      "17.799924 10.239580           16           16.0   2.0000   9.0071      285\n",
      "24.017554 30.235185           32           32.0   7.0000   3.3096      125\n",
      "158.437527 292.857500           64           64.0  10.0000  44.5076      175\n",
      "336.991100 515.544673          128          128.0  36.0000  58.1014      215\n",
      "267.254932 197.518764          256          256.0  12.0000  15.5234       95\n",
      "229.260331 191.265730          512          512.0   2.0000   0.0000      161\n",
      "417.915709 606.571087         1024         1024.0 101.0000 103.5116      175\n",
      "420.939098 423.962488         2048         2048.0   0.0000   3.6762      191\n",
      "466.031273 511.123448         4096         4096.0  65.0000  51.5437       47\n",
      "515.703584 565.375895         8192         8192.0   7.0000   0.0000      303\n",
      "474.605856 433.508129        16384        16384.0  30.0000  40.9357       33\n",
      "\n",
      "finished run\n",
      "number of examples = 18906\n",
      "weighted example sum = 18906.000000\n",
      "weighted label sum = 535907.000000\n",
      "average loss = 472.151429\n",
      "best constant = 28.345869\n",
      "total feature number = 3339722\n"
     ]
    }
   ],
   "source": [
    "! vw --testonly --initial_regressor drugs.model.bin --predictions drugs.preductions.txt test.vw"
   ]
  },
  {
   "cell_type": "code",
   "execution_count": 26,
   "metadata": {
    "cell_status": {
     "execute_time": {
      "duration": 141.4169921875,
      "end_time": 1613989409456.95
     }
    }
   },
   "outputs": [
    {
     "data": {
      "text/plain": [
       "0.6526252786437012"
      ]
     },
     "execution_count": 26,
     "metadata": {},
     "output_type": "execute_result"
    }
   ],
   "source": [
    "calc_r2('drugs.preductions.txt', 'test.vw')"
   ]
  },
  {
   "cell_type": "markdown",
   "metadata": {},
   "source": [
    "Обучили модель на **0.65** за **30** секунд."
   ]
  },
  {
   "cell_type": "code",
   "execution_count": null,
   "metadata": {},
   "outputs": [],
   "source": []
  },
  {
   "cell_type": "markdown",
   "metadata": {},
   "source": [
    "Посмотрим, что будет если мы обучим модель только на части данных"
   ]
  },
  {
   "cell_type": "code",
   "execution_count": 27,
   "metadata": {
    "cell_status": {
     "execute_time": {
      "duration": 9082.3662109375,
      "end_time": 1613988507257.777
     }
    }
   },
   "outputs": [
    {
     "name": "stdout",
     "output_type": "stream",
     "text": [
      "Generating 2-grams for r namespaces.\n",
      "creating features for following interactions: dc \n",
      "final_regressor = drugs.model.bin\n",
      "Num weight bits = 23\n",
      "learning rate = 20\n",
      "initial_t = 0\n",
      "power_t = 0.5\n",
      "decay_learning_rate = 1\n",
      "creating cache_file = train.part1.vw.cache\n",
      "Reading datafile = train.part1.vw\n",
      "num sources = 1\n",
      "Enabled reductions: gd, scorer\n",
      "average  since         example        example  current  current  current\n",
      "loss     last          counter         weight    label  predict features\n",
      "16.000000 16.000000            1            1.0   4.0000   0.0000      155\n",
      "8.284978 0.569956            2            2.0   1.0000   1.7550      207\n",
      "5.384596 2.484213            4            4.0   0.0000   1.6859      249\n",
      "3.444507 1.504419            8            8.0   1.0000   0.1637       45\n",
      "110.780388 218.116268           16           16.0   3.0000   7.7153      139\n",
      "75.235660 39.690933           32           32.0   2.0000   4.0961      151\n",
      "51.536644 27.837627           64           64.0   2.0000   1.9416       73\n",
      "80.020489 108.504335          128          128.0   3.0000   6.1402      195\n",
      "873.081100 1666.141711          256          256.0   9.0000  14.4029      161\n",
      "1160.002329 1446.923559          512          512.0  79.0000   0.0000      247\n",
      "999.645317 839.288304         1024         1024.0  29.0000  33.4246      117\n",
      "839.118734 678.592150         2048         2048.0   0.0000  22.5671       93\n",
      "1045.837843 1252.556953         4096         4096.0  23.0000  16.7853      305\n",
      "924.149914 802.461985         8192         8192.0   3.0000   0.0000      307\n",
      "1045.836684 1167.523454        16384        16384.0  32.0000  22.8957       79\n",
      "991.280404 936.724125        32768        32768.0  68.0000 127.5900      291\n",
      "913.958523 836.636641        65536        65536.0  18.0000  16.1984      125\n",
      "1037.556544 1037.556544       131072       131072.0  21.0000   0.0000      165 h\n",
      "943.885156 850.207335       262144       262144.0  64.0000  70.6678      233 h\n",
      "931.106259 918.327801       524288       524288.0   2.0000   2.5408       81 h\n",
      "\n",
      "finished run\n",
      "number of examples per pass = 76909\n",
      "passes used = 7\n",
      "weighted example sum = 538363.000000\n",
      "weighted label sum = 15235661.000000\n",
      "average loss = 887.870056 h\n",
      "best constant = 28.299978\n",
      "total feature number = 95024510\n",
      "CPU times: user 94.2 ms, sys: 18.3 ms, total: 113 ms\n",
      "Wall time: 6.11 s\n"
     ]
    }
   ],
   "source": [
    "%%time\n",
    "\n",
    "! vw --final_regressor drugs.model.bin train.part1.vw \\\n",
    "    --onethread \\\n",
    "    --learning_rate 20.0 \\\n",
    "    --bit_precision 23 \\\n",
    "    --passes 40 \\\n",
    "    --ngram r2 \\\n",
    "    --interactions dc \\\n",
    "    --cache -k"
   ]
  },
  {
   "cell_type": "code",
   "execution_count": 28,
   "metadata": {
    "cell_status": {
     "execute_time": {
      "duration": 381.276123046875,
      "end_time": 1613988507644.468
     }
    }
   },
   "outputs": [
    {
     "name": "stdout",
     "output_type": "stream",
     "text": [
      "Generating 2-grams for r namespaces.\n",
      "creating features for following interactions: dc \n",
      "only testing\n",
      "predictions = drugs.preductions.txt\n",
      "Num weight bits = 23\n",
      "learning rate = 0.5\n",
      "initial_t = 0\n",
      "power_t = 0.5\n",
      "using no cache\n",
      "Reading datafile = test.vw\n",
      "num sources = 1\n",
      "Enabled reductions: gd, scorer\n",
      "average  since         example        example  current  current  current\n",
      "loss     last          counter         weight    label  predict features\n",
      "1054.792969 1054.792969            1            1.0   2.0000  34.4776      317\n",
      "529.396484 4.000000            2            2.0   2.0000   0.0000      237\n",
      "351.250557 173.104630            4            4.0  10.0000  28.3633      163\n",
      "214.487823 77.725090            8            8.0   1.0000  16.5387       59\n",
      "140.830627 67.173430           16           16.0   2.0000  21.5064      285\n",
      "101.366076 61.901526           32           32.0   7.0000   3.7109      125\n",
      "202.674485 303.982894           64           64.0  10.0000  32.8632      175\n",
      "677.614774 1152.555063          128          128.0  36.0000  57.6672      215\n",
      "652.559612 627.504449          256          256.0  12.0000  12.7842       95\n",
      "562.562285 472.564959          512          512.0   2.0000   0.8607      161\n",
      "759.854795 957.147305         1024         1024.0 101.0000 104.1705      175\n",
      "803.473320 847.091844         2048         2048.0   0.0000  16.4304      191\n",
      "835.734412 867.995505         4096         4096.0  65.0000  34.9336       47\n",
      "938.522850 1041.311287         8192         8192.0   7.0000   0.0000      303\n",
      "842.230091 745.937331        16384        16384.0  30.0000  44.1338       33\n",
      "\n",
      "finished run\n",
      "number of examples = 18906\n",
      "weighted example sum = 18906.000000\n",
      "weighted label sum = 535907.000000\n",
      "average loss = 840.278802\n",
      "best constant = 28.345869\n",
      "total feature number = 3339722\n"
     ]
    }
   ],
   "source": [
    "! vw --testonly --initial_regressor drugs.model.bin --predictions drugs.preductions.txt test.vw"
   ]
  },
  {
   "cell_type": "code",
   "execution_count": 29,
   "metadata": {
    "cell_status": {
     "execute_time": {
      "duration": 132.541015625,
      "end_time": 1613988507782.773
     }
    }
   },
   "outputs": [
    {
     "data": {
      "text/plain": [
       "0.38178390321607647"
      ]
     },
     "execution_count": 29,
     "metadata": {},
     "output_type": "execute_result"
    }
   ],
   "source": [
    "\n",
    "calc_r2('drugs.preductions.txt', 'test.vw')"
   ]
  },
  {
   "cell_type": "markdown",
   "metadata": {},
   "source": [
    "Гораздо быстрее обучились, но потеряли в качестве. \n",
    "\n",
    "Модель на **0.38** за **6** секунд\n",
    "\n",
    "**Мораль** - семплирование не самых удачный подход, чтобы получать качество, нужно засовывать в модель вообще все данные."
   ]
  },
  {
   "cell_type": "markdown",
   "metadata": {},
   "source": [
    "Запустим в фоновом режиме `spanning_tree` и проверим что он правда работает.\n",
    "\n",
    "Далее воркеры будут подключаться к нему по tcp."
   ]
  },
  {
   "cell_type": "code",
   "execution_count": 30,
   "metadata": {
    "cell_status": {
     "execute_time": {
      "duration": 14.64794921875,
      "end_time": 1613987732434.034
     }
    }
   },
   "outputs": [],
   "source": [
    "%%bash --bg --out OUT --err ERR\n",
    "spanning_tree --nondaemon"
   ]
  },
  {
   "cell_type": "code",
   "execution_count": 31,
   "metadata": {
    "cell_status": {
     "execute_time": {
      "duration": 201.56298828125,
      "end_time": 1613988532226.307
     }
    }
   },
   "outputs": [
    {
     "name": "stdout",
     "output_type": "stream",
     "text": [
      "ubuntu     18650  0.0  0.0   6068  1568 ?        S    12:02   0:00 spanning_tree --nondaemon\r\n",
      "ubuntu     18651  0.0  0.0   9492  3164 pts/0    Ss+  12:02   0:00 /bin/bash -c  ps aux | grep spanning_tree\r\n",
      "ubuntu     18653  0.0  0.0   9032   724 pts/0    S+   12:02   0:00 grep spanning_tree\r\n"
     ]
    }
   ],
   "source": [
    "! ps aux | grep spanning_tree"
   ]
  },
  {
   "cell_type": "markdown",
   "metadata": {},
   "source": [
    "Пора запускать рабочих. Для этого используется уже известная команда vw, в которую просто добавляются специальные параметры\n",
    "\n",
    "* `--span_server` - указываем адрес, где находится менеджер (spanning_tree). В нашем случае это localhost. В реальной жизни там мог бы быть IP адрес другой машины\n",
    "* `--unique_id` - так как один spanning_tree может обрабатывать сразу много различных процессов обучения, то необходимо их как-то разграничить. Для этого используется unique_id - это число, которое должно быть одинаковым для всех ваших рабочих, чтобы их не перепутали с другими. Например ваш коллега также обучает VW но для другой задачи - он может подключить свои VW к этому же spanning_tree указав для них unique_id = 0. В таком случае вам, чтобы подключиться, нужно запускать свои рабочие например с unique_id = 5, чтобы они не смешались с рабочими вашего коллеги.\n",
    "* `--total` - число рабочих, которое вы планируете подключить в текущей сессии обучения\n",
    "* `--node` - идентификатор текущего рабочего. Нумерация начинается с нуля, поэтому если вы хотите запустить 3 рабочих, то им нужно выдать значения для --node 0, 1 и 2.\n",
    "* `-d` - данные для обработки для текущего рабочего\n",
    "Все остальные параметры обучения должны быть одинаковыми для всех рабочих.\n",
    "\n",
    "Чтобы сохранить коэффициенты полученной модели, необходимо для какого-то одного рабочего указать через `-f` или `--final_regressor` файл, куда записать результат. Точно также, как мы это делали в предыдущей лабораторной.\n",
    "\n",
    "Запустим двух рабочих. Первого запустим также в фоне, а вот второй запустим прямо в ноутбуке и будем следить за процессом обучения."
   ]
  },
  {
   "cell_type": "code",
   "execution_count": 45,
   "metadata": {
    "cell_status": {
     "execute_time": {
      "duration": 13.574951171875,
      "end_time": 1613990892362.47
     }
    }
   },
   "outputs": [],
   "source": [
    "%%bash --bg --out OUT --err ERR\n",
    "\n",
    "vw -d train.part1.vw \\\n",
    "    --span_server localhost \\\n",
    "    --total 2 \\\n",
    "    --node 0 \\\n",
    "    --unique_id 1 \\\n",
    "    --learning_rate 20.0 \\\n",
    "    --bit_precision 23 \\\n",
    "    --passes 40 \\\n",
    "    --ngram r2 \\\n",
    "    --interactions dc \\\n",
    "    --cache -k"
   ]
  },
  {
   "cell_type": "code",
   "execution_count": 46,
   "metadata": {
    "cell_status": {
     "execute_time": {
      "duration": 238.797119140625,
      "end_time": 1613990892776.134
     }
    }
   },
   "outputs": [
    {
     "name": "stdout",
     "output_type": "stream",
     "text": [
      "ubuntu     18954  0.0  1.5 222760 127132 ?       Rl   12:16   0:00 vw -d train.part1.vw --span_server localhost --total 2 --node 0 --unique_id 1 --learning_rate 20.0 --bit_precision 23 --passes 40 --ngram r2 --interactions dc --cache -k\r\n",
      "ubuntu     18956  0.0  0.0   9492  3208 pts/0    Ss+  12:16   0:00 /bin/bash -c  ps aux | grep vw\r\n",
      "ubuntu     18958  0.0  0.0   8900   712 pts/0    R+   12:16   0:00 grep vw\r\n"
     ]
    }
   ],
   "source": [
    "! ps aux | grep vw"
   ]
  },
  {
   "cell_type": "code",
   "execution_count": 48,
   "metadata": {
    "cell_status": {
     "execute_time": {
      "duration": 36841.71484375,
      "end_time": 1613990929623.276
     }
    }
   },
   "outputs": [
    {
     "name": "stdout",
     "output_type": "stream",
     "text": [
      "Generating 2-grams for r namespaces.\n",
      "creating features for following interactions: dc \n",
      "final_regressor = drugs.model.bin\n",
      "Num weight bits = 23\n",
      "learning rate = 20\n",
      "initial_t = 0\n",
      "power_t = 0.5\n",
      "decay_learning_rate = 1\n",
      "creating cache_file = train.part2.vw.cache\n",
      "Reading datafile = train.part2.vw\n",
      "num sources = 1\n",
      "Enabled reductions: gd, scorer\n",
      "average  since         example        example  current  current  current\n",
      "loss     last          counter         weight    label  predict features\n",
      "4.000000 4.000000            1            1.0   2.0000   0.0000      207\n",
      "9.166723 14.333446            2            2.0   4.0000   0.2140       61\n",
      "42.704962 76.243202            4            4.0   0.0000   6.1127      235\n",
      "53.751544 64.798126            8            8.0  18.0000   2.1770      203\n",
      "53.708574 53.665604           16           16.0  24.0000   6.9774      155\n",
      "40.367511 27.026447           32           32.0   3.0000   6.5818      273\n",
      "45.832557 51.297603           64           64.0   2.0000   8.2354      245\n",
      "109.074974 172.317392          128          128.0  24.0000  16.8396      213\n",
      "673.354866 1237.634757          256          256.0  76.0000  14.3099      279\n",
      "1015.136478 1356.918090          512          512.0  23.0000  39.7633      201\n",
      "911.819452 808.502427         1024         1024.0  65.0000  15.4694       83\n",
      "642.289911 372.760370         2048         2048.0   6.0000   0.0000      291\n",
      "821.871644 1001.453378         4096         4096.0  25.0000  37.0418      301\n",
      "1133.981974 1446.092304         8192         8192.0   6.0000   4.2844      311\n",
      "1040.096814 946.211655        16384        16384.0  21.0000  27.3926      277\n",
      "994.843446 949.590078        32768        32768.0  33.0000  43.9167       43\n",
      "912.797242 830.751038        65536        65536.0  28.0000  21.0527       15\n",
      "connecting to 127.0.0.1 = localhost:26543\n",
      "wrote unique_id=1\n",
      "wrote total=2\n",
      "wrote node=1\n",
      "read ok=1\n",
      "read kid_count=1\n",
      "read parent_ip=255.255.255.255\n",
      "read parent_port=65535\n",
      "912.170144 912.170144       131072       131072.0  11.0000  13.0508      137 h\n",
      "799.834497 687.498849       262144       262144.0   9.0000  10.3241      145 h\n",
      "675.028637 550.227062       524288       524288.0   7.0000   6.3030      195 h\n",
      "606.715241 538.401845      1048576      1048576.0  29.0000  31.0512      301 h\n",
      "\n",
      "finished run\n",
      "number of examples per pass = 153905\n",
      "passes used = 23\n",
      "weighted example sum = 3539815.000000\n",
      "weighted label sum = 100209848.000000\n",
      "average loss = 1115.867188 h\n",
      "best constant = 28.309345\n",
      "total feature number = 623893120\n",
      "CPU times: user 725 ms, sys: 57.7 ms, total: 783 ms\n",
      "Wall time: 47.5 s\n"
     ]
    }
   ],
   "source": [
    "%%time\n",
    "\n",
    "! vw -d train.part2.vw \\\n",
    "    --span_server localhost \\\n",
    "    --total 2 \\\n",
    "    --node 1 \\\n",
    "    --unique_id 1 \\\n",
    "    --learning_rate 20.0 \\\n",
    "    --bit_precision 23 \\\n",
    "    --passes 30 \\\n",
    "    --ngram r2 \\\n",
    "    --interactions dc \\\n",
    "    --cache -k \\\n",
    "    -f drugs.model.bin"
   ]
  },
  {
   "cell_type": "code",
   "execution_count": 43,
   "metadata": {
    "cell_status": {
     "execute_time": {
      "duration": 385.595947265625,
      "end_time": 1613990930014.148
     }
    }
   },
   "outputs": [
    {
     "name": "stdout",
     "output_type": "stream",
     "text": [
      "Generating 2-grams for r namespaces.\n",
      "creating features for following interactions: dc \n",
      "only testing\n",
      "predictions = drugs.preductions.txt\n",
      "Num weight bits = 23\n",
      "learning rate = 0.5\n",
      "initial_t = 0\n",
      "power_t = 0.5\n",
      "using no cache\n",
      "Reading datafile = test.vw\n",
      "num sources = 1\n",
      "Enabled reductions: gd, scorer\n",
      "average  since         example        example  current  current  current\n",
      "loss     last          counter         weight    label  predict features\n",
      "2.849555 2.849555            1            1.0   2.0000   3.6881      317\n",
      "3.424778 4.000000            2            2.0   2.0000   0.0000      237\n",
      "6.356657 9.288537            4            4.0  10.0000  13.0947      163\n",
      "34.073244 61.789832            8            8.0   1.0000  16.2863       59\n",
      "32.563332 31.053420           16           16.0   2.0000  16.5415      285\n",
      "31.656058 30.748784           32           32.0   7.0000   3.2724      125\n",
      "82.980499 134.304941           64           64.0  10.0000  43.8365      175\n",
      "333.861668 584.742837          128          128.0  36.0000  33.4536      215\n",
      "251.625093 169.388518          256          256.0  12.0000  17.0271       95\n",
      "207.968365 164.311637          512          512.0   2.0000   0.0000      161\n",
      "426.491306 645.014246         1024         1024.0 101.0000 106.3550      175\n",
      "436.934750 447.378194         2048         2048.0   0.0000   6.0057      191\n",
      "479.735384 522.536018         4096         4096.0  65.0000  49.4455       47\n",
      "522.162819 564.590255         8192         8192.0   7.0000   0.0000      303\n",
      "483.762786 445.362753        16384        16384.0  30.0000  39.8361       33\n",
      "\n",
      "finished run\n",
      "number of examples = 18906\n",
      "weighted example sum = 18906.000000\n",
      "weighted label sum = 535907.000000\n",
      "average loss = 476.209406\n",
      "best constant = 28.345869\n",
      "total feature number = 3339722\n"
     ]
    }
   ],
   "source": [
    "! vw --testonly --initial_regressor drugs.model.bin --predictions drugs.preductions.txt test.vw"
   ]
  },
  {
   "cell_type": "code",
   "execution_count": 49,
   "metadata": {
    "cell_status": {
     "execute_time": {
      "duration": 134.175048828125,
      "end_time": 1613990930153.721
     }
    }
   },
   "outputs": [
    {
     "data": {
      "text/plain": [
       "0.6496397151076883"
      ]
     },
     "execution_count": 49,
     "metadata": {},
     "output_type": "execute_result"
    }
   ],
   "source": [
    "calc_r2('drugs.preductions.txt', 'test.vw')"
   ]
  },
  {
   "cell_type": "markdown",
   "metadata": {},
   "source": [
    "Качество получилось даже немного больше, чем при одиночном запуске.\n",
    "\n",
    "Сильного ускорения по времени мы не увидели, потому что мы все это запускаем на одной машине. Однако если запускать эти воркеры на разных машинах и на больших объемах данных, то можно увидеть сильное ускорение процесса обучения.\n",
    "\n",
    "И основное достижение этого алгоритма - теперь мы можем размещать данные по нескольким машинам, что позволяет нам теоретически обработать датасет произвольного размера."
   ]
  },
  {
   "cell_type": "code",
   "execution_count": null,
   "metadata": {},
   "outputs": [],
   "source": []
  },
  {
   "cell_type": "markdown",
   "metadata": {},
   "source": [
    "### VW на Hadoop\n",
    "\n",
    "VW достаточно несложно запустить в виде обычной MapReduce задачи. Для этого даже есть готовый скрипт, который написан авторами инструмента. \n",
    "\n",
    "Почитать про то, как запускать этот инструмент на Hadoop можно вот здесь - https://github.com/VowpalWabbit/vowpal_wabbit/tree/master/cluster .\n",
    "\n",
    "Мы же с вами более внимательно рассмотрим более удобный интерфейс для распределенного обучения VW на кластере."
   ]
  },
  {
   "cell_type": "markdown",
   "metadata": {
    "collapsed": true
   },
   "source": [
    "### SynapseML\n",
    "\n",
    "Существует целый набор библиотек для Spark от Microsoft, который позволяет удобно и быстро запускать распределенные алгоритмы на кластере Spark. Про все возможности можно почитать на официальном GitHub - https://github.com/microsoft/SynapseML\n",
    "\n",
    "Мы с вами воспользуемся двумя инструментами оттуда - VW и LightGBM (градиентный бустинг).\n",
    "\n",
    "\n",
    "Чтобы поставить SynapseML в окружение с lyvi , достаточно просто переконфигурировать сессию спарка."
   ]
  },
  {
   "cell_type": "code",
   "execution_count": null,
   "metadata": {},
   "outputs": [],
   "source": [
    "! cd /home/ubuntu/.ivy2/jars && \\\n",
    "    cp io.netty_netty-transport-native-epoll-4.1.68.Final-linux-x86_64.jar io.netty_netty-transport-native-epoll-4.1.68.Final.jar && \\\n",
    "    cp io.netty_netty-transport-native-kqueue-4.1.68.Final-osx-x86_64.jar io.netty_netty-transport-native-kqueue-4.1.68.Final.jar && \\\n",
    "    cp io.netty_netty-resolver-dns-native-macos-4.1.68.Final-osx-x86_64.jar io.netty_netty-resolver-dns-native-macos-4.1.68.Final.jar"
   ]
  },
  {
   "cell_type": "code",
   "execution_count": 1,
   "metadata": {},
   "outputs": [],
   "source": [
    "import findspark\n",
    "findspark.init()"
   ]
  },
  {
   "cell_type": "code",
   "execution_count": 2,
   "metadata": {},
   "outputs": [],
   "source": [
    "import pyspark\n",
    "se = pyspark.sql.SparkSession.builder.appName(\"MyApp2\") \\\n",
    "            .config(\"spark.jars.packages\", \"com.microsoft.azure:synapseml_2.12:0.9.5\") \\\n",
    "            .config(\"spark.dynamicAllocation.enabled\", False) \\\n",
    "            .config(\"spark.locality.wait\", 0) \\\n",
    "            .getOrCreate()\n"
   ]
  },
  {
   "cell_type": "code",
   "execution_count": null,
   "metadata": {},
   "outputs": [],
   "source": []
  },
  {
   "cell_type": "code",
   "execution_count": 3,
   "metadata": {
    "cell_status": {
     "execute_time": {
      "duration": 39.697021484375,
      "end_time": 1613995620888.398
     }
    }
   },
   "outputs": [],
   "source": [
    "from pyspark.sql.functions import when, col\n",
    "from pyspark.ml import Pipeline\n",
    "from synapse.ml.vw import VowpalWabbitFeaturizer, VowpalWabbitRegressor"
   ]
  },
  {
   "cell_type": "code",
   "execution_count": 4,
   "metadata": {
    "cell_status": {
     "execute_time": {
      "duration": 2252.64794921875,
      "end_time": 1613995623288.365
     }
    }
   },
   "outputs": [],
   "source": [
    "data = se.read.option(\"delimiter\", \"\\t\").csv('/user/drugs/data/*', header=True, inferSchema=True)"
   ]
  },
  {
   "cell_type": "code",
   "execution_count": 5,
   "metadata": {},
   "outputs": [
    {
     "data": {
      "text/html": [
       "<div>\n",
       "<style scoped>\n",
       "    .dataframe tbody tr th:only-of-type {\n",
       "        vertical-align: middle;\n",
       "    }\n",
       "\n",
       "    .dataframe tbody tr th {\n",
       "        vertical-align: top;\n",
       "    }\n",
       "\n",
       "    .dataframe thead th {\n",
       "        text-align: right;\n",
       "    }\n",
       "</style>\n",
       "<table border=\"1\" class=\"dataframe\">\n",
       "  <thead>\n",
       "    <tr style=\"text-align: right;\">\n",
       "      <th></th>\n",
       "      <th>_c0</th>\n",
       "      <th>drugName</th>\n",
       "      <th>condition</th>\n",
       "      <th>review</th>\n",
       "      <th>rating</th>\n",
       "      <th>date</th>\n",
       "      <th>usefulCount</th>\n",
       "    </tr>\n",
       "  </thead>\n",
       "  <tbody>\n",
       "    <tr>\n",
       "      <th>0</th>\n",
       "      <td>206461</td>\n",
       "      <td>Valsartan</td>\n",
       "      <td>Left Ventricular Dysfunction</td>\n",
       "      <td>\"\"\"It has no side effect, I take it in combina...</td>\n",
       "      <td>9.0</td>\n",
       "      <td>May 20, 2012</td>\n",
       "      <td>27.0</td>\n",
       "    </tr>\n",
       "    <tr>\n",
       "      <th>1</th>\n",
       "      <td>95260</td>\n",
       "      <td>Guanfacine</td>\n",
       "      <td>ADHD</td>\n",
       "      <td>\"\"\"My son is halfway through his fourth week o...</td>\n",
       "      <td>None</td>\n",
       "      <td>None</td>\n",
       "      <td>NaN</td>\n",
       "    </tr>\n",
       "    <tr>\n",
       "      <th>2</th>\n",
       "      <td>We have tried many different medications and s...</td>\n",
       "      <td>8.0</td>\n",
       "      <td>April 27, 2010</td>\n",
       "      <td>192</td>\n",
       "      <td>None</td>\n",
       "      <td>None</td>\n",
       "      <td>NaN</td>\n",
       "    </tr>\n",
       "    <tr>\n",
       "      <th>3</th>\n",
       "      <td>92703</td>\n",
       "      <td>Lybrel</td>\n",
       "      <td>Birth Control</td>\n",
       "      <td>\"\"\"I used to take another oral contraceptive, ...</td>\n",
       "      <td>None</td>\n",
       "      <td>None</td>\n",
       "      <td>NaN</td>\n",
       "    </tr>\n",
       "    <tr>\n",
       "      <th>4</th>\n",
       "      <td>The positive side is that I didn&amp;#039;t have a...</td>\n",
       "      <td>5.0</td>\n",
       "      <td>December 14, 2009</td>\n",
       "      <td>17</td>\n",
       "      <td>None</td>\n",
       "      <td>None</td>\n",
       "      <td>NaN</td>\n",
       "    </tr>\n",
       "    <tr>\n",
       "      <th>5</th>\n",
       "      <td>138000</td>\n",
       "      <td>Ortho Evra</td>\n",
       "      <td>Birth Control</td>\n",
       "      <td>\"\"\"This is my first time using any form of bir...</td>\n",
       "      <td>8.0</td>\n",
       "      <td>November 3, 2015</td>\n",
       "      <td>10.0</td>\n",
       "    </tr>\n",
       "    <tr>\n",
       "      <th>6</th>\n",
       "      <td>35696</td>\n",
       "      <td>Buprenorphine / naloxone</td>\n",
       "      <td>Opiate Dependence</td>\n",
       "      <td>\"\"\"Suboxone has completely turned my life arou...</td>\n",
       "      <td>9.0</td>\n",
       "      <td>November 27, 2016</td>\n",
       "      <td>37.0</td>\n",
       "    </tr>\n",
       "    <tr>\n",
       "      <th>7</th>\n",
       "      <td>155963</td>\n",
       "      <td>Cialis</td>\n",
       "      <td>Benign Prostatic Hyperplasia</td>\n",
       "      <td>\"\"\"2nd day on 5mg started to work with rock ha...</td>\n",
       "      <td>2.0</td>\n",
       "      <td>November 28, 2015</td>\n",
       "      <td>43.0</td>\n",
       "    </tr>\n",
       "    <tr>\n",
       "      <th>8</th>\n",
       "      <td>165907</td>\n",
       "      <td>Levonorgestrel</td>\n",
       "      <td>Emergency Contraception</td>\n",
       "      <td>\"\"\"He pulled out, but he cummed a bit in me. I...</td>\n",
       "      <td>1.0</td>\n",
       "      <td>March 7, 2017</td>\n",
       "      <td>5.0</td>\n",
       "    </tr>\n",
       "    <tr>\n",
       "      <th>9</th>\n",
       "      <td>102654</td>\n",
       "      <td>Aripiprazole</td>\n",
       "      <td>Bipolar Disorde</td>\n",
       "      <td>\"\"\"Abilify changed my life. There is hope. I w...</td>\n",
       "      <td>10.0</td>\n",
       "      <td>March 14, 2015</td>\n",
       "      <td>32.0</td>\n",
       "    </tr>\n",
       "  </tbody>\n",
       "</table>\n",
       "</div>"
      ],
      "text/plain": [
       "                                                 _c0  \\\n",
       "0                                             206461   \n",
       "1                                              95260   \n",
       "2  We have tried many different medications and s...   \n",
       "3                                              92703   \n",
       "4  The positive side is that I didn&#039;t have a...   \n",
       "5                                             138000   \n",
       "6                                              35696   \n",
       "7                                             155963   \n",
       "8                                             165907   \n",
       "9                                             102654   \n",
       "\n",
       "                   drugName                     condition  \\\n",
       "0                 Valsartan  Left Ventricular Dysfunction   \n",
       "1                Guanfacine                          ADHD   \n",
       "2                       8.0                April 27, 2010   \n",
       "3                    Lybrel                 Birth Control   \n",
       "4                       5.0             December 14, 2009   \n",
       "5                Ortho Evra                 Birth Control   \n",
       "6  Buprenorphine / naloxone             Opiate Dependence   \n",
       "7                    Cialis  Benign Prostatic Hyperplasia   \n",
       "8            Levonorgestrel       Emergency Contraception   \n",
       "9              Aripiprazole               Bipolar Disorde   \n",
       "\n",
       "                                              review rating  \\\n",
       "0  \"\"\"It has no side effect, I take it in combina...    9.0   \n",
       "1  \"\"\"My son is halfway through his fourth week o...   None   \n",
       "2                                                192   None   \n",
       "3  \"\"\"I used to take another oral contraceptive, ...   None   \n",
       "4                                                 17   None   \n",
       "5  \"\"\"This is my first time using any form of bir...    8.0   \n",
       "6  \"\"\"Suboxone has completely turned my life arou...    9.0   \n",
       "7  \"\"\"2nd day on 5mg started to work with rock ha...    2.0   \n",
       "8  \"\"\"He pulled out, but he cummed a bit in me. I...    1.0   \n",
       "9  \"\"\"Abilify changed my life. There is hope. I w...   10.0   \n",
       "\n",
       "                date  usefulCount  \n",
       "0       May 20, 2012         27.0  \n",
       "1               None          NaN  \n",
       "2               None          NaN  \n",
       "3               None          NaN  \n",
       "4               None          NaN  \n",
       "5   November 3, 2015         10.0  \n",
       "6  November 27, 2016         37.0  \n",
       "7  November 28, 2015         43.0  \n",
       "8      March 7, 2017          5.0  \n",
       "9     March 14, 2015         32.0  "
      ]
     },
     "execution_count": 5,
     "metadata": {},
     "output_type": "execute_result"
    }
   ],
   "source": [
    "data.limit(10).toPandas()"
   ]
  },
  {
   "cell_type": "code",
   "execution_count": 6,
   "metadata": {},
   "outputs": [
    {
     "data": {
      "text/plain": [
       "['_c0', 'drugName', 'condition', 'review', 'rating', 'date', 'usefulCount']"
      ]
     },
     "execution_count": 6,
     "metadata": {},
     "output_type": "execute_result"
    }
   ],
   "source": [
    "data.columns"
   ]
  },
  {
   "cell_type": "code",
   "execution_count": 7,
   "metadata": {},
   "outputs": [
    {
     "name": "stdout",
     "output_type": "stream",
     "text": [
      "root\n",
      " |-- _c0: string (nullable = true)\n",
      " |-- d: string (nullable = true)\n",
      " |-- c: string (nullable = true)\n",
      " |-- r: string (nullable = true)\n",
      " |-- rating: string (nullable = true)\n",
      " |-- data: string (nullable = true)\n",
      " |-- target: integer (nullable = true)\n",
      "\n"
     ]
    }
   ],
   "source": [
    "columns = [\n",
    "    '_c0',\n",
    "    'd',\n",
    "    'c',\n",
    "    'r',\n",
    "    'rating',\n",
    "    'data',\n",
    "    'target',\n",
    "]\n",
    "df = data.toDF(*columns)\n",
    "df.printSchema()"
   ]
  },
  {
   "cell_type": "code",
   "execution_count": 8,
   "metadata": {
    "cell_status": {
     "execute_time": {
      "duration": 234.337158203125,
      "end_time": 1613995623531.917
     }
    }
   },
   "outputs": [],
   "source": [
    "train, test = (\n",
    "    df\n",
    "    .na.drop('any')\n",
    "    .randomSplit([0.9, 0.1], 422)\n",
    ")"
   ]
  },
  {
   "cell_type": "code",
   "execution_count": 9,
   "metadata": {
    "cell_status": {
     "execute_time": {
      "duration": 741.008056640625,
      "end_time": 1613995624283.641
     }
    }
   },
   "outputs": [
    {
     "data": {
      "text/html": [
       "<div>\n",
       "<style scoped>\n",
       "    .dataframe tbody tr th:only-of-type {\n",
       "        vertical-align: middle;\n",
       "    }\n",
       "\n",
       "    .dataframe tbody tr th {\n",
       "        vertical-align: top;\n",
       "    }\n",
       "\n",
       "    .dataframe thead th {\n",
       "        text-align: right;\n",
       "    }\n",
       "</style>\n",
       "<table border=\"1\" class=\"dataframe\">\n",
       "  <thead>\n",
       "    <tr style=\"text-align: right;\">\n",
       "      <th></th>\n",
       "      <th>_c0</th>\n",
       "      <th>d</th>\n",
       "      <th>c</th>\n",
       "      <th>r</th>\n",
       "      <th>rating</th>\n",
       "      <th>data</th>\n",
       "      <th>target</th>\n",
       "    </tr>\n",
       "  </thead>\n",
       "  <tbody>\n",
       "    <tr>\n",
       "      <th>0</th>\n",
       "      <td>10000</td>\n",
       "      <td>Lo Loestrin Fe</td>\n",
       "      <td>Birth Control</td>\n",
       "      <td>\"\"\"I was on this birth control for 8 months. T...</td>\n",
       "      <td>7.0</td>\n",
       "      <td>April 10, 2013</td>\n",
       "      <td>4</td>\n",
       "    </tr>\n",
       "    <tr>\n",
       "      <th>1</th>\n",
       "      <td>100012</td>\n",
       "      <td>Desogestrel / ethinyl estradiol</td>\n",
       "      <td>Birth Control</td>\n",
       "      <td>\"\"\"I&amp;#039;ve been taking Velivet for about a y...</td>\n",
       "      <td>9.0</td>\n",
       "      <td>June 17, 2017</td>\n",
       "      <td>2</td>\n",
       "    </tr>\n",
       "    <tr>\n",
       "      <th>2</th>\n",
       "      <td>100013</td>\n",
       "      <td>Desogestrel / ethinyl estradiol</td>\n",
       "      <td>Birth Control</td>\n",
       "      <td>\"\"\"Gives me heartburn and indigestion. Also ma...</td>\n",
       "      <td>2.0</td>\n",
       "      <td>June 8, 2017</td>\n",
       "      <td>1</td>\n",
       "    </tr>\n",
       "    <tr>\n",
       "      <th>3</th>\n",
       "      <td>100029</td>\n",
       "      <td>Desogestrel / ethinyl estradiol</td>\n",
       "      <td>Birth Control</td>\n",
       "      <td>\"\"\"I was switched from Azurette to Viorele by ...</td>\n",
       "      <td>5.0</td>\n",
       "      <td>December 6, 2017</td>\n",
       "      <td>0</td>\n",
       "    </tr>\n",
       "    <tr>\n",
       "      <th>4</th>\n",
       "      <td>10004</td>\n",
       "      <td>Lo Loestrin Fe</td>\n",
       "      <td>Birth Control</td>\n",
       "      <td>\"\"\"I&amp;#039;m 41, using for cramps and excessive...</td>\n",
       "      <td>2.0</td>\n",
       "      <td>March 31, 2013</td>\n",
       "      <td>12</td>\n",
       "    </tr>\n",
       "    <tr>\n",
       "      <th>5</th>\n",
       "      <td>100055</td>\n",
       "      <td>Desogestrel / ethinyl estradiol</td>\n",
       "      <td>Birth Control</td>\n",
       "      <td>\"\"\"I was on Apri for about a year. The first f...</td>\n",
       "      <td>5.0</td>\n",
       "      <td>May 2, 2017</td>\n",
       "      <td>1</td>\n",
       "    </tr>\n",
       "    <tr>\n",
       "      <th>6</th>\n",
       "      <td>10007</td>\n",
       "      <td>Lo Loestrin Fe</td>\n",
       "      <td>Birth Control</td>\n",
       "      <td>\"\"\"I posted on this forum when I first started...</td>\n",
       "      <td>9.0</td>\n",
       "      <td>March 10, 2013</td>\n",
       "      <td>18</td>\n",
       "    </tr>\n",
       "    <tr>\n",
       "      <th>7</th>\n",
       "      <td>100071</td>\n",
       "      <td>Desogestrel / ethinyl estradiol</td>\n",
       "      <td>Birth Control</td>\n",
       "      <td>\"\"\"So I&amp;#039;ve only been on this pill for a m...</td>\n",
       "      <td>8.0</td>\n",
       "      <td>March 7, 2017</td>\n",
       "      <td>7</td>\n",
       "    </tr>\n",
       "    <tr>\n",
       "      <th>8</th>\n",
       "      <td>100085</td>\n",
       "      <td>Desogestrel / ethinyl estradiol</td>\n",
       "      <td>Birth Control</td>\n",
       "      <td>\"\"\"I was on this for a year or two, I had been...</td>\n",
       "      <td>1.0</td>\n",
       "      <td>January 28, 2017</td>\n",
       "      <td>4</td>\n",
       "    </tr>\n",
       "    <tr>\n",
       "      <th>9</th>\n",
       "      <td>100087</td>\n",
       "      <td>Desogestrel / ethinyl estradiol</td>\n",
       "      <td>Birth Control</td>\n",
       "      <td>\"\"\"I&amp;#039;m 19 and have been on this birth con...</td>\n",
       "      <td>9.0</td>\n",
       "      <td>January 26, 2017</td>\n",
       "      <td>3</td>\n",
       "    </tr>\n",
       "    <tr>\n",
       "      <th>10</th>\n",
       "      <td>100088</td>\n",
       "      <td>Desogestrel / ethinyl estradiol</td>\n",
       "      <td>Birth Control</td>\n",
       "      <td>\"\"\"I switched to this birth control from Gilde...</td>\n",
       "      <td>10.0</td>\n",
       "      <td>January 19, 2017</td>\n",
       "      <td>4</td>\n",
       "    </tr>\n",
       "    <tr>\n",
       "      <th>11</th>\n",
       "      <td>100100</td>\n",
       "      <td>Desogestrel / ethinyl estradiol</td>\n",
       "      <td>Birth Control</td>\n",
       "      <td>\"\"\"I&amp;#039;ve been on Kariva for a months now a...</td>\n",
       "      <td>7.0</td>\n",
       "      <td>December 19, 2016</td>\n",
       "      <td>7</td>\n",
       "    </tr>\n",
       "    <tr>\n",
       "      <th>12</th>\n",
       "      <td>100101</td>\n",
       "      <td>Desogestrel / ethinyl estradiol</td>\n",
       "      <td>Birth Control</td>\n",
       "      <td>\"\"\"This birth control is amazing! I was defini...</td>\n",
       "      <td>10.0</td>\n",
       "      <td>December 18, 2016</td>\n",
       "      <td>5</td>\n",
       "    </tr>\n",
       "    <tr>\n",
       "      <th>13</th>\n",
       "      <td>100105</td>\n",
       "      <td>Desogestrel / ethinyl estradiol</td>\n",
       "      <td>Birth Control</td>\n",
       "      <td>\"\"\"For the most part, my experience on this me...</td>\n",
       "      <td>8.0</td>\n",
       "      <td>November 30, 2016</td>\n",
       "      <td>3</td>\n",
       "    </tr>\n",
       "    <tr>\n",
       "      <th>14</th>\n",
       "      <td>100107</td>\n",
       "      <td>Desogestrel / ethinyl estradiol</td>\n",
       "      <td>Birth Control</td>\n",
       "      <td>\"\"\"completely lost every bit of sex drive i ha...</td>\n",
       "      <td>5.0</td>\n",
       "      <td>November 23, 2016</td>\n",
       "      <td>1</td>\n",
       "    </tr>\n",
       "    <tr>\n",
       "      <th>15</th>\n",
       "      <td>100109</td>\n",
       "      <td>Desogestrel / ethinyl estradiol</td>\n",
       "      <td>Birth Control</td>\n",
       "      <td>\"\"\"My doc prescribed this for endometriosis. I...</td>\n",
       "      <td>9.0</td>\n",
       "      <td>November 21, 2016</td>\n",
       "      <td>7</td>\n",
       "    </tr>\n",
       "    <tr>\n",
       "      <th>16</th>\n",
       "      <td>100122</td>\n",
       "      <td>Desogestrel / ethinyl estradiol</td>\n",
       "      <td>Birth Control</td>\n",
       "      <td>\"\"\"Let me preface this by saying I have taken ...</td>\n",
       "      <td>10.0</td>\n",
       "      <td>November 3, 2016</td>\n",
       "      <td>3</td>\n",
       "    </tr>\n",
       "    <tr>\n",
       "      <th>17</th>\n",
       "      <td>100123</td>\n",
       "      <td>Desogestrel / ethinyl estradiol</td>\n",
       "      <td>Birth Control</td>\n",
       "      <td>\"\"\"I haven&amp;#039;t taken any BC in 5 years sinc...</td>\n",
       "      <td>1.0</td>\n",
       "      <td>November 2, 2016</td>\n",
       "      <td>2</td>\n",
       "    </tr>\n",
       "    <tr>\n",
       "      <th>18</th>\n",
       "      <td>100124</td>\n",
       "      <td>Desogestrel / ethinyl estradiol</td>\n",
       "      <td>Birth Control</td>\n",
       "      <td>\"\"\"Caused extreme vaginal dryness for me\"\"\"</td>\n",
       "      <td>1.0</td>\n",
       "      <td>November 2, 2016</td>\n",
       "      <td>1</td>\n",
       "    </tr>\n",
       "    <tr>\n",
       "      <th>19</th>\n",
       "      <td>100125</td>\n",
       "      <td>Desogestrel / ethinyl estradiol</td>\n",
       "      <td>Birth Control</td>\n",
       "      <td>\"\"\"Seems fine so far. Half way into my second ...</td>\n",
       "      <td>9.0</td>\n",
       "      <td>October 28, 2016</td>\n",
       "      <td>4</td>\n",
       "    </tr>\n",
       "  </tbody>\n",
       "</table>\n",
       "</div>"
      ],
      "text/plain": [
       "       _c0                                d              c  \\\n",
       "0    10000                   Lo Loestrin Fe  Birth Control   \n",
       "1   100012  Desogestrel / ethinyl estradiol  Birth Control   \n",
       "2   100013  Desogestrel / ethinyl estradiol  Birth Control   \n",
       "3   100029  Desogestrel / ethinyl estradiol  Birth Control   \n",
       "4    10004                   Lo Loestrin Fe  Birth Control   \n",
       "5   100055  Desogestrel / ethinyl estradiol  Birth Control   \n",
       "6    10007                   Lo Loestrin Fe  Birth Control   \n",
       "7   100071  Desogestrel / ethinyl estradiol  Birth Control   \n",
       "8   100085  Desogestrel / ethinyl estradiol  Birth Control   \n",
       "9   100087  Desogestrel / ethinyl estradiol  Birth Control   \n",
       "10  100088  Desogestrel / ethinyl estradiol  Birth Control   \n",
       "11  100100  Desogestrel / ethinyl estradiol  Birth Control   \n",
       "12  100101  Desogestrel / ethinyl estradiol  Birth Control   \n",
       "13  100105  Desogestrel / ethinyl estradiol  Birth Control   \n",
       "14  100107  Desogestrel / ethinyl estradiol  Birth Control   \n",
       "15  100109  Desogestrel / ethinyl estradiol  Birth Control   \n",
       "16  100122  Desogestrel / ethinyl estradiol  Birth Control   \n",
       "17  100123  Desogestrel / ethinyl estradiol  Birth Control   \n",
       "18  100124  Desogestrel / ethinyl estradiol  Birth Control   \n",
       "19  100125  Desogestrel / ethinyl estradiol  Birth Control   \n",
       "\n",
       "                                                    r rating  \\\n",
       "0   \"\"\"I was on this birth control for 8 months. T...    7.0   \n",
       "1   \"\"\"I&#039;ve been taking Velivet for about a y...    9.0   \n",
       "2   \"\"\"Gives me heartburn and indigestion. Also ma...    2.0   \n",
       "3   \"\"\"I was switched from Azurette to Viorele by ...    5.0   \n",
       "4   \"\"\"I&#039;m 41, using for cramps and excessive...    2.0   \n",
       "5   \"\"\"I was on Apri for about a year. The first f...    5.0   \n",
       "6   \"\"\"I posted on this forum when I first started...    9.0   \n",
       "7   \"\"\"So I&#039;ve only been on this pill for a m...    8.0   \n",
       "8   \"\"\"I was on this for a year or two, I had been...    1.0   \n",
       "9   \"\"\"I&#039;m 19 and have been on this birth con...    9.0   \n",
       "10  \"\"\"I switched to this birth control from Gilde...   10.0   \n",
       "11  \"\"\"I&#039;ve been on Kariva for a months now a...    7.0   \n",
       "12  \"\"\"This birth control is amazing! I was defini...   10.0   \n",
       "13  \"\"\"For the most part, my experience on this me...    8.0   \n",
       "14  \"\"\"completely lost every bit of sex drive i ha...    5.0   \n",
       "15  \"\"\"My doc prescribed this for endometriosis. I...    9.0   \n",
       "16  \"\"\"Let me preface this by saying I have taken ...   10.0   \n",
       "17  \"\"\"I haven&#039;t taken any BC in 5 years sinc...    1.0   \n",
       "18        \"\"\"Caused extreme vaginal dryness for me\"\"\"    1.0   \n",
       "19  \"\"\"Seems fine so far. Half way into my second ...    9.0   \n",
       "\n",
       "                 data  target  \n",
       "0      April 10, 2013       4  \n",
       "1       June 17, 2017       2  \n",
       "2        June 8, 2017       1  \n",
       "3    December 6, 2017       0  \n",
       "4      March 31, 2013      12  \n",
       "5         May 2, 2017       1  \n",
       "6      March 10, 2013      18  \n",
       "7       March 7, 2017       7  \n",
       "8    January 28, 2017       4  \n",
       "9    January 26, 2017       3  \n",
       "10   January 19, 2017       4  \n",
       "11  December 19, 2016       7  \n",
       "12  December 18, 2016       5  \n",
       "13  November 30, 2016       3  \n",
       "14  November 23, 2016       1  \n",
       "15  November 21, 2016       7  \n",
       "16   November 3, 2016       3  \n",
       "17   November 2, 2016       2  \n",
       "18   November 2, 2016       1  \n",
       "19   October 28, 2016       4  "
      ]
     },
     "execution_count": 9,
     "metadata": {},
     "output_type": "execute_result"
    }
   ],
   "source": [
    "train.limit(20).toPandas()"
   ]
  },
  {
   "cell_type": "markdown",
   "metadata": {},
   "source": [
    "Создадим объект для создания признаков в формате VW. Он принимает dataframe и возвращает dataframe но уже с новой колонкой, в которой записаны эти признаки"
   ]
  },
  {
   "cell_type": "code",
   "execution_count": 10,
   "metadata": {
    "cell_status": {
     "execute_time": {
      "duration": 38.982177734375,
      "end_time": 1613995624334.72
     }
    }
   },
   "outputs": [],
   "source": [
    "vw_featurizer = VowpalWabbitFeaturizer(\n",
    "    inputCols=[\"rating\"], \n",
    "    stringSplitInputCols=[\"d\", \"c\", \"r\"],\n",
    "    outputCol=\"features\",\n",
    "    numBits=24\n",
    ")"
   ]
  },
  {
   "cell_type": "code",
   "execution_count": 12,
   "metadata": {
    "cell_status": {
     "execute_time": {
      "duration": 2252.458984375,
      "end_time": 1613995626618.318
     }
    }
   },
   "outputs": [
    {
     "data": {
      "text/plain": [
       "SparseVector(16777216, {139281: 1.0, 1016583: 1.0, 1102820: 1.0, 1162472: 2.0, 1505820: 1.0, 2204132: 1.0, 2339869: 1.0, 2673967: 1.0, 2679020: 1.0, 2839966: 1.0, 2991125: 1.0, 3257429: 1.0, 3346639: 6.0, 3410361: 1.0, 3446374: 1.0, 3783103: 2.0, 3803230: 1.0, 4415074: 1.0, 4597225: 1.0, 4709980: 1.0, 4778637: 1.0, 4890812: 1.0, 5367110: 1.0, 5426661: 2.0, 5481570: 1.0, 5728618: 1.0, 5837165: 1.0, 5881332: 1.0, 6192782: 1.0, 6362983: 1.0, 6366072: 1.0, 6737743: 1.0, 7337106: 2.0, 7608613: 1.0, 7636861: 3.0, 8148668: 1.0, 8336163: 1.0, 8515415: 1.0, 9170487: 1.0, 9519332: 1.0, 9651660: 1.0, 9787552: 1.0, 9845063: 1.0, 9894590: 1.0, 9970646: 1.0, 10090473: 1.0, 10189708: 1.0, 11318998: 1.0, 11946903: 1.0, 12243560: 1.0, 12463287: 2.0, 12730453: 1.0, 12741825: 1.0, 13350349: 1.0, 13357553: 2.0, 13735132: 3.0, 13901790: 1.0, 14380379: 1.0, 14524688: 1.0, 14608623: 1.0, 14946398: 1.0, 15174436: 1.0, 15384876: 1.0, 15847749: 1.0, 16681717: 1.0, 16772414: 1.0})"
      ]
     },
     "execution_count": 12,
     "metadata": {},
     "output_type": "execute_result"
    }
   ],
   "source": [
    "x = vw_featurizer.transform(train).rdd.first()\n",
    "x['features']"
   ]
  },
  {
   "cell_type": "code",
   "execution_count": null,
   "metadata": {},
   "outputs": [],
   "source": []
  },
  {
   "cell_type": "markdown",
   "metadata": {},
   "source": [
    "Создадим объект для обучения классификатора. Схема работы точно такая же - принимает на вход dataframe и потом может модифицировать другой dataframe, делая предсказание."
   ]
  },
  {
   "cell_type": "code",
   "execution_count": 13,
   "metadata": {
    "cell_status": {
     "execute_time": {
      "duration": 243.45703125,
      "end_time": 1613995626869.473
     }
    }
   },
   "outputs": [],
   "source": [
    "args = \"--learning_rate 20.0 --bit_precision 24 --ngram r2 --interactions dc\"\n",
    "vw_model = VowpalWabbitRegressor(\n",
    "    featuresCol=\"features\",\n",
    "    labelCol=\"target\",\n",
    "    args=args,\n",
    "    numPasses=40\n",
    ")"
   ]
  },
  {
   "cell_type": "markdown",
   "metadata": {},
   "source": [
    "Соберем их в единый пайплайн"
   ]
  },
  {
   "cell_type": "code",
   "execution_count": 14,
   "metadata": {
    "cell_status": {
     "execute_time": {
      "duration": 38.97900390625,
      "end_time": 1613995626918.419
     }
    }
   },
   "outputs": [],
   "source": [
    "vw_pipeline = Pipeline(stages=[vw_featurizer, vw_model])"
   ]
  },
  {
   "cell_type": "code",
   "execution_count": 15,
   "metadata": {
    "cell_status": {
     "execute_time": {
      "duration": 59484.3818359375,
      "end_time": 1613995686444.083
     }
    }
   },
   "outputs": [],
   "source": [
    "vw_trained = vw_pipeline.fit(train)"
   ]
  },
  {
   "cell_type": "code",
   "execution_count": 17,
   "metadata": {
    "collapsed": true
   },
   "outputs": [
    {
     "name": "stdout",
     "output_type": "stream",
     "text": [
      "Help on PipelineModel in module pyspark.ml.pipeline object:\n",
      "\n",
      "class PipelineModel(pyspark.ml.base.Model, pyspark.ml.util.MLReadable, pyspark.ml.util.MLWritable)\n",
      " |  PipelineModel(stages)\n",
      " |  \n",
      " |  Represents a compiled pipeline with transformers and fitted models.\n",
      " |  \n",
      " |  .. versionadded:: 1.3.0\n",
      " |  \n",
      " |  Method resolution order:\n",
      " |      PipelineModel\n",
      " |      pyspark.ml.base.Model\n",
      " |      pyspark.ml.base.Transformer\n",
      " |      pyspark.ml.param.Params\n",
      " |      pyspark.ml.util.Identifiable\n",
      " |      pyspark.ml.util.MLReadable\n",
      " |      pyspark.ml.util.MLWritable\n",
      " |      builtins.object\n",
      " |  \n",
      " |  Methods defined here:\n",
      " |  \n",
      " |  __init__(self, stages)\n",
      " |      Initialize self.  See help(type(self)) for accurate signature.\n",
      " |  \n",
      " |  copy(self, extra=None)\n",
      " |      Creates a copy of this instance.\n",
      " |      \n",
      " |      :param extra: extra parameters\n",
      " |      :returns: new instance\n",
      " |      \n",
      " |      .. versionadded:: 1.4.0\n",
      " |  \n",
      " |  write(self)\n",
      " |      Returns an MLWriter instance for this ML instance.\n",
      " |      \n",
      " |      .. versionadded:: 2.0.0\n",
      " |  \n",
      " |  ----------------------------------------------------------------------\n",
      " |  Class methods defined here:\n",
      " |  \n",
      " |  read() from builtins.type\n",
      " |      Returns an MLReader instance for this class.\n",
      " |      \n",
      " |      .. versionadded:: 2.0.0\n",
      " |  \n",
      " |  ----------------------------------------------------------------------\n",
      " |  Data and other attributes inherited from pyspark.ml.base.Model:\n",
      " |  \n",
      " |  __metaclass__ = <class 'abc.ABCMeta'>\n",
      " |      Metaclass for defining Abstract Base Classes (ABCs).\n",
      " |      \n",
      " |      Use this metaclass to create an ABC.  An ABC can be subclassed\n",
      " |      directly, and then acts as a mix-in class.  You can also register\n",
      " |      unrelated concrete classes (even built-in classes) and unrelated\n",
      " |      ABCs as 'virtual subclasses' -- these and their descendants will\n",
      " |      be considered subclasses of the registering ABC by the built-in\n",
      " |      issubclass() function, but the registering ABC won't show up in\n",
      " |      their MRO (Method Resolution Order) nor will method\n",
      " |      implementations defined by the registering ABC be callable (not\n",
      " |      even via super()).\n",
      " |  \n",
      " |  ----------------------------------------------------------------------\n",
      " |  Methods inherited from pyspark.ml.base.Transformer:\n",
      " |  \n",
      " |  transform(self, dataset, params=None)\n",
      " |      Transforms the input dataset with optional parameters.\n",
      " |      \n",
      " |      :param dataset: input dataset, which is an instance of :py:class:`pyspark.sql.DataFrame`\n",
      " |      :param params: an optional param map that overrides embedded params.\n",
      " |      :returns: transformed dataset\n",
      " |      \n",
      " |      .. versionadded:: 1.3.0\n",
      " |  \n",
      " |  ----------------------------------------------------------------------\n",
      " |  Methods inherited from pyspark.ml.param.Params:\n",
      " |  \n",
      " |  clear(self, param)\n",
      " |      Clears a param from the param map if it has been explicitly set.\n",
      " |  \n",
      " |  explainParam(self, param)\n",
      " |      Explains a single param and returns its name, doc, and optional\n",
      " |      default value and user-supplied value in a string.\n",
      " |  \n",
      " |  explainParams(self)\n",
      " |      Returns the documentation of all params with their optionally\n",
      " |      default values and user-supplied values.\n",
      " |  \n",
      " |  extractParamMap(self, extra=None)\n",
      " |      Extracts the embedded default param values and user-supplied\n",
      " |      values, and then merges them with extra values from input into\n",
      " |      a flat param map, where the latter value is used if there exist\n",
      " |      conflicts, i.e., with ordering: default param values <\n",
      " |      user-supplied values < extra.\n",
      " |      \n",
      " |      :param extra: extra param values\n",
      " |      :return: merged param map\n",
      " |  \n",
      " |  getOrDefault(self, param)\n",
      " |      Gets the value of a param in the user-supplied param map or its\n",
      " |      default value. Raises an error if neither is set.\n",
      " |  \n",
      " |  getParam(self, paramName)\n",
      " |      Gets a param by its name.\n",
      " |  \n",
      " |  hasDefault(self, param)\n",
      " |      Checks whether a param has a default value.\n",
      " |  \n",
      " |  hasParam(self, paramName)\n",
      " |      Tests whether this instance contains a param with a given\n",
      " |      (string) name.\n",
      " |  \n",
      " |  isDefined(self, param)\n",
      " |      Checks whether a param is explicitly set by user or has\n",
      " |      a default value.\n",
      " |  \n",
      " |  isSet(self, param)\n",
      " |      Checks whether a param is explicitly set by user.\n",
      " |  \n",
      " |  set(self, param, value)\n",
      " |      Sets a parameter in the embedded param map.\n",
      " |  \n",
      " |  ----------------------------------------------------------------------\n",
      " |  Readonly properties inherited from pyspark.ml.param.Params:\n",
      " |  \n",
      " |  params\n",
      " |      Returns all params ordered by name. The default implementation\n",
      " |      uses :py:func:`dir` to get all attributes of type\n",
      " |      :py:class:`Param`.\n",
      " |  \n",
      " |  ----------------------------------------------------------------------\n",
      " |  Methods inherited from pyspark.ml.util.Identifiable:\n",
      " |  \n",
      " |  __repr__(self)\n",
      " |      Return repr(self).\n",
      " |  \n",
      " |  ----------------------------------------------------------------------\n",
      " |  Data descriptors inherited from pyspark.ml.util.Identifiable:\n",
      " |  \n",
      " |  __dict__\n",
      " |      dictionary for instance variables (if defined)\n",
      " |  \n",
      " |  __weakref__\n",
      " |      list of weak references to the object (if defined)\n",
      " |  \n",
      " |  ----------------------------------------------------------------------\n",
      " |  Class methods inherited from pyspark.ml.util.MLReadable:\n",
      " |  \n",
      " |  load(path) from builtins.type\n",
      " |      Reads an ML instance from the input path, a shortcut of `read().load(path)`.\n",
      " |  \n",
      " |  ----------------------------------------------------------------------\n",
      " |  Methods inherited from pyspark.ml.util.MLWritable:\n",
      " |  \n",
      " |  save(self, path)\n",
      " |      Save this ML instance to the given path, a shortcut of 'write().save(path)'.\n",
      "\n"
     ]
    }
   ],
   "source": [
    "help(vw_trained)"
   ]
  },
  {
   "cell_type": "code",
   "execution_count": 20,
   "metadata": {
    "cell_status": {
     "execute_time": {
      "duration": 236.666015625,
      "end_time": 1613995686690.678
     }
    }
   },
   "outputs": [],
   "source": [
    "prediction = vw_trained.transform(test)"
   ]
  },
  {
   "cell_type": "code",
   "execution_count": 21,
   "metadata": {
    "cell_status": {
     "execute_time": {
      "duration": 2271.975830078125,
      "end_time": 1613995688975.507
     }
    }
   },
   "outputs": [
    {
     "data": {
      "text/html": [
       "<div>\n",
       "<style scoped>\n",
       "    .dataframe tbody tr th:only-of-type {\n",
       "        vertical-align: middle;\n",
       "    }\n",
       "\n",
       "    .dataframe tbody tr th {\n",
       "        vertical-align: top;\n",
       "    }\n",
       "\n",
       "    .dataframe thead th {\n",
       "        text-align: right;\n",
       "    }\n",
       "</style>\n",
       "<table border=\"1\" class=\"dataframe\">\n",
       "  <thead>\n",
       "    <tr style=\"text-align: right;\">\n",
       "      <th></th>\n",
       "      <th>_c0</th>\n",
       "      <th>d</th>\n",
       "      <th>c</th>\n",
       "      <th>r</th>\n",
       "      <th>rating</th>\n",
       "      <th>data</th>\n",
       "      <th>target</th>\n",
       "      <th>features</th>\n",
       "      <th>rawPrediction</th>\n",
       "      <th>prediction</th>\n",
       "    </tr>\n",
       "  </thead>\n",
       "  <tbody>\n",
       "    <tr>\n",
       "      <th>0</th>\n",
       "      <td>100009</td>\n",
       "      <td>Desogestrel / ethinyl estradiol</td>\n",
       "      <td>Birth Control</td>\n",
       "      <td>\"\"\"I was on reclipsen for less than 2 weeks an...</td>\n",
       "      <td>1.0</td>\n",
       "      <td>June 28, 2017</td>\n",
       "      <td>2</td>\n",
       "      <td>(0.0, 0.0, 0.0, 0.0, 0.0, 0.0, 0.0, 0.0, 0.0, ...</td>\n",
       "      <td>0.000000</td>\n",
       "      <td>0.000000</td>\n",
       "    </tr>\n",
       "    <tr>\n",
       "      <th>1</th>\n",
       "      <td>10002</td>\n",
       "      <td>Lo Loestrin Fe</td>\n",
       "      <td>Birth Control</td>\n",
       "      <td>\"\"\"Well, I&amp;#039;ve been on this right now for ...</td>\n",
       "      <td>6.0</td>\n",
       "      <td>April 4, 2013</td>\n",
       "      <td>10</td>\n",
       "      <td>(0.0, 0.0, 0.0, 0.0, 0.0, 0.0, 0.0, 0.0, 0.0, ...</td>\n",
       "      <td>20.970982</td>\n",
       "      <td>20.970982</td>\n",
       "    </tr>\n",
       "    <tr>\n",
       "      <th>2</th>\n",
       "      <td>100091</td>\n",
       "      <td>Desogestrel / ethinyl estradiol</td>\n",
       "      <td>Birth Control</td>\n",
       "      <td>\"\"\"I started Apri a year and 4 months ago. Whe...</td>\n",
       "      <td>8.0</td>\n",
       "      <td>January 8, 2017</td>\n",
       "      <td>3</td>\n",
       "      <td>(0.0, 0.0, 0.0, 0.0, 0.0, 0.0, 0.0, 0.0, 0.0, ...</td>\n",
       "      <td>2.158262</td>\n",
       "      <td>2.158262</td>\n",
       "    </tr>\n",
       "    <tr>\n",
       "      <th>3</th>\n",
       "      <td>100094</td>\n",
       "      <td>Desogestrel / ethinyl estradiol</td>\n",
       "      <td>Birth Control</td>\n",
       "      <td>\"\"\"I started Apri after switching from a birth...</td>\n",
       "      <td>8.0</td>\n",
       "      <td>December 29, 2016</td>\n",
       "      <td>2</td>\n",
       "      <td>(0.0, 0.0, 0.0, 0.0, 0.0, 0.0, 0.0, 0.0, 0.0, ...</td>\n",
       "      <td>0.000000</td>\n",
       "      <td>0.000000</td>\n",
       "    </tr>\n",
       "    <tr>\n",
       "      <th>4</th>\n",
       "      <td>1001</td>\n",
       "      <td>Everolimus</td>\n",
       "      <td>Breast Cance</td>\n",
       "      <td>\"\"\"Stage 4 with lymph and bone bone metastasis...</td>\n",
       "      <td>10.0</td>\n",
       "      <td>August 31, 2015</td>\n",
       "      <td>16</td>\n",
       "      <td>(0.0, 0.0, 0.0, 0.0, 0.0, 0.0, 0.0, 0.0, 0.0, ...</td>\n",
       "      <td>43.083145</td>\n",
       "      <td>43.083145</td>\n",
       "    </tr>\n",
       "    <tr>\n",
       "      <th>5</th>\n",
       "      <td>100217</td>\n",
       "      <td>Desogestrel / ethinyl estradiol</td>\n",
       "      <td>Birth Control</td>\n",
       "      <td>\"\"\"Horrible experience! Has never had trouble ...</td>\n",
       "      <td>1.0</td>\n",
       "      <td>October 26, 2015</td>\n",
       "      <td>3</td>\n",
       "      <td>(0.0, 0.0, 0.0, 0.0, 0.0, 0.0, 0.0, 0.0, 0.0, ...</td>\n",
       "      <td>0.000000</td>\n",
       "      <td>0.000000</td>\n",
       "    </tr>\n",
       "    <tr>\n",
       "      <th>6</th>\n",
       "      <td>100242</td>\n",
       "      <td>Desogestrel / ethinyl estradiol</td>\n",
       "      <td>Birth Control</td>\n",
       "      <td>\"\"\"I first started with Reclipsen a year ago f...</td>\n",
       "      <td>10.0</td>\n",
       "      <td>December 28, 2015</td>\n",
       "      <td>1</td>\n",
       "      <td>(0.0, 0.0, 0.0, 0.0, 0.0, 0.0, 0.0, 0.0, 0.0, ...</td>\n",
       "      <td>0.000000</td>\n",
       "      <td>0.000000</td>\n",
       "    </tr>\n",
       "    <tr>\n",
       "      <th>7</th>\n",
       "      <td>100259</td>\n",
       "      <td>Desogestrel / ethinyl estradiol</td>\n",
       "      <td>Birth Control</td>\n",
       "      <td>\"\"\"I changed to this birth control at the advi...</td>\n",
       "      <td>4.0</td>\n",
       "      <td>September 21, 2015</td>\n",
       "      <td>2</td>\n",
       "      <td>(0.0, 0.0, 0.0, 0.0, 0.0, 0.0, 0.0, 0.0, 0.0, ...</td>\n",
       "      <td>22.114529</td>\n",
       "      <td>22.114529</td>\n",
       "    </tr>\n",
       "    <tr>\n",
       "      <th>8</th>\n",
       "      <td>100331</td>\n",
       "      <td>Desogestrel / ethinyl estradiol</td>\n",
       "      <td>Birth Control</td>\n",
       "      <td>\"\"\"I&amp;#039;ve been on this pill for almost a ye...</td>\n",
       "      <td>9.0</td>\n",
       "      <td>October 19, 2016</td>\n",
       "      <td>4</td>\n",
       "      <td>(0.0, 0.0, 0.0, 0.0, 0.0, 0.0, 0.0, 0.0, 0.0, ...</td>\n",
       "      <td>9.716254</td>\n",
       "      <td>9.716254</td>\n",
       "    </tr>\n",
       "    <tr>\n",
       "      <th>9</th>\n",
       "      <td>100337</td>\n",
       "      <td>Desogestrel / ethinyl estradiol</td>\n",
       "      <td>Birth Control</td>\n",
       "      <td>\"\"\"I&amp;#039;d say this is a good/decent pill ove...</td>\n",
       "      <td>9.0</td>\n",
       "      <td>October 3, 2016</td>\n",
       "      <td>1</td>\n",
       "      <td>(0.0, 0.0, 0.0, 0.0, 0.0, 0.0, 0.0, 0.0, 0.0, ...</td>\n",
       "      <td>5.560061</td>\n",
       "      <td>5.560061</td>\n",
       "    </tr>\n",
       "  </tbody>\n",
       "</table>\n",
       "</div>"
      ],
      "text/plain": [
       "      _c0                                d              c  \\\n",
       "0  100009  Desogestrel / ethinyl estradiol  Birth Control   \n",
       "1   10002                   Lo Loestrin Fe  Birth Control   \n",
       "2  100091  Desogestrel / ethinyl estradiol  Birth Control   \n",
       "3  100094  Desogestrel / ethinyl estradiol  Birth Control   \n",
       "4    1001                       Everolimus   Breast Cance   \n",
       "5  100217  Desogestrel / ethinyl estradiol  Birth Control   \n",
       "6  100242  Desogestrel / ethinyl estradiol  Birth Control   \n",
       "7  100259  Desogestrel / ethinyl estradiol  Birth Control   \n",
       "8  100331  Desogestrel / ethinyl estradiol  Birth Control   \n",
       "9  100337  Desogestrel / ethinyl estradiol  Birth Control   \n",
       "\n",
       "                                                   r rating  \\\n",
       "0  \"\"\"I was on reclipsen for less than 2 weeks an...    1.0   \n",
       "1  \"\"\"Well, I&#039;ve been on this right now for ...    6.0   \n",
       "2  \"\"\"I started Apri a year and 4 months ago. Whe...    8.0   \n",
       "3  \"\"\"I started Apri after switching from a birth...    8.0   \n",
       "4  \"\"\"Stage 4 with lymph and bone bone metastasis...   10.0   \n",
       "5  \"\"\"Horrible experience! Has never had trouble ...    1.0   \n",
       "6  \"\"\"I first started with Reclipsen a year ago f...   10.0   \n",
       "7  \"\"\"I changed to this birth control at the advi...    4.0   \n",
       "8  \"\"\"I&#039;ve been on this pill for almost a ye...    9.0   \n",
       "9  \"\"\"I&#039;d say this is a good/decent pill ove...    9.0   \n",
       "\n",
       "                 data  target  \\\n",
       "0       June 28, 2017       2   \n",
       "1       April 4, 2013      10   \n",
       "2     January 8, 2017       3   \n",
       "3   December 29, 2016       2   \n",
       "4     August 31, 2015      16   \n",
       "5    October 26, 2015       3   \n",
       "6   December 28, 2015       1   \n",
       "7  September 21, 2015       2   \n",
       "8    October 19, 2016       4   \n",
       "9     October 3, 2016       1   \n",
       "\n",
       "                                            features  rawPrediction  \\\n",
       "0  (0.0, 0.0, 0.0, 0.0, 0.0, 0.0, 0.0, 0.0, 0.0, ...       0.000000   \n",
       "1  (0.0, 0.0, 0.0, 0.0, 0.0, 0.0, 0.0, 0.0, 0.0, ...      20.970982   \n",
       "2  (0.0, 0.0, 0.0, 0.0, 0.0, 0.0, 0.0, 0.0, 0.0, ...       2.158262   \n",
       "3  (0.0, 0.0, 0.0, 0.0, 0.0, 0.0, 0.0, 0.0, 0.0, ...       0.000000   \n",
       "4  (0.0, 0.0, 0.0, 0.0, 0.0, 0.0, 0.0, 0.0, 0.0, ...      43.083145   \n",
       "5  (0.0, 0.0, 0.0, 0.0, 0.0, 0.0, 0.0, 0.0, 0.0, ...       0.000000   \n",
       "6  (0.0, 0.0, 0.0, 0.0, 0.0, 0.0, 0.0, 0.0, 0.0, ...       0.000000   \n",
       "7  (0.0, 0.0, 0.0, 0.0, 0.0, 0.0, 0.0, 0.0, 0.0, ...      22.114529   \n",
       "8  (0.0, 0.0, 0.0, 0.0, 0.0, 0.0, 0.0, 0.0, 0.0, ...       9.716254   \n",
       "9  (0.0, 0.0, 0.0, 0.0, 0.0, 0.0, 0.0, 0.0, 0.0, ...       5.560061   \n",
       "\n",
       "   prediction  \n",
       "0    0.000000  \n",
       "1   20.970982  \n",
       "2    2.158262  \n",
       "3    0.000000  \n",
       "4   43.083145  \n",
       "5    0.000000  \n",
       "6    0.000000  \n",
       "7   22.114529  \n",
       "8    9.716254  \n",
       "9    5.560061  "
      ]
     },
     "execution_count": 21,
     "metadata": {},
     "output_type": "execute_result"
    }
   ],
   "source": [
    "prediction.limit(10).toPandas()"
   ]
  },
  {
   "cell_type": "code",
   "execution_count": 22,
   "metadata": {
    "cell_status": {
     "execute_time": {
      "duration": 2255.380126953125,
      "end_time": 1613995691243.609
     }
    }
   },
   "outputs": [],
   "source": [
    "from synapse.ml.train import ComputeModelStatistics\n",
    "metrics = ComputeModelStatistics(\n",
    "    evaluationMetric='regression',\n",
    "    labelCol='target',\n",
    "    scoresCol='prediction'\n",
    ").transform(prediction)"
   ]
  },
  {
   "cell_type": "code",
   "execution_count": 23,
   "metadata": {
    "cell_status": {
     "execute_time": {
      "duration": 238.402099609375,
      "end_time": 1613995691492.945
     }
    }
   },
   "outputs": [
    {
     "data": {
      "text/html": [
       "<div>\n",
       "<style scoped>\n",
       "    .dataframe tbody tr th:only-of-type {\n",
       "        vertical-align: middle;\n",
       "    }\n",
       "\n",
       "    .dataframe tbody tr th {\n",
       "        vertical-align: top;\n",
       "    }\n",
       "\n",
       "    .dataframe thead th {\n",
       "        text-align: right;\n",
       "    }\n",
       "</style>\n",
       "<table border=\"1\" class=\"dataframe\">\n",
       "  <thead>\n",
       "    <tr style=\"text-align: right;\">\n",
       "      <th></th>\n",
       "      <th>mean_squared_error</th>\n",
       "      <th>root_mean_squared_error</th>\n",
       "      <th>R^2</th>\n",
       "      <th>mean_absolute_error</th>\n",
       "    </tr>\n",
       "  </thead>\n",
       "  <tbody>\n",
       "    <tr>\n",
       "      <th>0</th>\n",
       "      <td>684.964663</td>\n",
       "      <td>26.17183</td>\n",
       "      <td>0.475109</td>\n",
       "      <td>16.509441</td>\n",
       "    </tr>\n",
       "  </tbody>\n",
       "</table>\n",
       "</div>"
      ],
      "text/plain": [
       "   mean_squared_error  root_mean_squared_error       R^2  mean_absolute_error\n",
       "0          684.964663                 26.17183  0.475109            16.509441"
      ]
     },
     "execution_count": 23,
     "metadata": {},
     "output_type": "execute_result"
    }
   ],
   "source": [
    "metrics.toPandas()"
   ]
  },
  {
   "cell_type": "code",
   "execution_count": null,
   "metadata": {},
   "outputs": [],
   "source": []
  },
  {
   "cell_type": "code",
   "execution_count": null,
   "metadata": {},
   "outputs": [],
   "source": []
  },
  {
   "cell_type": "markdown",
   "metadata": {},
   "source": [
    "### SparkML\n",
    "\n",
    "Нужно отметить, что в стандартной библиотеке Spark присутствует модуль для машинного обучения.\n",
    "\n",
    "**ОДНАКО** нужно сказать, что работает он крайне плохо. Лучшее, что вы можете с ним сделать - это попробовать один раз его запустить и понять, что больше никогда не будете его использовать.\n",
    "\n",
    "Это правда важно, потому что это не звучит слишком убедительно, что стандартная библиотека для ML насколько уж плохо работет и наверное все таки есть случаи, когда она работает хорошо, правда ведь? Ответ - вполне возможно. Чтобы вам самим понять, есть ли такие случаи, попробуйте самостоятельно что-то обучить на SparkML и прочувствуйте границы применимости :)"
   ]
  },
  {
   "cell_type": "code",
   "execution_count": 1,
   "metadata": {},
   "outputs": [],
   "source": [
    "import findspark\n",
    "findspark.init()"
   ]
  },
  {
   "cell_type": "code",
   "execution_count": 2,
   "metadata": {},
   "outputs": [],
   "source": [
    "import pyspark\n",
    "sc = pyspark.SparkContext(appName=\"lsml-app-1\")"
   ]
  },
  {
   "cell_type": "code",
   "execution_count": 3,
   "metadata": {
    "cell_status": {
     "execute_time": {
      "duration": 761.909912109375,
      "end_time": 1614008059391.028
     }
    }
   },
   "outputs": [],
   "source": [
    "from pyspark.ml.classification import LogisticRegression\n",
    "from pyspark.ml.regression import LinearRegression\n",
    "from pyspark.ml.feature import HashingTF, IDF, Tokenizer\n",
    "from pyspark.ml import Pipeline\n",
    "from pyspark.ml.feature import OneHotEncoder, StringIndexer, VectorAssembler"
   ]
  },
  {
   "cell_type": "code",
   "execution_count": 4,
   "metadata": {},
   "outputs": [],
   "source": [
    "from pyspark.sql import SparkSession, Row\n",
    "\n",
    "se = SparkSession(sc)"
   ]
  },
  {
   "cell_type": "code",
   "execution_count": 5,
   "metadata": {
    "cell_status": {
     "execute_time": {
      "duration": 2289.341064453125,
      "end_time": 1614008102760.016
     }
    }
   },
   "outputs": [],
   "source": [
    "data = se.read.option(\"delimiter\", \"\\t\").csv('/user/drugs/data/*', header=True, inferSchema=True)"
   ]
  },
  {
   "cell_type": "code",
   "execution_count": 6,
   "metadata": {
    "cell_status": {
     "execute_time": {
      "duration": 268.247802734375,
      "end_time": 1614008103042.305
     }
    }
   },
   "outputs": [],
   "source": [
    "data = (\n",
    "    data\n",
    "    .na.drop('any')\n",
    "    .withColumn('ratingNum', data.rating.cast('integer'))\n",
    ")\n",
    "\n",
    "\n",
    "train, test = data.randomSplit([0.9, 0.1], 422)\n",
    "train, test = train.cache(), test.cache()"
   ]
  },
  {
   "cell_type": "code",
   "execution_count": null,
   "metadata": {
    "cell_status": {
     "execute_time": {
      "duration": 249.799072265625,
      "end_time": 1614002002346.306
     }
    }
   },
   "outputs": [],
   "source": []
  },
  {
   "cell_type": "code",
   "execution_count": 7,
   "metadata": {
    "cell_status": {
     "execute_time": {
      "duration": 11318.88916015625,
      "end_time": 1614002013693.811
     }
    }
   },
   "outputs": [],
   "source": [
    "tokenizer = Tokenizer(inputCol=\"review\", outputCol=\"words\")\n",
    "wordsData = tokenizer.transform(train)\n",
    "\n",
    "hashingTF = HashingTF(inputCol=\"words\", outputCol=\"rawFeatures\", numFeatures=2**23)\n",
    "featurizedData = hashingTF.transform(wordsData)\n",
    "idf = IDF(inputCol=\"rawFeatures\", outputCol=\"features\")\n",
    "idfModel = idf.fit(featurizedData)\n",
    "\n",
    "rescaledData = idfModel.transform(featurizedData)"
   ]
  },
  {
   "cell_type": "code",
   "execution_count": 8,
   "metadata": {
    "cell_status": {
     "execute_time": {
      "duration": 2270.119873046875,
      "end_time": 1614002015974.044
     }
    }
   },
   "outputs": [
    {
     "data": {
      "text/html": [
       "<div>\n",
       "<style scoped>\n",
       "    .dataframe tbody tr th:only-of-type {\n",
       "        vertical-align: middle;\n",
       "    }\n",
       "\n",
       "    .dataframe tbody tr th {\n",
       "        vertical-align: top;\n",
       "    }\n",
       "\n",
       "    .dataframe thead th {\n",
       "        text-align: right;\n",
       "    }\n",
       "</style>\n",
       "<table border=\"1\" class=\"dataframe\">\n",
       "  <thead>\n",
       "    <tr style=\"text-align: right;\">\n",
       "      <th></th>\n",
       "      <th>_c0</th>\n",
       "      <th>drugName</th>\n",
       "      <th>condition</th>\n",
       "      <th>review</th>\n",
       "      <th>rating</th>\n",
       "      <th>date</th>\n",
       "      <th>usefulCount</th>\n",
       "      <th>ratingNum</th>\n",
       "      <th>words</th>\n",
       "      <th>rawFeatures</th>\n",
       "      <th>features</th>\n",
       "    </tr>\n",
       "  </thead>\n",
       "  <tbody>\n",
       "    <tr>\n",
       "      <th>0</th>\n",
       "      <td>10</td>\n",
       "      <td>Medroxyprogesterone</td>\n",
       "      <td>Abnormal Uterine Bleeding</td>\n",
       "      <td>\"\"\"I&amp;#039;m 17 years old and I got shot in Aug...</td>\n",
       "      <td>7.0</td>\n",
       "      <td>October 20, 2015</td>\n",
       "      <td>2</td>\n",
       "      <td>7</td>\n",
       "      <td>[\"\"\"i&amp;#039;m, 17, years, old, and, i, got, sho...</td>\n",
       "      <td>(0.0, 0.0, 0.0, 0.0, 0.0, 0.0, 0.0, 0.0, 0.0, ...</td>\n",
       "      <td>(0.0, 0.0, 0.0, 0.0, 0.0, 0.0, 0.0, 0.0, 0.0, ...</td>\n",
       "    </tr>\n",
       "    <tr>\n",
       "      <th>1</th>\n",
       "      <td>1000</td>\n",
       "      <td>Everolimus</td>\n",
       "      <td>Breast Cance</td>\n",
       "      <td>\"\"\"Although the medication did effectively tre...</td>\n",
       "      <td>2.0</td>\n",
       "      <td>March 15, 2016</td>\n",
       "      <td>4</td>\n",
       "      <td>2</td>\n",
       "      <td>[\"\"\"although, the, medication, did, effectivel...</td>\n",
       "      <td>(0.0, 0.0, 0.0, 0.0, 0.0, 0.0, 0.0, 0.0, 0.0, ...</td>\n",
       "      <td>(0.0, 0.0, 0.0, 0.0, 0.0, 0.0, 0.0, 0.0, 0.0, ...</td>\n",
       "    </tr>\n",
       "    <tr>\n",
       "      <th>2</th>\n",
       "      <td>10000</td>\n",
       "      <td>Lo Loestrin Fe</td>\n",
       "      <td>Birth Control</td>\n",
       "      <td>\"\"\"I was on this birth control for 8 months. T...</td>\n",
       "      <td>7.0</td>\n",
       "      <td>April 10, 2013</td>\n",
       "      <td>4</td>\n",
       "      <td>7</td>\n",
       "      <td>[\"\"\"i, was, on, this, birth, control, for, 8, ...</td>\n",
       "      <td>(0.0, 0.0, 0.0, 0.0, 0.0, 0.0, 0.0, 0.0, 0.0, ...</td>\n",
       "      <td>(0.0, 0.0, 0.0, 0.0, 0.0, 0.0, 0.0, 0.0, 0.0, ...</td>\n",
       "    </tr>\n",
       "    <tr>\n",
       "      <th>3</th>\n",
       "      <td>100004</td>\n",
       "      <td>Desogestrel / ethinyl estradiol</td>\n",
       "      <td>Birth Control</td>\n",
       "      <td>\"\"\"I have been taking Azurette for 3 years now...</td>\n",
       "      <td>8.0</td>\n",
       "      <td>July 11, 2017</td>\n",
       "      <td>1</td>\n",
       "      <td>8</td>\n",
       "      <td>[\"\"\"i, have, been, taking, azurette, for, 3, y...</td>\n",
       "      <td>(0.0, 0.0, 0.0, 0.0, 0.0, 0.0, 0.0, 0.0, 0.0, ...</td>\n",
       "      <td>(0.0, 0.0, 0.0, 0.0, 0.0, 0.0, 0.0, 0.0, 0.0, ...</td>\n",
       "    </tr>\n",
       "    <tr>\n",
       "      <th>4</th>\n",
       "      <td>100007</td>\n",
       "      <td>Desogestrel / ethinyl estradiol</td>\n",
       "      <td>Birth Control</td>\n",
       "      <td>\"\"\"At the beginning, Kariva seemed to be worki...</td>\n",
       "      <td>5.0</td>\n",
       "      <td>June 29, 2017</td>\n",
       "      <td>0</td>\n",
       "      <td>5</td>\n",
       "      <td>[\"\"\"at, the, beginning,, kariva, seemed, to, b...</td>\n",
       "      <td>(0.0, 0.0, 0.0, 0.0, 0.0, 0.0, 0.0, 0.0, 0.0, ...</td>\n",
       "      <td>(0.0, 0.0, 0.0, 0.0, 0.0, 0.0, 0.0, 0.0, 0.0, ...</td>\n",
       "    </tr>\n",
       "  </tbody>\n",
       "</table>\n",
       "</div>"
      ],
      "text/plain": [
       "      _c0                         drugName                  condition  \\\n",
       "0      10              Medroxyprogesterone  Abnormal Uterine Bleeding   \n",
       "1    1000                       Everolimus               Breast Cance   \n",
       "2   10000                   Lo Loestrin Fe              Birth Control   \n",
       "3  100004  Desogestrel / ethinyl estradiol              Birth Control   \n",
       "4  100007  Desogestrel / ethinyl estradiol              Birth Control   \n",
       "\n",
       "                                              review rating              date  \\\n",
       "0  \"\"\"I&#039;m 17 years old and I got shot in Aug...    7.0  October 20, 2015   \n",
       "1  \"\"\"Although the medication did effectively tre...    2.0    March 15, 2016   \n",
       "2  \"\"\"I was on this birth control for 8 months. T...    7.0    April 10, 2013   \n",
       "3  \"\"\"I have been taking Azurette for 3 years now...    8.0     July 11, 2017   \n",
       "4  \"\"\"At the beginning, Kariva seemed to be worki...    5.0     June 29, 2017   \n",
       "\n",
       "   usefulCount  ratingNum                                              words  \\\n",
       "0            2          7  [\"\"\"i&#039;m, 17, years, old, and, i, got, sho...   \n",
       "1            4          2  [\"\"\"although, the, medication, did, effectivel...   \n",
       "2            4          7  [\"\"\"i, was, on, this, birth, control, for, 8, ...   \n",
       "3            1          8  [\"\"\"i, have, been, taking, azurette, for, 3, y...   \n",
       "4            0          5  [\"\"\"at, the, beginning,, kariva, seemed, to, b...   \n",
       "\n",
       "                                         rawFeatures  \\\n",
       "0  (0.0, 0.0, 0.0, 0.0, 0.0, 0.0, 0.0, 0.0, 0.0, ...   \n",
       "1  (0.0, 0.0, 0.0, 0.0, 0.0, 0.0, 0.0, 0.0, 0.0, ...   \n",
       "2  (0.0, 0.0, 0.0, 0.0, 0.0, 0.0, 0.0, 0.0, 0.0, ...   \n",
       "3  (0.0, 0.0, 0.0, 0.0, 0.0, 0.0, 0.0, 0.0, 0.0, ...   \n",
       "4  (0.0, 0.0, 0.0, 0.0, 0.0, 0.0, 0.0, 0.0, 0.0, ...   \n",
       "\n",
       "                                            features  \n",
       "0  (0.0, 0.0, 0.0, 0.0, 0.0, 0.0, 0.0, 0.0, 0.0, ...  \n",
       "1  (0.0, 0.0, 0.0, 0.0, 0.0, 0.0, 0.0, 0.0, 0.0, ...  \n",
       "2  (0.0, 0.0, 0.0, 0.0, 0.0, 0.0, 0.0, 0.0, 0.0, ...  \n",
       "3  (0.0, 0.0, 0.0, 0.0, 0.0, 0.0, 0.0, 0.0, 0.0, ...  \n",
       "4  (0.0, 0.0, 0.0, 0.0, 0.0, 0.0, 0.0, 0.0, 0.0, ...  "
      ]
     },
     "execution_count": 8,
     "metadata": {},
     "output_type": "execute_result"
    }
   ],
   "source": [
    "rescaledData.limit(5).toPandas()"
   ]
  },
  {
   "cell_type": "code",
   "execution_count": 9,
   "metadata": {
    "cell_status": {
     "execute_time": {
      "duration": 1471.298828125,
      "end_time": 1614002017454.737
     }
    }
   },
   "outputs": [],
   "source": [
    "stringIndexer = StringIndexer(inputCol='drugName', outputCol = \"drugIndex\").setHandleInvalid(\"skip\")\n",
    "encoder = OneHotEncoder(inputCol=\"drugIndex\", outputCol=\"drugVec\")\n",
    "\n",
    "pipeline = Pipeline(stages=[stringIndexer, encoder])\n",
    "ohe = pipeline.fit(rescaledData).transform(rescaledData)"
   ]
  },
  {
   "cell_type": "code",
   "execution_count": 10,
   "metadata": {
    "cell_status": {
     "execute_time": {
      "duration": 5661.347900390625,
      "end_time": 1614002023126.504
     }
    }
   },
   "outputs": [
    {
     "data": {
      "text/plain": [
       "Row(_c0='10', drugName='Medroxyprogesterone', condition='Abnormal Uterine Bleeding', review='\"\"\"I&#039;m 17 years old and I got shot in August 2015, personally. I don&#039;t mind it. I mean, I bleed little bits and random times, but I&#039;d rather have the blood that&#039;s supposed to come out, come out and not worry about where it&#039;s going or staying in my body. I have my other injection in November on the 2nd, and I&#039;m still wondering if I could take it again. The only downside to the injection is that I gained access weight and I&#039;m kind of moody.\"\"\"', rating='7.0', date='October 20, 2015', usefulCount=2, ratingNum=7, words=['\"\"\"i&#039;m', '17', 'years', 'old', 'and', 'i', 'got', 'shot', 'in', 'august', '2015,', 'personally.', 'i', 'don&#039;t', 'mind', 'it.', 'i', 'mean,', 'i', 'bleed', 'little', 'bits', 'and', 'random', 'times,', 'but', 'i&#039;d', 'rather', 'have', 'the', 'blood', 'that&#039;s', 'supposed', 'to', 'come', 'out,', 'come', 'out', 'and', 'not', 'worry', 'about', 'where', 'it&#039;s', 'going', 'or', 'staying', 'in', 'my', 'body.', 'i', 'have', 'my', 'other', 'injection', 'in', 'november', 'on', 'the', '2nd,', 'and', 'i&#039;m', 'still', 'wondering', 'if', 'i', 'could', 'take', 'it', 'again.', 'the', 'only', 'downside', 'to', 'the', 'injection', 'is', 'that', 'i', 'gained', 'access', 'weight', 'and', 'i&#039;m', 'kind', 'of', 'moody.\"\"\"'], rawFeatures=SparseVector(8388608, {18700: 1.0, 119453: 1.0, 181635: 1.0, 192185: 1.0, 338250: 1.0, 530945: 1.0, 582960: 1.0, 814008: 2.0, 834880: 1.0, 854204: 1.0, 862101: 1.0, 1089997: 1.0, 1166551: 1.0, 1230811: 1.0, 1641268: 1.0, 1668228: 1.0, 1937390: 1.0, 2128688: 1.0, 2225914: 1.0, 2390246: 1.0, 2430421: 1.0, 2504812: 1.0, 2764941: 1.0, 2797697: 1.0, 3100046: 1.0, 3179805: 2.0, 3207553: 1.0, 3213144: 1.0, 3441107: 1.0, 3449811: 1.0, 3612252: 2.0, 3745974: 1.0, 3788007: 1.0, 3977482: 1.0, 4228221: 1.0, 4323378: 1.0, 4678141: 1.0, 4682346: 1.0, 4697392: 2.0, 4737628: 7.0, 5420559: 1.0, 5548558: 1.0, 5600913: 4.0, 5835162: 1.0, 5846300: 1.0, 5863186: 1.0, 5878912: 1.0, 6187973: 1.0, 6213250: 1.0, 6355523: 2.0, 6544931: 2.0, 6661592: 1.0, 6714782: 1.0, 6922585: 1.0, 6928394: 1.0, 6986432: 1.0, 7121876: 1.0, 7133527: 1.0, 7133528: 1.0, 7319910: 1.0, 7387842: 1.0, 7700902: 1.0, 7853031: 3.0, 8083407: 1.0, 8346379: 5.0, 8364976: 1.0}), features=SparseVector(8388608, {18700: 1.3708, 119453: 1.6823, 181635: 1.5304, 192185: 4.725, 338250: 1.8185, 530945: 3.6078, 582960: 2.5339, 814008: 0.594, 834880: 0.9365, 854204: 8.7172, 862101: 3.0392, 1089997: 7.8598, 1166551: 4.3546, 1230811: 3.0535, 1641268: 2.2415, 1668228: 8.6483, 1937390: 2.4482, 2128688: 2.0705, 2225914: 5.1467, 2390246: 0.4121, 2430421: 1.9944, 2504812: 7.5277, 2764941: 2.1188, 2797697: 2.1983, 3100046: 3.8935, 3179805: 9.2831, 3207553: 5.4415, 3213144: 0.6937, 3441107: 6.5772, 3449811: 3.7408, 3612252: 7.2846, 3745974: 3.3705, 3788007: 3.1687, 3977482: 2.0784, 4228221: 0.7118, 4323378: 5.5157, 4678141: 1.0269, 4682346: 2.0248, 4697392: 0.6901, 4737628: 1.1522, 5420559: 5.0248, 5548558: 5.0302, 5600913: 0.9819, 5835162: 5.2879, 5846300: 4.4113, 5863186: 8.1374, 5878912: 1.7799, 6187973: 4.3437, 6213250: 1.8193, 6355523: 3.1389, 6544931: 1.168, 6661592: 5.3007, 6714782: 3.6156, 6922585: 0.8269, 6928394: 3.4247, 6986432: 4.3127, 7121876: 5.2229, 7133527: 1.5774, 7133528: 4.4988, 7319910: 2.4675, 7387842: 5.6393, 7700902: 4.6996, 7853031: 2.2952, 8083407: 0.5692, 8346379: 0.8799, 8364976: 8.1993}), drugIndex=13.0, drugVec=SparseVector(3492, {13: 1.0}))"
      ]
     },
     "execution_count": 10,
     "metadata": {},
     "output_type": "execute_result"
    }
   ],
   "source": [
    "x = ohe.limit(1).rdd.first()\n",
    "x"
   ]
  },
  {
   "cell_type": "code",
   "execution_count": 11,
   "metadata": {
    "cell_status": {
     "execute_time": {
      "duration": 57.4951171875,
      "end_time": 1614002050942.128
     }
    }
   },
   "outputs": [
    {
     "data": {
      "text/plain": [
       "SparseVector(3492, {13: 1.0})"
      ]
     },
     "execution_count": 11,
     "metadata": {},
     "output_type": "execute_result"
    }
   ],
   "source": [
    "x['drugVec']"
   ]
  },
  {
   "cell_type": "code",
   "execution_count": null,
   "metadata": {},
   "outputs": [],
   "source": []
  },
  {
   "cell_type": "markdown",
   "metadata": {},
   "source": [
    "Подготавливаем признаки"
   ]
  },
  {
   "cell_type": "code",
   "execution_count": 37,
   "metadata": {
    "cell_status": {
     "execute_time": {
      "duration": 1161.2451171875,
      "end_time": 1614002060570.721
     }
    }
   },
   "outputs": [],
   "source": [
    "wordsData = tokenizer.transform(train)\n",
    "\n",
    "tokenizer = Tokenizer(inputCol=\"review\", outputCol=\"words\")\n",
    "hashingTF = HashingTF(inputCol=\"words\", outputCol=\"rawFeatures\", numFeatures=2**10)\n",
    "idf = IDF(inputCol=\"rawFeatures\", outputCol=\"revviewFeatures\")\n",
    "\n",
    "stringIndexerCondition = StringIndexer(inputCol='condition', outputCol = \"conditionIndex\").setHandleInvalid(\"skip\")\n",
    "encoderCondition = OneHotEncoder(inputCol=\"conditionIndex\", outputCol=\"conditionVec\")\n",
    "\n",
    "stringIndexerDrug = StringIndexer(inputCol='drugName', outputCol = \"drugIndex\").setHandleInvalid(\"skip\")\n",
    "encoderDrug = OneHotEncoder(inputCol=\"drugIndex\", outputCol=\"drugVec\")\n",
    "\n",
    "assembler = VectorAssembler(inputCols=[\"drugVec\", \"conditionVec\", \"revviewFeatures\", 'ratingNum'], outputCol=\"features\")\n",
    "\n",
    "preproc = Pipeline(stages=[\n",
    "    tokenizer,\n",
    "    hashingTF,\n",
    "    idf,\n",
    "    stringIndexerCondition,\n",
    "    encoderCondition,\n",
    "    stringIndexerDrug,\n",
    "    encoderDrug,\n",
    "    assembler\n",
    "])"
   ]
  },
  {
   "cell_type": "code",
   "execution_count": 38,
   "metadata": {
    "cell_status": {
     "execute_time": {
      "duration": 390136.5959472656,
      "end_time": 1614002526825.782
     }
    }
   },
   "outputs": [],
   "source": [
    "train_proc = preproc.fit(train).transform(train).cache()"
   ]
  },
  {
   "cell_type": "code",
   "execution_count": 39,
   "metadata": {
    "cell_status": {
     "execute_time": {
      "duration": 37.211181640625,
      "end_time": 1614002117596.296
     }
    }
   },
   "outputs": [
    {
     "data": {
      "text/html": [
       "<div>\n",
       "<style scoped>\n",
       "    .dataframe tbody tr th:only-of-type {\n",
       "        vertical-align: middle;\n",
       "    }\n",
       "\n",
       "    .dataframe tbody tr th {\n",
       "        vertical-align: top;\n",
       "    }\n",
       "\n",
       "    .dataframe thead th {\n",
       "        text-align: right;\n",
       "    }\n",
       "</style>\n",
       "<table border=\"1\" class=\"dataframe\">\n",
       "  <thead>\n",
       "    <tr style=\"text-align: right;\">\n",
       "      <th></th>\n",
       "      <th>_c0</th>\n",
       "      <th>drugName</th>\n",
       "      <th>condition</th>\n",
       "      <th>review</th>\n",
       "      <th>rating</th>\n",
       "      <th>date</th>\n",
       "      <th>usefulCount</th>\n",
       "      <th>ratingNum</th>\n",
       "      <th>words</th>\n",
       "      <th>rawFeatures</th>\n",
       "      <th>revviewFeatures</th>\n",
       "      <th>conditionIndex</th>\n",
       "      <th>conditionVec</th>\n",
       "      <th>drugIndex</th>\n",
       "      <th>drugVec</th>\n",
       "      <th>features</th>\n",
       "    </tr>\n",
       "  </thead>\n",
       "  <tbody>\n",
       "    <tr>\n",
       "      <th>0</th>\n",
       "      <td>10</td>\n",
       "      <td>Medroxyprogesterone</td>\n",
       "      <td>Abnormal Uterine Bleeding</td>\n",
       "      <td>\"\"\"I&amp;#039;m 17 years old and I got shot in Aug...</td>\n",
       "      <td>7.0</td>\n",
       "      <td>October 20, 2015</td>\n",
       "      <td>2</td>\n",
       "      <td>7</td>\n",
       "      <td>[\"\"\"i&amp;#039;m, 17, years, old, and, i, got, sho...</td>\n",
       "      <td>(0.0, 0.0, 0.0, 0.0, 0.0, 0.0, 0.0, 0.0, 0.0, ...</td>\n",
       "      <td>(0.0, 0.0, 0.0, 0.0, 0.0, 0.0, 0.0, 0.0, 0.0, ...</td>\n",
       "      <td>14.0</td>\n",
       "      <td>(0.0, 0.0, 0.0, 0.0, 0.0, 0.0, 0.0, 0.0, 0.0, ...</td>\n",
       "      <td>13.0</td>\n",
       "      <td>(0.0, 0.0, 0.0, 0.0, 0.0, 0.0, 0.0, 0.0, 0.0, ...</td>\n",
       "      <td>(0.0, 0.0, 0.0, 0.0, 0.0, 0.0, 0.0, 0.0, 0.0, ...</td>\n",
       "    </tr>\n",
       "    <tr>\n",
       "      <th>1</th>\n",
       "      <td>1000</td>\n",
       "      <td>Everolimus</td>\n",
       "      <td>Breast Cance</td>\n",
       "      <td>\"\"\"Although the medication did effectively tre...</td>\n",
       "      <td>2.0</td>\n",
       "      <td>March 15, 2016</td>\n",
       "      <td>4</td>\n",
       "      <td>2</td>\n",
       "      <td>[\"\"\"although, the, medication, did, effectivel...</td>\n",
       "      <td>(0.0, 0.0, 0.0, 0.0, 0.0, 0.0, 0.0, 0.0, 0.0, ...</td>\n",
       "      <td>(0.0, 0.0, 0.0, 0.0, 0.0, 0.0, 0.0, 0.0, 0.0, ...</td>\n",
       "      <td>83.0</td>\n",
       "      <td>(0.0, 0.0, 0.0, 0.0, 0.0, 0.0, 0.0, 0.0, 0.0, ...</td>\n",
       "      <td>1322.0</td>\n",
       "      <td>(0.0, 0.0, 0.0, 0.0, 0.0, 0.0, 0.0, 0.0, 0.0, ...</td>\n",
       "      <td>(0.0, 0.0, 0.0, 0.0, 0.0, 0.0, 0.0, 0.0, 0.0, ...</td>\n",
       "    </tr>\n",
       "    <tr>\n",
       "      <th>2</th>\n",
       "      <td>10000</td>\n",
       "      <td>Lo Loestrin Fe</td>\n",
       "      <td>Birth Control</td>\n",
       "      <td>\"\"\"I was on this birth control for 8 months. T...</td>\n",
       "      <td>7.0</td>\n",
       "      <td>April 10, 2013</td>\n",
       "      <td>4</td>\n",
       "      <td>7</td>\n",
       "      <td>[\"\"\"i, was, on, this, birth, control, for, 8, ...</td>\n",
       "      <td>(0.0, 0.0, 0.0, 0.0, 0.0, 0.0, 0.0, 0.0, 0.0, ...</td>\n",
       "      <td>(0.0, 0.0, 0.0, 0.0, 0.0, 0.0, 0.0, 0.0, 0.0, ...</td>\n",
       "      <td>0.0</td>\n",
       "      <td>(1.0, 0.0, 0.0, 0.0, 0.0, 0.0, 0.0, 0.0, 0.0, ...</td>\n",
       "      <td>35.0</td>\n",
       "      <td>(0.0, 0.0, 0.0, 0.0, 0.0, 0.0, 0.0, 0.0, 0.0, ...</td>\n",
       "      <td>(0.0, 0.0, 0.0, 0.0, 0.0, 0.0, 0.0, 0.0, 0.0, ...</td>\n",
       "    </tr>\n",
       "    <tr>\n",
       "      <th>3</th>\n",
       "      <td>100004</td>\n",
       "      <td>Desogestrel / ethinyl estradiol</td>\n",
       "      <td>Birth Control</td>\n",
       "      <td>\"\"\"I have been taking Azurette for 3 years now...</td>\n",
       "      <td>8.0</td>\n",
       "      <td>July 11, 2017</td>\n",
       "      <td>1</td>\n",
       "      <td>8</td>\n",
       "      <td>[\"\"\"i, have, been, taking, azurette, for, 3, y...</td>\n",
       "      <td>(0.0, 0.0, 0.0, 0.0, 0.0, 0.0, 0.0, 0.0, 0.0, ...</td>\n",
       "      <td>(0.0, 0.0, 0.0, 0.0, 0.0, 0.0, 0.0, 0.0, 0.0, ...</td>\n",
       "      <td>0.0</td>\n",
       "      <td>(1.0, 0.0, 0.0, 0.0, 0.0, 0.0, 0.0, 0.0, 0.0, ...</td>\n",
       "      <td>57.0</td>\n",
       "      <td>(0.0, 0.0, 0.0, 0.0, 0.0, 0.0, 0.0, 0.0, 0.0, ...</td>\n",
       "      <td>(0.0, 0.0, 0.0, 0.0, 0.0, 0.0, 0.0, 0.0, 0.0, ...</td>\n",
       "    </tr>\n",
       "    <tr>\n",
       "      <th>4</th>\n",
       "      <td>100007</td>\n",
       "      <td>Desogestrel / ethinyl estradiol</td>\n",
       "      <td>Birth Control</td>\n",
       "      <td>\"\"\"At the beginning, Kariva seemed to be worki...</td>\n",
       "      <td>5.0</td>\n",
       "      <td>June 29, 2017</td>\n",
       "      <td>0</td>\n",
       "      <td>5</td>\n",
       "      <td>[\"\"\"at, the, beginning,, kariva, seemed, to, b...</td>\n",
       "      <td>(0.0, 0.0, 0.0, 0.0, 0.0, 0.0, 0.0, 0.0, 0.0, ...</td>\n",
       "      <td>(0.0, 0.0, 0.0, 0.0, 0.0, 0.0, 0.0, 0.0, 0.0, ...</td>\n",
       "      <td>0.0</td>\n",
       "      <td>(1.0, 0.0, 0.0, 0.0, 0.0, 0.0, 0.0, 0.0, 0.0, ...</td>\n",
       "      <td>57.0</td>\n",
       "      <td>(0.0, 0.0, 0.0, 0.0, 0.0, 0.0, 0.0, 0.0, 0.0, ...</td>\n",
       "      <td>(0.0, 0.0, 0.0, 0.0, 0.0, 0.0, 0.0, 0.0, 0.0, ...</td>\n",
       "    </tr>\n",
       "    <tr>\n",
       "      <th>5</th>\n",
       "      <td>100008</td>\n",
       "      <td>Desogestrel / ethinyl estradiol</td>\n",
       "      <td>Birth Control</td>\n",
       "      <td>\"\"\"This is yet another update. Just finished m...</td>\n",
       "      <td>1.0</td>\n",
       "      <td>June 28, 2017</td>\n",
       "      <td>0</td>\n",
       "      <td>1</td>\n",
       "      <td>[\"\"\"this, is, yet, another, update., just, fin...</td>\n",
       "      <td>(0.0, 0.0, 0.0, 0.0, 0.0, 0.0, 0.0, 0.0, 0.0, ...</td>\n",
       "      <td>(0.0, 0.0, 0.0, 0.0, 0.0, 0.0, 0.0, 0.0, 0.0, ...</td>\n",
       "      <td>0.0</td>\n",
       "      <td>(1.0, 0.0, 0.0, 0.0, 0.0, 0.0, 0.0, 0.0, 0.0, ...</td>\n",
       "      <td>57.0</td>\n",
       "      <td>(0.0, 0.0, 0.0, 0.0, 0.0, 0.0, 0.0, 0.0, 0.0, ...</td>\n",
       "      <td>(0.0, 0.0, 0.0, 0.0, 0.0, 0.0, 0.0, 0.0, 0.0, ...</td>\n",
       "    </tr>\n",
       "    <tr>\n",
       "      <th>6</th>\n",
       "      <td>100009</td>\n",
       "      <td>Desogestrel / ethinyl estradiol</td>\n",
       "      <td>Birth Control</td>\n",
       "      <td>\"\"\"I was on reclipsen for less than 2 weeks an...</td>\n",
       "      <td>1.0</td>\n",
       "      <td>June 28, 2017</td>\n",
       "      <td>2</td>\n",
       "      <td>1</td>\n",
       "      <td>[\"\"\"i, was, on, reclipsen, for, less, than, 2,...</td>\n",
       "      <td>(1.0, 0.0, 0.0, 0.0, 0.0, 0.0, 0.0, 0.0, 0.0, ...</td>\n",
       "      <td>(3.3244338839699816, 0.0, 0.0, 0.0, 0.0, 0.0, ...</td>\n",
       "      <td>0.0</td>\n",
       "      <td>(1.0, 0.0, 0.0, 0.0, 0.0, 0.0, 0.0, 0.0, 0.0, ...</td>\n",
       "      <td>57.0</td>\n",
       "      <td>(0.0, 0.0, 0.0, 0.0, 0.0, 0.0, 0.0, 0.0, 0.0, ...</td>\n",
       "      <td>(0.0, 0.0, 0.0, 0.0, 0.0, 0.0, 0.0, 0.0, 0.0, ...</td>\n",
       "    </tr>\n",
       "    <tr>\n",
       "      <th>7</th>\n",
       "      <td>100011</td>\n",
       "      <td>Desogestrel / ethinyl estradiol</td>\n",
       "      <td>Birth Control</td>\n",
       "      <td>\"\"\"I have been on Apri for 4 months, I&amp;#039;m ...</td>\n",
       "      <td>8.0</td>\n",
       "      <td>June 19, 2017</td>\n",
       "      <td>3</td>\n",
       "      <td>8</td>\n",
       "      <td>[\"\"\"i, have, been, on, apri, for, 4, months,, ...</td>\n",
       "      <td>(0.0, 0.0, 0.0, 0.0, 0.0, 0.0, 0.0, 0.0, 0.0, ...</td>\n",
       "      <td>(0.0, 0.0, 0.0, 0.0, 0.0, 0.0, 0.0, 0.0, 0.0, ...</td>\n",
       "      <td>0.0</td>\n",
       "      <td>(1.0, 0.0, 0.0, 0.0, 0.0, 0.0, 0.0, 0.0, 0.0, ...</td>\n",
       "      <td>57.0</td>\n",
       "      <td>(0.0, 0.0, 0.0, 0.0, 0.0, 0.0, 0.0, 0.0, 0.0, ...</td>\n",
       "      <td>(0.0, 0.0, 0.0, 0.0, 0.0, 0.0, 0.0, 0.0, 0.0, ...</td>\n",
       "    </tr>\n",
       "    <tr>\n",
       "      <th>8</th>\n",
       "      <td>100012</td>\n",
       "      <td>Desogestrel / ethinyl estradiol</td>\n",
       "      <td>Birth Control</td>\n",
       "      <td>\"\"\"I&amp;#039;ve been taking Velivet for about a y...</td>\n",
       "      <td>9.0</td>\n",
       "      <td>June 17, 2017</td>\n",
       "      <td>2</td>\n",
       "      <td>9</td>\n",
       "      <td>[\"\"\"i&amp;#039;ve, been, taking, velivet, for, abo...</td>\n",
       "      <td>(0.0, 0.0, 0.0, 0.0, 0.0, 0.0, 0.0, 0.0, 0.0, ...</td>\n",
       "      <td>(0.0, 0.0, 0.0, 0.0, 0.0, 0.0, 0.0, 0.0, 0.0, ...</td>\n",
       "      <td>0.0</td>\n",
       "      <td>(1.0, 0.0, 0.0, 0.0, 0.0, 0.0, 0.0, 0.0, 0.0, ...</td>\n",
       "      <td>57.0</td>\n",
       "      <td>(0.0, 0.0, 0.0, 0.0, 0.0, 0.0, 0.0, 0.0, 0.0, ...</td>\n",
       "      <td>(0.0, 0.0, 0.0, 0.0, 0.0, 0.0, 0.0, 0.0, 0.0, ...</td>\n",
       "    </tr>\n",
       "    <tr>\n",
       "      <th>9</th>\n",
       "      <td>100013</td>\n",
       "      <td>Desogestrel / ethinyl estradiol</td>\n",
       "      <td>Birth Control</td>\n",
       "      <td>\"\"\"Gives me heartburn and indigestion. Also ma...</td>\n",
       "      <td>2.0</td>\n",
       "      <td>June 8, 2017</td>\n",
       "      <td>1</td>\n",
       "      <td>2</td>\n",
       "      <td>[\"\"\"gives, me, heartburn, and, indigestion., a...</td>\n",
       "      <td>(0.0, 0.0, 0.0, 0.0, 0.0, 0.0, 0.0, 0.0, 0.0, ...</td>\n",
       "      <td>(0.0, 0.0, 0.0, 0.0, 0.0, 0.0, 0.0, 0.0, 0.0, ...</td>\n",
       "      <td>0.0</td>\n",
       "      <td>(1.0, 0.0, 0.0, 0.0, 0.0, 0.0, 0.0, 0.0, 0.0, ...</td>\n",
       "      <td>57.0</td>\n",
       "      <td>(0.0, 0.0, 0.0, 0.0, 0.0, 0.0, 0.0, 0.0, 0.0, ...</td>\n",
       "      <td>(0.0, 0.0, 0.0, 0.0, 0.0, 0.0, 0.0, 0.0, 0.0, ...</td>\n",
       "    </tr>\n",
       "  </tbody>\n",
       "</table>\n",
       "</div>"
      ],
      "text/plain": [
       "      _c0                         drugName                  condition  \\\n",
       "0      10              Medroxyprogesterone  Abnormal Uterine Bleeding   \n",
       "1    1000                       Everolimus               Breast Cance   \n",
       "2   10000                   Lo Loestrin Fe              Birth Control   \n",
       "3  100004  Desogestrel / ethinyl estradiol              Birth Control   \n",
       "4  100007  Desogestrel / ethinyl estradiol              Birth Control   \n",
       "5  100008  Desogestrel / ethinyl estradiol              Birth Control   \n",
       "6  100009  Desogestrel / ethinyl estradiol              Birth Control   \n",
       "7  100011  Desogestrel / ethinyl estradiol              Birth Control   \n",
       "8  100012  Desogestrel / ethinyl estradiol              Birth Control   \n",
       "9  100013  Desogestrel / ethinyl estradiol              Birth Control   \n",
       "\n",
       "                                              review rating              date  \\\n",
       "0  \"\"\"I&#039;m 17 years old and I got shot in Aug...    7.0  October 20, 2015   \n",
       "1  \"\"\"Although the medication did effectively tre...    2.0    March 15, 2016   \n",
       "2  \"\"\"I was on this birth control for 8 months. T...    7.0    April 10, 2013   \n",
       "3  \"\"\"I have been taking Azurette for 3 years now...    8.0     July 11, 2017   \n",
       "4  \"\"\"At the beginning, Kariva seemed to be worki...    5.0     June 29, 2017   \n",
       "5  \"\"\"This is yet another update. Just finished m...    1.0     June 28, 2017   \n",
       "6  \"\"\"I was on reclipsen for less than 2 weeks an...    1.0     June 28, 2017   \n",
       "7  \"\"\"I have been on Apri for 4 months, I&#039;m ...    8.0     June 19, 2017   \n",
       "8  \"\"\"I&#039;ve been taking Velivet for about a y...    9.0     June 17, 2017   \n",
       "9  \"\"\"Gives me heartburn and indigestion. Also ma...    2.0      June 8, 2017   \n",
       "\n",
       "   usefulCount  ratingNum                                              words  \\\n",
       "0            2          7  [\"\"\"i&#039;m, 17, years, old, and, i, got, sho...   \n",
       "1            4          2  [\"\"\"although, the, medication, did, effectivel...   \n",
       "2            4          7  [\"\"\"i, was, on, this, birth, control, for, 8, ...   \n",
       "3            1          8  [\"\"\"i, have, been, taking, azurette, for, 3, y...   \n",
       "4            0          5  [\"\"\"at, the, beginning,, kariva, seemed, to, b...   \n",
       "5            0          1  [\"\"\"this, is, yet, another, update., just, fin...   \n",
       "6            2          1  [\"\"\"i, was, on, reclipsen, for, less, than, 2,...   \n",
       "7            3          8  [\"\"\"i, have, been, on, apri, for, 4, months,, ...   \n",
       "8            2          9  [\"\"\"i&#039;ve, been, taking, velivet, for, abo...   \n",
       "9            1          2  [\"\"\"gives, me, heartburn, and, indigestion., a...   \n",
       "\n",
       "                                         rawFeatures  \\\n",
       "0  (0.0, 0.0, 0.0, 0.0, 0.0, 0.0, 0.0, 0.0, 0.0, ...   \n",
       "1  (0.0, 0.0, 0.0, 0.0, 0.0, 0.0, 0.0, 0.0, 0.0, ...   \n",
       "2  (0.0, 0.0, 0.0, 0.0, 0.0, 0.0, 0.0, 0.0, 0.0, ...   \n",
       "3  (0.0, 0.0, 0.0, 0.0, 0.0, 0.0, 0.0, 0.0, 0.0, ...   \n",
       "4  (0.0, 0.0, 0.0, 0.0, 0.0, 0.0, 0.0, 0.0, 0.0, ...   \n",
       "5  (0.0, 0.0, 0.0, 0.0, 0.0, 0.0, 0.0, 0.0, 0.0, ...   \n",
       "6  (1.0, 0.0, 0.0, 0.0, 0.0, 0.0, 0.0, 0.0, 0.0, ...   \n",
       "7  (0.0, 0.0, 0.0, 0.0, 0.0, 0.0, 0.0, 0.0, 0.0, ...   \n",
       "8  (0.0, 0.0, 0.0, 0.0, 0.0, 0.0, 0.0, 0.0, 0.0, ...   \n",
       "9  (0.0, 0.0, 0.0, 0.0, 0.0, 0.0, 0.0, 0.0, 0.0, ...   \n",
       "\n",
       "                                     revviewFeatures  conditionIndex  \\\n",
       "0  (0.0, 0.0, 0.0, 0.0, 0.0, 0.0, 0.0, 0.0, 0.0, ...            14.0   \n",
       "1  (0.0, 0.0, 0.0, 0.0, 0.0, 0.0, 0.0, 0.0, 0.0, ...            83.0   \n",
       "2  (0.0, 0.0, 0.0, 0.0, 0.0, 0.0, 0.0, 0.0, 0.0, ...             0.0   \n",
       "3  (0.0, 0.0, 0.0, 0.0, 0.0, 0.0, 0.0, 0.0, 0.0, ...             0.0   \n",
       "4  (0.0, 0.0, 0.0, 0.0, 0.0, 0.0, 0.0, 0.0, 0.0, ...             0.0   \n",
       "5  (0.0, 0.0, 0.0, 0.0, 0.0, 0.0, 0.0, 0.0, 0.0, ...             0.0   \n",
       "6  (3.3244338839699816, 0.0, 0.0, 0.0, 0.0, 0.0, ...             0.0   \n",
       "7  (0.0, 0.0, 0.0, 0.0, 0.0, 0.0, 0.0, 0.0, 0.0, ...             0.0   \n",
       "8  (0.0, 0.0, 0.0, 0.0, 0.0, 0.0, 0.0, 0.0, 0.0, ...             0.0   \n",
       "9  (0.0, 0.0, 0.0, 0.0, 0.0, 0.0, 0.0, 0.0, 0.0, ...             0.0   \n",
       "\n",
       "                                        conditionVec  drugIndex  \\\n",
       "0  (0.0, 0.0, 0.0, 0.0, 0.0, 0.0, 0.0, 0.0, 0.0, ...       13.0   \n",
       "1  (0.0, 0.0, 0.0, 0.0, 0.0, 0.0, 0.0, 0.0, 0.0, ...     1322.0   \n",
       "2  (1.0, 0.0, 0.0, 0.0, 0.0, 0.0, 0.0, 0.0, 0.0, ...       35.0   \n",
       "3  (1.0, 0.0, 0.0, 0.0, 0.0, 0.0, 0.0, 0.0, 0.0, ...       57.0   \n",
       "4  (1.0, 0.0, 0.0, 0.0, 0.0, 0.0, 0.0, 0.0, 0.0, ...       57.0   \n",
       "5  (1.0, 0.0, 0.0, 0.0, 0.0, 0.0, 0.0, 0.0, 0.0, ...       57.0   \n",
       "6  (1.0, 0.0, 0.0, 0.0, 0.0, 0.0, 0.0, 0.0, 0.0, ...       57.0   \n",
       "7  (1.0, 0.0, 0.0, 0.0, 0.0, 0.0, 0.0, 0.0, 0.0, ...       57.0   \n",
       "8  (1.0, 0.0, 0.0, 0.0, 0.0, 0.0, 0.0, 0.0, 0.0, ...       57.0   \n",
       "9  (1.0, 0.0, 0.0, 0.0, 0.0, 0.0, 0.0, 0.0, 0.0, ...       57.0   \n",
       "\n",
       "                                             drugVec  \\\n",
       "0  (0.0, 0.0, 0.0, 0.0, 0.0, 0.0, 0.0, 0.0, 0.0, ...   \n",
       "1  (0.0, 0.0, 0.0, 0.0, 0.0, 0.0, 0.0, 0.0, 0.0, ...   \n",
       "2  (0.0, 0.0, 0.0, 0.0, 0.0, 0.0, 0.0, 0.0, 0.0, ...   \n",
       "3  (0.0, 0.0, 0.0, 0.0, 0.0, 0.0, 0.0, 0.0, 0.0, ...   \n",
       "4  (0.0, 0.0, 0.0, 0.0, 0.0, 0.0, 0.0, 0.0, 0.0, ...   \n",
       "5  (0.0, 0.0, 0.0, 0.0, 0.0, 0.0, 0.0, 0.0, 0.0, ...   \n",
       "6  (0.0, 0.0, 0.0, 0.0, 0.0, 0.0, 0.0, 0.0, 0.0, ...   \n",
       "7  (0.0, 0.0, 0.0, 0.0, 0.0, 0.0, 0.0, 0.0, 0.0, ...   \n",
       "8  (0.0, 0.0, 0.0, 0.0, 0.0, 0.0, 0.0, 0.0, 0.0, ...   \n",
       "9  (0.0, 0.0, 0.0, 0.0, 0.0, 0.0, 0.0, 0.0, 0.0, ...   \n",
       "\n",
       "                                            features  \n",
       "0  (0.0, 0.0, 0.0, 0.0, 0.0, 0.0, 0.0, 0.0, 0.0, ...  \n",
       "1  (0.0, 0.0, 0.0, 0.0, 0.0, 0.0, 0.0, 0.0, 0.0, ...  \n",
       "2  (0.0, 0.0, 0.0, 0.0, 0.0, 0.0, 0.0, 0.0, 0.0, ...  \n",
       "3  (0.0, 0.0, 0.0, 0.0, 0.0, 0.0, 0.0, 0.0, 0.0, ...  \n",
       "4  (0.0, 0.0, 0.0, 0.0, 0.0, 0.0, 0.0, 0.0, 0.0, ...  \n",
       "5  (0.0, 0.0, 0.0, 0.0, 0.0, 0.0, 0.0, 0.0, 0.0, ...  \n",
       "6  (0.0, 0.0, 0.0, 0.0, 0.0, 0.0, 0.0, 0.0, 0.0, ...  \n",
       "7  (0.0, 0.0, 0.0, 0.0, 0.0, 0.0, 0.0, 0.0, 0.0, ...  \n",
       "8  (0.0, 0.0, 0.0, 0.0, 0.0, 0.0, 0.0, 0.0, 0.0, ...  \n",
       "9  (0.0, 0.0, 0.0, 0.0, 0.0, 0.0, 0.0, 0.0, 0.0, ...  "
      ]
     },
     "execution_count": 39,
     "metadata": {},
     "output_type": "execute_result"
    }
   ],
   "source": [
    "train_proc.limit(10).toPandas()"
   ]
  },
  {
   "cell_type": "code",
   "execution_count": null,
   "metadata": {},
   "outputs": [],
   "source": []
  },
  {
   "cell_type": "code",
   "execution_count": 30,
   "metadata": {
    "cell_status": {
     "execute_time": {
      "duration": 258.18994140625,
      "end_time": 1614003221877.417
     }
    }
   },
   "outputs": [],
   "source": [
    "tokenizer = Tokenizer(inputCol=\"review\", outputCol=\"words\")\n",
    "hashingTF = HashingTF(inputCol=\"words\", outputCol=\"rawFeatures\", numFeatures=2**23)\n",
    "idf = IDF(inputCol=\"rawFeatures\", outputCol=\"revviewFeatures\")\n",
    "\n",
    "preproc = Pipeline(stages=[\n",
    "    tokenizer,\n",
    "    hashingTF,\n",
    "    idf\n",
    "])"
   ]
  },
  {
   "cell_type": "markdown",
   "metadata": {},
   "source": [
    "Запустить сбор признаков, который написан, у вас скорее всего не получится. Поэтому попробуем урезать количество вычислений - может быть получится."
   ]
  },
  {
   "cell_type": "code",
   "execution_count": 16,
   "metadata": {
    "cell_status": {
     "execute_time": {
      "duration": 254.76513671875,
      "end_time": 1614008109896.306
     }
    }
   },
   "outputs": [],
   "source": [
    "stringIndexerCondition = StringIndexer(inputCol='condition', outputCol = \"conditionIndex\").setHandleInvalid(\"skip\")\n",
    "encoderCondition = OneHotEncoder(inputCol=\"conditionIndex\", outputCol=\"conditionVec\")\n",
    "\n",
    "stringIndexerDrug = StringIndexer(inputCol='drugName', outputCol = \"drugIndex\").setHandleInvalid(\"skip\")\n",
    "encoderDrug = OneHotEncoder(inputCol=\"drugIndex\", outputCol=\"drugVec\")\n",
    "\n",
    "assembler = VectorAssembler(inputCols=[\"drugVec\", \"conditionVec\", 'ratingNum'], outputCol=\"features\")\n",
    "\n",
    "preproc = Pipeline(stages=[\n",
    "    stringIndexerCondition,\n",
    "    encoderCondition,\n",
    "    stringIndexerDrug,\n",
    "    encoderDrug,\n",
    "    assembler\n",
    "])"
   ]
  },
  {
   "cell_type": "code",
   "execution_count": 31,
   "metadata": {
    "cell_status": {
     "execute_time": {
      "duration": 5316.071044921875,
      "end_time": 1614008115227.569
     }
    }
   },
   "outputs": [],
   "source": [
    "preproc = preproc.fit(data)"
   ]
  },
  {
   "cell_type": "code",
   "execution_count": 32,
   "metadata": {
    "cell_status": {
     "execute_time": {
      "duration": 756.6298828125,
      "end_time": 1614008115996.191
     }
    }
   },
   "outputs": [],
   "source": [
    "train_proc = preproc.transform(train).cache()\n",
    "test_proc = preproc.transform(test).cache()"
   ]
  },
  {
   "cell_type": "code",
   "execution_count": 33,
   "metadata": {
    "cell_status": {
     "execute_time": {
      "duration": 3277.0419921875,
      "end_time": 1614008119284.472
     }
    }
   },
   "outputs": [
    {
     "data": {
      "text/html": [
       "<div>\n",
       "<style scoped>\n",
       "    .dataframe tbody tr th:only-of-type {\n",
       "        vertical-align: middle;\n",
       "    }\n",
       "\n",
       "    .dataframe tbody tr th {\n",
       "        vertical-align: top;\n",
       "    }\n",
       "\n",
       "    .dataframe thead th {\n",
       "        text-align: right;\n",
       "    }\n",
       "</style>\n",
       "<table border=\"1\" class=\"dataframe\">\n",
       "  <thead>\n",
       "    <tr style=\"text-align: right;\">\n",
       "      <th></th>\n",
       "      <th>_c0</th>\n",
       "      <th>drugName</th>\n",
       "      <th>condition</th>\n",
       "      <th>review</th>\n",
       "      <th>rating</th>\n",
       "      <th>date</th>\n",
       "      <th>usefulCount</th>\n",
       "      <th>ratingNum</th>\n",
       "      <th>words</th>\n",
       "      <th>rawFeatures</th>\n",
       "      <th>revviewFeatures</th>\n",
       "    </tr>\n",
       "  </thead>\n",
       "  <tbody>\n",
       "    <tr>\n",
       "      <th>0</th>\n",
       "      <td>10</td>\n",
       "      <td>Medroxyprogesterone</td>\n",
       "      <td>Abnormal Uterine Bleeding</td>\n",
       "      <td>\"\"\"I&amp;#039;m 17 years old and I got shot in Aug...</td>\n",
       "      <td>7.0</td>\n",
       "      <td>October 20, 2015</td>\n",
       "      <td>2</td>\n",
       "      <td>7</td>\n",
       "      <td>[\"\"\"i&amp;#039;m, 17, years, old, and, i, got, sho...</td>\n",
       "      <td>(0.0, 0.0, 0.0, 0.0, 0.0, 0.0, 0.0, 0.0, 0.0, ...</td>\n",
       "      <td>(0.0, 0.0, 0.0, 0.0, 0.0, 0.0, 0.0, 0.0, 0.0, ...</td>\n",
       "    </tr>\n",
       "    <tr>\n",
       "      <th>1</th>\n",
       "      <td>1000</td>\n",
       "      <td>Everolimus</td>\n",
       "      <td>Breast Cance</td>\n",
       "      <td>\"\"\"Although the medication did effectively tre...</td>\n",
       "      <td>2.0</td>\n",
       "      <td>March 15, 2016</td>\n",
       "      <td>4</td>\n",
       "      <td>2</td>\n",
       "      <td>[\"\"\"although, the, medication, did, effectivel...</td>\n",
       "      <td>(0.0, 0.0, 0.0, 0.0, 0.0, 0.0, 0.0, 0.0, 0.0, ...</td>\n",
       "      <td>(0.0, 0.0, 0.0, 0.0, 0.0, 0.0, 0.0, 0.0, 0.0, ...</td>\n",
       "    </tr>\n",
       "    <tr>\n",
       "      <th>2</th>\n",
       "      <td>10000</td>\n",
       "      <td>Lo Loestrin Fe</td>\n",
       "      <td>Birth Control</td>\n",
       "      <td>\"\"\"I was on this birth control for 8 months. T...</td>\n",
       "      <td>7.0</td>\n",
       "      <td>April 10, 2013</td>\n",
       "      <td>4</td>\n",
       "      <td>7</td>\n",
       "      <td>[\"\"\"i, was, on, this, birth, control, for, 8, ...</td>\n",
       "      <td>(0.0, 0.0, 0.0, 0.0, 0.0, 0.0, 0.0, 0.0, 0.0, ...</td>\n",
       "      <td>(0.0, 0.0, 0.0, 0.0, 0.0, 0.0, 0.0, 0.0, 0.0, ...</td>\n",
       "    </tr>\n",
       "    <tr>\n",
       "      <th>3</th>\n",
       "      <td>100004</td>\n",
       "      <td>Desogestrel / ethinyl estradiol</td>\n",
       "      <td>Birth Control</td>\n",
       "      <td>\"\"\"I have been taking Azurette for 3 years now...</td>\n",
       "      <td>8.0</td>\n",
       "      <td>July 11, 2017</td>\n",
       "      <td>1</td>\n",
       "      <td>8</td>\n",
       "      <td>[\"\"\"i, have, been, taking, azurette, for, 3, y...</td>\n",
       "      <td>(0.0, 0.0, 0.0, 0.0, 0.0, 0.0, 0.0, 0.0, 0.0, ...</td>\n",
       "      <td>(0.0, 0.0, 0.0, 0.0, 0.0, 0.0, 0.0, 0.0, 0.0, ...</td>\n",
       "    </tr>\n",
       "    <tr>\n",
       "      <th>4</th>\n",
       "      <td>100007</td>\n",
       "      <td>Desogestrel / ethinyl estradiol</td>\n",
       "      <td>Birth Control</td>\n",
       "      <td>\"\"\"At the beginning, Kariva seemed to be worki...</td>\n",
       "      <td>5.0</td>\n",
       "      <td>June 29, 2017</td>\n",
       "      <td>0</td>\n",
       "      <td>5</td>\n",
       "      <td>[\"\"\"at, the, beginning,, kariva, seemed, to, b...</td>\n",
       "      <td>(0.0, 0.0, 0.0, 0.0, 0.0, 0.0, 0.0, 0.0, 0.0, ...</td>\n",
       "      <td>(0.0, 0.0, 0.0, 0.0, 0.0, 0.0, 0.0, 0.0, 0.0, ...</td>\n",
       "    </tr>\n",
       "    <tr>\n",
       "      <th>5</th>\n",
       "      <td>100008</td>\n",
       "      <td>Desogestrel / ethinyl estradiol</td>\n",
       "      <td>Birth Control</td>\n",
       "      <td>\"\"\"This is yet another update. Just finished m...</td>\n",
       "      <td>1.0</td>\n",
       "      <td>June 28, 2017</td>\n",
       "      <td>0</td>\n",
       "      <td>1</td>\n",
       "      <td>[\"\"\"this, is, yet, another, update., just, fin...</td>\n",
       "      <td>(0.0, 0.0, 0.0, 0.0, 0.0, 0.0, 0.0, 0.0, 0.0, ...</td>\n",
       "      <td>(0.0, 0.0, 0.0, 0.0, 0.0, 0.0, 0.0, 0.0, 0.0, ...</td>\n",
       "    </tr>\n",
       "    <tr>\n",
       "      <th>6</th>\n",
       "      <td>100009</td>\n",
       "      <td>Desogestrel / ethinyl estradiol</td>\n",
       "      <td>Birth Control</td>\n",
       "      <td>\"\"\"I was on reclipsen for less than 2 weeks an...</td>\n",
       "      <td>1.0</td>\n",
       "      <td>June 28, 2017</td>\n",
       "      <td>2</td>\n",
       "      <td>1</td>\n",
       "      <td>[\"\"\"i, was, on, reclipsen, for, less, than, 2,...</td>\n",
       "      <td>(0.0, 0.0, 0.0, 0.0, 0.0, 0.0, 0.0, 0.0, 0.0, ...</td>\n",
       "      <td>(0.0, 0.0, 0.0, 0.0, 0.0, 0.0, 0.0, 0.0, 0.0, ...</td>\n",
       "    </tr>\n",
       "    <tr>\n",
       "      <th>7</th>\n",
       "      <td>100011</td>\n",
       "      <td>Desogestrel / ethinyl estradiol</td>\n",
       "      <td>Birth Control</td>\n",
       "      <td>\"\"\"I have been on Apri for 4 months, I&amp;#039;m ...</td>\n",
       "      <td>8.0</td>\n",
       "      <td>June 19, 2017</td>\n",
       "      <td>3</td>\n",
       "      <td>8</td>\n",
       "      <td>[\"\"\"i, have, been, on, apri, for, 4, months,, ...</td>\n",
       "      <td>(0.0, 0.0, 0.0, 0.0, 0.0, 0.0, 0.0, 0.0, 0.0, ...</td>\n",
       "      <td>(0.0, 0.0, 0.0, 0.0, 0.0, 0.0, 0.0, 0.0, 0.0, ...</td>\n",
       "    </tr>\n",
       "    <tr>\n",
       "      <th>8</th>\n",
       "      <td>100012</td>\n",
       "      <td>Desogestrel / ethinyl estradiol</td>\n",
       "      <td>Birth Control</td>\n",
       "      <td>\"\"\"I&amp;#039;ve been taking Velivet for about a y...</td>\n",
       "      <td>9.0</td>\n",
       "      <td>June 17, 2017</td>\n",
       "      <td>2</td>\n",
       "      <td>9</td>\n",
       "      <td>[\"\"\"i&amp;#039;ve, been, taking, velivet, for, abo...</td>\n",
       "      <td>(0.0, 0.0, 0.0, 0.0, 0.0, 0.0, 0.0, 0.0, 0.0, ...</td>\n",
       "      <td>(0.0, 0.0, 0.0, 0.0, 0.0, 0.0, 0.0, 0.0, 0.0, ...</td>\n",
       "    </tr>\n",
       "    <tr>\n",
       "      <th>9</th>\n",
       "      <td>100013</td>\n",
       "      <td>Desogestrel / ethinyl estradiol</td>\n",
       "      <td>Birth Control</td>\n",
       "      <td>\"\"\"Gives me heartburn and indigestion. Also ma...</td>\n",
       "      <td>2.0</td>\n",
       "      <td>June 8, 2017</td>\n",
       "      <td>1</td>\n",
       "      <td>2</td>\n",
       "      <td>[\"\"\"gives, me, heartburn, and, indigestion., a...</td>\n",
       "      <td>(0.0, 0.0, 0.0, 0.0, 0.0, 0.0, 0.0, 0.0, 0.0, ...</td>\n",
       "      <td>(0.0, 0.0, 0.0, 0.0, 0.0, 0.0, 0.0, 0.0, 0.0, ...</td>\n",
       "    </tr>\n",
       "  </tbody>\n",
       "</table>\n",
       "</div>"
      ],
      "text/plain": [
       "      _c0                         drugName                  condition  \\\n",
       "0      10              Medroxyprogesterone  Abnormal Uterine Bleeding   \n",
       "1    1000                       Everolimus               Breast Cance   \n",
       "2   10000                   Lo Loestrin Fe              Birth Control   \n",
       "3  100004  Desogestrel / ethinyl estradiol              Birth Control   \n",
       "4  100007  Desogestrel / ethinyl estradiol              Birth Control   \n",
       "5  100008  Desogestrel / ethinyl estradiol              Birth Control   \n",
       "6  100009  Desogestrel / ethinyl estradiol              Birth Control   \n",
       "7  100011  Desogestrel / ethinyl estradiol              Birth Control   \n",
       "8  100012  Desogestrel / ethinyl estradiol              Birth Control   \n",
       "9  100013  Desogestrel / ethinyl estradiol              Birth Control   \n",
       "\n",
       "                                              review rating              date  \\\n",
       "0  \"\"\"I&#039;m 17 years old and I got shot in Aug...    7.0  October 20, 2015   \n",
       "1  \"\"\"Although the medication did effectively tre...    2.0    March 15, 2016   \n",
       "2  \"\"\"I was on this birth control for 8 months. T...    7.0    April 10, 2013   \n",
       "3  \"\"\"I have been taking Azurette for 3 years now...    8.0     July 11, 2017   \n",
       "4  \"\"\"At the beginning, Kariva seemed to be worki...    5.0     June 29, 2017   \n",
       "5  \"\"\"This is yet another update. Just finished m...    1.0     June 28, 2017   \n",
       "6  \"\"\"I was on reclipsen for less than 2 weeks an...    1.0     June 28, 2017   \n",
       "7  \"\"\"I have been on Apri for 4 months, I&#039;m ...    8.0     June 19, 2017   \n",
       "8  \"\"\"I&#039;ve been taking Velivet for about a y...    9.0     June 17, 2017   \n",
       "9  \"\"\"Gives me heartburn and indigestion. Also ma...    2.0      June 8, 2017   \n",
       "\n",
       "   usefulCount  ratingNum                                              words  \\\n",
       "0            2          7  [\"\"\"i&#039;m, 17, years, old, and, i, got, sho...   \n",
       "1            4          2  [\"\"\"although, the, medication, did, effectivel...   \n",
       "2            4          7  [\"\"\"i, was, on, this, birth, control, for, 8, ...   \n",
       "3            1          8  [\"\"\"i, have, been, taking, azurette, for, 3, y...   \n",
       "4            0          5  [\"\"\"at, the, beginning,, kariva, seemed, to, b...   \n",
       "5            0          1  [\"\"\"this, is, yet, another, update., just, fin...   \n",
       "6            2          1  [\"\"\"i, was, on, reclipsen, for, less, than, 2,...   \n",
       "7            3          8  [\"\"\"i, have, been, on, apri, for, 4, months,, ...   \n",
       "8            2          9  [\"\"\"i&#039;ve, been, taking, velivet, for, abo...   \n",
       "9            1          2  [\"\"\"gives, me, heartburn, and, indigestion., a...   \n",
       "\n",
       "                                         rawFeatures  \\\n",
       "0  (0.0, 0.0, 0.0, 0.0, 0.0, 0.0, 0.0, 0.0, 0.0, ...   \n",
       "1  (0.0, 0.0, 0.0, 0.0, 0.0, 0.0, 0.0, 0.0, 0.0, ...   \n",
       "2  (0.0, 0.0, 0.0, 0.0, 0.0, 0.0, 0.0, 0.0, 0.0, ...   \n",
       "3  (0.0, 0.0, 0.0, 0.0, 0.0, 0.0, 0.0, 0.0, 0.0, ...   \n",
       "4  (0.0, 0.0, 0.0, 0.0, 0.0, 0.0, 0.0, 0.0, 0.0, ...   \n",
       "5  (0.0, 0.0, 0.0, 0.0, 0.0, 0.0, 0.0, 0.0, 0.0, ...   \n",
       "6  (0.0, 0.0, 0.0, 0.0, 0.0, 0.0, 0.0, 0.0, 0.0, ...   \n",
       "7  (0.0, 0.0, 0.0, 0.0, 0.0, 0.0, 0.0, 0.0, 0.0, ...   \n",
       "8  (0.0, 0.0, 0.0, 0.0, 0.0, 0.0, 0.0, 0.0, 0.0, ...   \n",
       "9  (0.0, 0.0, 0.0, 0.0, 0.0, 0.0, 0.0, 0.0, 0.0, ...   \n",
       "\n",
       "                                     revviewFeatures  \n",
       "0  (0.0, 0.0, 0.0, 0.0, 0.0, 0.0, 0.0, 0.0, 0.0, ...  \n",
       "1  (0.0, 0.0, 0.0, 0.0, 0.0, 0.0, 0.0, 0.0, 0.0, ...  \n",
       "2  (0.0, 0.0, 0.0, 0.0, 0.0, 0.0, 0.0, 0.0, 0.0, ...  \n",
       "3  (0.0, 0.0, 0.0, 0.0, 0.0, 0.0, 0.0, 0.0, 0.0, ...  \n",
       "4  (0.0, 0.0, 0.0, 0.0, 0.0, 0.0, 0.0, 0.0, 0.0, ...  \n",
       "5  (0.0, 0.0, 0.0, 0.0, 0.0, 0.0, 0.0, 0.0, 0.0, ...  \n",
       "6  (0.0, 0.0, 0.0, 0.0, 0.0, 0.0, 0.0, 0.0, 0.0, ...  \n",
       "7  (0.0, 0.0, 0.0, 0.0, 0.0, 0.0, 0.0, 0.0, 0.0, ...  \n",
       "8  (0.0, 0.0, 0.0, 0.0, 0.0, 0.0, 0.0, 0.0, 0.0, ...  \n",
       "9  (0.0, 0.0, 0.0, 0.0, 0.0, 0.0, 0.0, 0.0, 0.0, ...  "
      ]
     },
     "execution_count": 33,
     "metadata": {},
     "output_type": "execute_result"
    }
   ],
   "source": [
    "train_proc.limit(10).toPandas()"
   ]
  },
  {
   "cell_type": "code",
   "execution_count": 34,
   "metadata": {},
   "outputs": [
    {
     "data": {
      "text/plain": [
       "Row(_c0='10', drugName='Medroxyprogesterone', condition='Abnormal Uterine Bleeding', review='\"\"\"I&#039;m 17 years old and I got shot in August 2015, personally. I don&#039;t mind it. I mean, I bleed little bits and random times, but I&#039;d rather have the blood that&#039;s supposed to come out, come out and not worry about where it&#039;s going or staying in my body. I have my other injection in November on the 2nd, and I&#039;m still wondering if I could take it again. The only downside to the injection is that I gained access weight and I&#039;m kind of moody.\"\"\"', rating='7.0', date='October 20, 2015', usefulCount=2, ratingNum=7, words=['\"\"\"i&#039;m', '17', 'years', 'old', 'and', 'i', 'got', 'shot', 'in', 'august', '2015,', 'personally.', 'i', 'don&#039;t', 'mind', 'it.', 'i', 'mean,', 'i', 'bleed', 'little', 'bits', 'and', 'random', 'times,', 'but', 'i&#039;d', 'rather', 'have', 'the', 'blood', 'that&#039;s', 'supposed', 'to', 'come', 'out,', 'come', 'out', 'and', 'not', 'worry', 'about', 'where', 'it&#039;s', 'going', 'or', 'staying', 'in', 'my', 'body.', 'i', 'have', 'my', 'other', 'injection', 'in', 'november', 'on', 'the', '2nd,', 'and', 'i&#039;m', 'still', 'wondering', 'if', 'i', 'could', 'take', 'it', 'again.', 'the', 'only', 'downside', 'to', 'the', 'injection', 'is', 'that', 'i', 'gained', 'access', 'weight', 'and', 'i&#039;m', 'kind', 'of', 'moody.\"\"\"'], rawFeatures=SparseVector(8388608, {18700: 1.0, 119453: 1.0, 181635: 1.0, 192185: 1.0, 338250: 1.0, 530945: 1.0, 582960: 1.0, 814008: 2.0, 834880: 1.0, 854204: 1.0, 862101: 1.0, 1089997: 1.0, 1166551: 1.0, 1230811: 1.0, 1641268: 1.0, 1668228: 1.0, 1937390: 1.0, 2128688: 1.0, 2225914: 1.0, 2390246: 1.0, 2430421: 1.0, 2504812: 1.0, 2764941: 1.0, 2797697: 1.0, 3100046: 1.0, 3179805: 2.0, 3207553: 1.0, 3213144: 1.0, 3441107: 1.0, 3449811: 1.0, 3612252: 2.0, 3745974: 1.0, 3788007: 1.0, 3977482: 1.0, 4228221: 1.0, 4323378: 1.0, 4678141: 1.0, 4682346: 1.0, 4697392: 2.0, 4737628: 7.0, 5420559: 1.0, 5548558: 1.0, 5600913: 4.0, 5835162: 1.0, 5846300: 1.0, 5863186: 1.0, 5878912: 1.0, 6187973: 1.0, 6213250: 1.0, 6355523: 2.0, 6544931: 2.0, 6661592: 1.0, 6714782: 1.0, 6922585: 1.0, 6928394: 1.0, 6986432: 1.0, 7121876: 1.0, 7133527: 1.0, 7133528: 1.0, 7319910: 1.0, 7387842: 1.0, 7700902: 1.0, 7853031: 3.0, 8083407: 1.0, 8346379: 5.0, 8364976: 1.0}), revviewFeatures=SparseVector(8388608, {18700: 1.3695, 119453: 1.6833, 181635: 1.5272, 192185: 4.7218, 338250: 1.8167, 530945: 3.6052, 582960: 2.5372, 814008: 0.5931, 834880: 0.9364, 854204: 8.628, 862101: 3.0481, 1089997: 7.8776, 1166551: 4.3578, 1230811: 3.0566, 1641268: 2.2433, 1668228: 8.6578, 1937390: 2.4479, 2128688: 2.0668, 2225914: 5.1467, 2390246: 0.4121, 2430421: 1.9905, 2504812: 7.4722, 2764941: 2.124, 2797697: 2.1991, 3100046: 3.8956, 3179805: 9.29, 3207553: 5.4341, 3213144: 0.6937, 3441107: 6.5485, 3449811: 3.7418, 3612252: 7.2935, 3745974: 3.3715, 3788007: 3.1685, 3977482: 2.0766, 4228221: 0.7117, 4323378: 5.5197, 4678141: 1.0257, 4682346: 2.0238, 4697392: 0.6905, 4737628: 1.1571, 5420559: 5.0355, 5548558: 5.0428, 5600913: 0.9819, 5835162: 5.2926, 5846300: 4.4198, 5863186: 8.1653, 5878912: 1.7794, 6187973: 4.344, 6213250: 1.8182, 6355523: 3.1385, 6544931: 1.1683, 6661592: 5.2895, 6714782: 3.615, 6922585: 0.8264, 6928394: 3.4214, 6986432: 4.3116, 7121876: 5.2327, 7133527: 1.5758, 7133528: 4.5008, 7319910: 2.4622, 7387842: 5.6411, 7700902: 4.6875, 7853031: 2.291, 8083407: 0.5699, 8346379: 0.882, 8364976: 8.147}))"
      ]
     },
     "execution_count": 34,
     "metadata": {},
     "output_type": "execute_result"
    }
   ],
   "source": [
    "train_proc.rdd.first()"
   ]
  },
  {
   "cell_type": "markdown",
   "metadata": {},
   "source": [
    "Если все таки удалось собрать датасет, то запускаем линейную регрессию"
   ]
  },
  {
   "cell_type": "code",
   "execution_count": 40,
   "metadata": {
    "cell_status": {
     "execute_time": {
      "duration": 246.6259765625,
      "end_time": 1614008119542.424
     }
    }
   },
   "outputs": [],
   "source": [
    "lr = LinearRegression(featuresCol='features',\n",
    "                      labelCol='usefulCount', maxIter=10, regParam=0.3, elasticNetParam=0.8)"
   ]
  },
  {
   "cell_type": "code",
   "execution_count": 41,
   "metadata": {
    "cell_status": {
     "execute_time": {
      "duration": 13373.862060546875,
      "end_time": 1614008132927.959
     }
    }
   },
   "outputs": [],
   "source": [
    "lrModel = lr.fit(train_proc)"
   ]
  },
  {
   "cell_type": "code",
   "execution_count": 43,
   "metadata": {},
   "outputs": [],
   "source": [
    "test_proc = preproc.fit(train).transform(test).cache()"
   ]
  },
  {
   "cell_type": "code",
   "execution_count": 44,
   "metadata": {
    "cell_status": {
     "execute_time": {
      "duration": 264.359130859375,
      "end_time": 1614008133204.069
     }
    },
    "scrolled": true
   },
   "outputs": [
    {
     "data": {
      "text/plain": [
       "SparseVector(5395, {0: -3.7545, 1: -0.0355, 7: 0.8078, 8: -2.7885, 11: 18.5616, 12: -2.3546, 14: 4.6498, 15: -4.9653, 17: 0.6126, 18: 2.3493, 19: -1.7976, 20: -1.3357, 21: -3.2576, 24: 5.2494, 25: 1.5976, 27: -5.5526, 29: 15.0816, 30: -3.3315, 31: -5.9904, 32: 3.7087, 34: -1.4971, 36: 16.8379, 37: -3.4556, 41: 17.9128, 42: 9.7683, 44: -4.2676, 45: 6.7376, 47: -5.9377, 48: 19.7566, 49: 21.3983, 50: 1.1777, 54: -0.2147, 56: -3.9873, 60: -6.6768, 61: 0.3845, 62: 15.678, 63: 4.3384, 65: 1.9675, 66: 5.5691, 68: -6.2524, 73: 21.2717, 75: 2.931, 77: 12.8736, 79: 11.3858, 81: 1.9036, 83: 12.0439, 85: 0.8322, 88: -1.225, 89: 3.5373, 93: -0.7137, 95: -3.2439, 96: 8.8043, 102: 4.8084, 105: 13.7059, 106: 8.5891, 107: 8.42, 108: 20.9191, 109: 12.598, 110: -4.3021, 116: 14.4833, 117: 0.6798, 118: 2.3975, 119: -5.6995, 121: 8.1533, 123: 6.5829, 124: 12.0032, 125: 23.0656, 128: 0.2559, 142: 6.9898, 144: 12.4007, 146: 14.5449, 147: 35.3707, 149: 5.9645, 151: 3.6349, 152: 8.696, 157: 2.7769, 158: 0.9476, 161: 5.4251, 163: 1.6097, 164: -1.4158, 165: 1.8378, 169: 2.121, 173: 5.1549, 176: 26.5629, 179: 1.8038, 180: 6.5359, 183: -0.0186, 187: -2.1485, 189: 23.112, 191: -1.7985, 195: -0.6695, 200: 1.8675, 203: 7.0145, 205: 0.4502, 206: 29.7955, 210: -4.9249, 211: -0.7681, 216: 12.3237, 217: -1.399, 221: 1.141, 222: 4.2851, 223: 5.41, 225: -3.8069, 230: 8.2404, 233: 2.1346, 236: 20.0201, 239: 2.2546, 241: 16.3717, 242: -2.9422, 243: 5.754, 246: 27.4169, 247: 5.7982, 249: 36.2351, 250: 5.728, 252: 2.9898, 261: 7.8996, 262: 17.2336, 263: 5.1681, 271: 8.0904, 274: 24.7644, 279: 8.8447, 286: 2.7102, 287: 14.4636, 292: 42.9043, 293: 2.2172, 294: 9.1338, 298: 12.5616, 301: 12.8293, 302: -0.331, 303: 23.481, 304: 11.7264, 306: 8.6811, 307: 13.4477, 309: 5.5525, 312: 18.1105, 316: 7.583, 319: 3.3941, 328: 5.5313, 333: 22.5428, 335: 2.6698, 336: 17.3383, 337: -0.6297, 342: 16.2408, 344: 0.7856, 347: 6.6051, 352: 4.1448, 362: 2.349, 373: 2.6483, 382: 6.0761, 383: 15.3064, 389: -2.0972, 392: 29.6237, 394: 6.6994, 396: 21.0984, 397: -0.3186, 399: 29.1816, 402: 0.5267, 403: -2.5933, 404: 5.9853, 405: -3.0832, 406: 0.3957, 413: 11.3923, 415: 0.2308, 417: 6.2147, 419: 1.7149, 425: 8.639, 427: 6.2886, 429: 1.7391, 442: -2.5149, 446: 14.9155, 449: 9.7225, 454: 2.0462, 463: 21.906, 468: 31.7983, 469: 2.552, 484: 12.6918, 485: 11.9667, 487: 9.7311, 489: 2.5505, 490: 29.7573, 493: 30.496, 494: 20.5503, 496: 8.7716, 497: 5.005, 502: 9.6223, 514: 11.4328, 518: 17.4002, 520: 0.6937, 526: 17.3725, 528: -4.3553, 530: 10.879, 536: 13.7092, 538: -1.2891, 544: 12.8121, 550: 29.6589, 551: 11.2846, 555: 15.3989, 558: 21.337, 559: 37.1865, 561: 50.7775, 566: 0.1489, 571: 13.8485, 575: 20.8023, 582: 14.439, 586: 8.939, 594: 27.7146, 601: 40.9914, 609: 0.3107, 610: -2.3617, 612: -5.3127, 615: 57.5428, 624: -3.3449, 627: 10.5987, 635: -5.9095, 638: 13.7833, 643: 13.4171, 647: 32.8379, 653: 20.1139, 657: 2.1122, 659: 7.5134, 668: 54.542, 670: 15.2197, 676: 4.1233, 677: 13.1525, 680: 36.556, 684: 48.2682, 686: 2.6642, 687: 4.4833, 688: -3.8528, 689: 21.5149, 691: 19.5627, 694: 8.1521, 696: 38.107, 699: 6.548, 707: 64.6963, 715: 7.9758, 736: 40.6037, 737: 11.8247, 742: 8.8, 747: 18.1929, 758: 6.1806, 759: 4.7161, 764: 11.5891, 767: 6.0566, 772: 8.3088, 774: 2.3976, 777: 7.5948, 784: 3.3527, 785: 27.1666, 793: 32.6379, 798: -1.3505, 799: 0.1911, 803: 11.0011, 804: 4.3924, 812: 0.1141, 813: 19.3315, 820: 11.4096, 824: 3.7452, 826: 20.2826, 827: 22.8626, 830: 30.3578, 836: 1.4917, 850: 2.0141, 858: 14.4286, 868: 9.9718, 876: 10.4048, 881: -2.6292, 883: 15.5568, 895: 34.4925, 900: 9.6613, 912: 3.6531, 924: 27.4948, 926: 8.6298, 927: 36.1067, 935: 13.6352, 939: 36.0327, 946: 39.1367, 950: 29.5237, 964: 10.6528, 971: 25.4069, 973: 0.439, 978: 5.6944, 987: -7.2474, 993: -0.464, 1008: 35.8263, 1011: 9.781, 1027: 11.3685, 1029: 8.4525, 1038: 39.9844, 1043: -0.4723, 1063: 4.9908, 1082: 27.0127, 1095: -3.0194, 1100: -0.7146, 1107: 12.9218, 1109: 5.8063, 1114: 13.2587, 1121: 1.3489, 1146: 49.5924, 1170: 8.9961, 1189: -0.2853, 1215: 24.4764, 1225: 17.0678, 1247: 24.9662, 1258: -0.0699, 1272: 5.212, 1274: 96.2792, 1304: 17.0741, 1306: 9.0289, 1308: 12.4658, 1350: 25.5081, 1364: 4.6801, 1372: 17.4796, 1373: 1.669, 1386: 8.9843, 1409: 13.3856, 1495: 2.8513, 1501: 22.7079, 1530: 31.0299, 1564: 3.494, 1584: 30.0222, 1631: 51.6394, 1718: 29.7113, 2028: 11.8305, 2100: 10.21, 2270: 15.1717, 2293: 42.2083, 2404: 49.7571, 2409: 33.3743, 2612: 40.3879, 3391: 30.7915, 3492: -13.0823, 3493: 19.3132, 3494: 4.365, 3495: 14.5985, 3496: -7.4041, 3497: 5.2125, 3498: 6.9051, 3499: 3.5116, 3500: 6.1022, 3501: 4.3174, 3502: -5.3026, 3503: 0.1898, 3504: 14.8757, 3505: -2.881, 3506: -1.8439, 3507: 10.49, 3508: -3.084, 3509: -5.9972, 3510: -13.2914, 3511: 25.5395, 3514: 5.7303, 3515: 7.6386, 3516: -1.0249, 3517: 3.1395, 3518: 10.5091, 3519: 12.9539, 3521: 14.5624, 3522: 21.7282, 3523: -4.2396, 3524: 14.7339, 3525: 0.2682, 3526: -3.0123, 3528: 0.9074, 3529: -2.0239, 3530: 1.0954, 3531: -12.7466, 3532: 10.9027, 3533: 7.78, 3534: 2.8854, 3536: 9.2129, 3538: -11.5403, 3539: 20.5481, 3540: 0.8463, 3542: -3.9706, 3543: 8.3463, 3544: 0.2351, 3546: -2.9084, 3548: 29.6857, 3549: 1.6552, 3551: -3.5719, 3553: -18.3794, 3554: 25.7444, 3555: 6.5441, 3556: -1.4514, 3557: -4.2202, 3559: 33.7265, 3560: -5.5846, 3561: -5.3299, 3562: 1.888, 3563: -6.2088, 3565: -6.3239, 3566: 18.5696, 3567: -6.5043, 3568: 40.2981, 3570: 7.8618, 3572: -5.8863, 3575: 27.9302, 3577: -0.6683, 3578: -11.0901, 3579: 16.5266, 3580: -4.5019, 3584: 7.9845, 3585: -0.5234, 3590: 12.8635, 3596: 8.2597, 3600: 11.9186, 3602: -2.0154, 3603: 0.206, 3605: -5.1945, 3606: 7.2681, 3608: -0.225, 3609: 3.5037, 3610: -2.49, 3611: 6.1441, 3612: -6.3662, 3613: 9.4564, 3614: 8.5717, 3615: -0.4047, 3617: -0.1668, 3619: 3.3011, 3620: 9.5963, 3622: 10.5065, 3623: 12.7201, 3625: -1.4947, 3627: -12.2115, 3628: -10.5418, 3632: 13.8424, 3633: 2.9137, 3635: -11.9916, 3637: -3.5311, 3638: 9.1612, 3639: 5.506, 3640: 15.7151, 3641: 15.3599, 3644: 14.8693, 3645: -0.234, 3646: -3.0938, 3647: 25.6065, 3648: 1.5099, 3651: 4.2886, 3653: 3.5411, 3657: -10.4445, 3666: -9.8398, 3667: 19.2219, 3668: 13.1361, 3670: -10.0346, 3672: 7.3313, 3673: 5.1184, 3674: -3.6529, 3676: -6.7924, 3679: -9.6295, 3684: -1.9957, 3686: -0.1795, 3690: 16.392, 3694: 4.1293, 3697: -8.139, 3699: -1.4405, 3700: 6.136, 3705: 6.4904, 3712: 21.9758, 3714: -8.8188, 3719: -0.9071, 3722: 6.7619, 3726: -13.783, 3729: -4.1445, 3730: -0.9002, 3733: 4.5558, 3734: -7.4407, 3735: 3.6441, 3751: 19.5737, 3752: -4.9501, 3755: -2.0686, 3758: -4.2213, 3760: -2.9393, 3766: -0.1193, 3779: -15.1641, 3784: 15.931, 3829: -0.2269, 3831: -2.0725, 3841: 2.7439, 3851: 38.7459, 3903: 7.2797, 4262: 0.1164, 4371: -0.0613, 4372: -0.2579, 4373: 0.4383, 4376: 0.0028, 4377: 0.1107, 4379: 0.0812, 4389: -0.3648, 4390: 0.1009, 4393: -0.0387, 4397: -0.3387, 4400: 0.0037, 4401: 0.0287, 4402: 0.1192, 4403: 0.1355, 4405: -0.1618, 4406: 0.2192, 4411: 0.1751, 4413: 0.0956, 4419: -0.0178, 4422: -0.207, 4427: 0.1036, 4429: 0.0113, 4431: -0.2847, 4438: -0.2377, 4451: -0.0093, 4456: -0.0945, 4458: 0.3724, 4459: 0.3053, 4463: 0.2283, 4467: -0.1748, 4473: 0.4043, 4475: 0.0112, 4476: 0.101, 4479: -0.0067, 4485: 0.6966, 4488: 0.0369, 4489: -0.0039, 4492: -0.1001, 4495: -1.9463, 4498: -0.2535, 4503: -0.0055, 4505: 0.0329, 4509: 0.0353, 4510: 0.6186, 4517: -0.3727, 4521: 0.0739, 4522: -0.0563, 4527: 0.1181, 4531: -0.0098, 4540: -0.1842, 4547: 0.053, 4548: 0.2608, 4551: 0.2848, 4556: 0.0, 4567: 0.0732, 4572: -0.1149, 4580: 0.1785, 4582: 0.2594, 4585: 0.4766, 4586: -0.0179, 4595: 0.25, 4598: -0.0, 4600: -0.3842, 4601: -0.0284, 4602: 0.2245, 4605: -0.0121, 4606: -0.0587, 4608: 0.2391, 4610: 0.1315, 4611: 0.1347, 4617: 0.1606, 4623: -0.0737, 4625: 0.3023, 4626: 0.1317, 4631: -0.0082, 4633: 0.6539, 4638: -0.0424, 4642: 0.8299, 4644: 0.2772, 4646: -0.0022, 4647: 0.0665, 4649: -0.0222, 4651: 0.2453, 4663: -0.1833, 4665: -0.0055, 4671: 0.0898, 4688: 0.2327, 4696: 0.0132, 4699: -0.0064, 4700: 0.3077, 4704: 0.1002, 4716: -0.0567, 4718: 0.1045, 4720: 0.706, 4725: -0.1094, 4726: 0.1764, 4728: -0.0437, 4736: 0.5797, 4745: 0.1838, 4747: 0.0494, 4751: 0.3864, 4756: 0.0968, 4758: -0.0505, 4765: 0.1385, 4771: 0.2233, 4778: -0.0068, 4779: 0.1483, 4785: 1.3222, 4787: 0.2145, 4790: 0.3377, 4796: 0.0434, 4805: -0.2535, 4807: 0.3844, 4816: -0.0195, 4820: -0.2165, 4823: 0.0286, 4826: 0.1847, 4827: 0.6226, 4829: 0.5083, 4835: 0.0306, 4836: 0.0462, 4837: 0.048, 4847: 0.2176, 4853: -0.0161, 4855: 1.7606, 4858: 0.1887, 4861: -0.0643, 4867: 0.125, 4868: -0.1212, 4871: -0.0235, 4878: -0.0443, 4883: -0.0797, 4888: -0.197, 4896: -0.1277, 4899: 0.0035, 4901: -0.0072, 4913: -0.068, 4917: 0.3408, 4919: -0.2941, 4920: -0.0957, 4927: -0.2125, 4943: 0.007, 4946: -0.0036, 4947: 0.0741, 4948: -0.4762, 4949: -0.1526, 4951: 0.1563, 4952: 0.2042, 4954: -0.3471, 4955: 0.0279, 4956: -0.0078, 4972: 0.3157, 4973: 0.2504, 4974: 0.4814, 4980: -0.1316, 4983: 0.0916, 4986: -0.0057, 4987: -0.2321, 4988: -0.1365, 4995: 0.0131, 5002: 0.0611, 5003: 0.3777, 5027: -0.417, 5034: -0.164, 5038: 0.8651, 5039: -0.2123, 5045: 0.1125, 5053: 0.1112, 5054: 0.0547, 5056: 0.1408, 5059: -0.0033, 5060: 0.7196, 5074: -0.0515, 5079: -0.0053, 5086: 0.2728, 5090: -0.0648, 5091: 0.0588, 5110: 0.0964, 5115: 0.0122, 5116: -0.0065, 5121: 0.2496, 5122: 0.158, 5123: 0.0885, 5125: -0.2843, 5131: -0.2792, 5136: 0.3833, 5140: 0.0176, 5146: -0.0293, 5147: -0.0129, 5149: 1.6843, 5153: -0.0075, 5156: 0.0502, 5175: -0.0078, 5176: 0.494, 5180: -0.0389, 5182: 0.1953, 5184: -0.0869, 5186: -0.0577, 5193: 0.0404, 5195: 0.1566, 5197: 0.3472, 5198: 0.3469, 5205: -0.0015, 5215: 0.2072, 5218: -0.0149, 5220: -0.0927, 5226: -0.056, 5227: 0.4197, 5231: -0.0056, 5232: 0.041, 5233: -0.084, 5234: -0.0078, 5237: 0.1005, 5238: -0.0001, 5241: 0.0819, 5246: 0.0131, 5247: -0.0377, 5248: 0.6621, 5249: 0.3148, 5253: -0.1329, 5264: 0.0199, 5270: 0.2506, 5271: 0.2454, 5272: 0.4572, 5273: 0.0121, 5276: -0.0663, 5287: 0.2691, 5295: 0.0469, 5296: 0.1693, 5297: -0.164, 5298: -0.1389, 5305: -0.0292, 5313: 0.3391, 5316: 0.8776, 5317: -0.1502, 5318: 0.3176, 5319: 0.0401, 5321: 0.091, 5327: -0.0089, 5331: -0.1849, 5337: -0.0231, 5338: 0.2583, 5343: 0.081, 5345: 0.1624, 5348: -0.0459, 5355: -0.1772, 5357: 0.3924, 5358: 0.1272, 5362: 0.167, 5363: 0.0384, 5367: 0.0245, 5369: 0.1684, 5375: -0.2904, 5377: 1.1523, 5381: -0.2944, 5385: -0.0231, 5391: -0.1136, 5392: 0.0505, 5394: 2.0142})"
      ]
     },
     "execution_count": 44,
     "metadata": {},
     "output_type": "execute_result"
    }
   ],
   "source": [
    "lrModel.coefficients"
   ]
  },
  {
   "cell_type": "code",
   "execution_count": 45,
   "metadata": {
    "cell_status": {
     "execute_time": {
      "duration": 249.432861328125,
      "end_time": 1614008133464.818
     }
    }
   },
   "outputs": [],
   "source": [
    "from pyspark.ml.evaluation import RegressionEvaluator\n",
    "\n",
    "predictions = lrModel.transform(test_proc)"
   ]
  },
  {
   "cell_type": "code",
   "execution_count": 46,
   "metadata": {
    "cell_status": {
     "execute_time": {
      "duration": 2274.383056640625,
      "end_time": 1614008135751.993
     }
    }
   },
   "outputs": [
    {
     "data": {
      "text/html": [
       "<div>\n",
       "<style scoped>\n",
       "    .dataframe tbody tr th:only-of-type {\n",
       "        vertical-align: middle;\n",
       "    }\n",
       "\n",
       "    .dataframe tbody tr th {\n",
       "        vertical-align: top;\n",
       "    }\n",
       "\n",
       "    .dataframe thead th {\n",
       "        text-align: right;\n",
       "    }\n",
       "</style>\n",
       "<table border=\"1\" class=\"dataframe\">\n",
       "  <thead>\n",
       "    <tr style=\"text-align: right;\">\n",
       "      <th></th>\n",
       "      <th>_c0</th>\n",
       "      <th>drugName</th>\n",
       "      <th>condition</th>\n",
       "      <th>review</th>\n",
       "      <th>rating</th>\n",
       "      <th>date</th>\n",
       "      <th>usefulCount</th>\n",
       "      <th>ratingNum</th>\n",
       "      <th>words</th>\n",
       "      <th>rawFeatures</th>\n",
       "      <th>revviewFeatures</th>\n",
       "      <th>conditionIndex</th>\n",
       "      <th>conditionVec</th>\n",
       "      <th>drugIndex</th>\n",
       "      <th>drugVec</th>\n",
       "      <th>features</th>\n",
       "      <th>prediction</th>\n",
       "    </tr>\n",
       "  </thead>\n",
       "  <tbody>\n",
       "    <tr>\n",
       "      <th>0</th>\n",
       "      <td>100</td>\n",
       "      <td>Medroxyprogesterone</td>\n",
       "      <td>Birth Control</td>\n",
       "      <td>\"\"\"Depo was not for me, but that does not mean...</td>\n",
       "      <td>5.0</td>\n",
       "      <td>August 17, 2015</td>\n",
       "      <td>2</td>\n",
       "      <td>5</td>\n",
       "      <td>[\"\"\"depo, was, not, for, me,, but, that, does,...</td>\n",
       "      <td>(0.0, 0.0, 0.0, 0.0, 0.0, 0.0, 0.0, 0.0, 0.0, ...</td>\n",
       "      <td>(0.0, 0.0, 0.0, 0.0, 0.0, 0.0, 0.0, 0.0, 0.0, ...</td>\n",
       "      <td>0.0</td>\n",
       "      <td>(1.0, 0.0, 0.0, 0.0, 0.0, 0.0, 0.0, 0.0, 0.0, ...</td>\n",
       "      <td>13.0</td>\n",
       "      <td>(0.0, 0.0, 0.0, 0.0, 0.0, 0.0, 0.0, 0.0, 0.0, ...</td>\n",
       "      <td>(0.0, 0.0, 0.0, 0.0, 0.0, 0.0, 0.0, 0.0, 0.0, ...</td>\n",
       "      <td>3.807131</td>\n",
       "    </tr>\n",
       "    <tr>\n",
       "      <th>1</th>\n",
       "      <td>100002</td>\n",
       "      <td>Desogestrel / ethinyl estradiol</td>\n",
       "      <td>Birth Control</td>\n",
       "      <td>\"\"\"I have been taking this birth control for f...</td>\n",
       "      <td>4.0</td>\n",
       "      <td>July 12, 2017</td>\n",
       "      <td>2</td>\n",
       "      <td>4</td>\n",
       "      <td>[\"\"\"i, have, been, taking, this, birth, contro...</td>\n",
       "      <td>(0.0, 0.0, 0.0, 0.0, 0.0, 0.0, 0.0, 0.0, 0.0, ...</td>\n",
       "      <td>(0.0, 0.0, 0.0, 0.0, 0.0, 0.0, 0.0, 0.0, 0.0, ...</td>\n",
       "      <td>0.0</td>\n",
       "      <td>(1.0, 0.0, 0.0, 0.0, 0.0, 0.0, 0.0, 0.0, 0.0, ...</td>\n",
       "      <td>57.0</td>\n",
       "      <td>(0.0, 0.0, 0.0, 0.0, 0.0, 0.0, 0.0, 0.0, 0.0, ...</td>\n",
       "      <td>(0.0, 0.0, 0.0, 0.0, 0.0, 0.0, 0.0, 0.0, 0.0, ...</td>\n",
       "      <td>3.221320</td>\n",
       "    </tr>\n",
       "    <tr>\n",
       "      <th>2</th>\n",
       "      <td>100017</td>\n",
       "      <td>Desogestrel / ethinyl estradiol</td>\n",
       "      <td>Birth Control</td>\n",
       "      <td>\"\"\"Love it! Been continuously dosing without b...</td>\n",
       "      <td>9.0</td>\n",
       "      <td>May 30, 2017</td>\n",
       "      <td>3</td>\n",
       "      <td>9</td>\n",
       "      <td>[\"\"\"love, it!, been, continuously, dosing, wit...</td>\n",
       "      <td>(0.0, 0.0, 0.0, 0.0, 0.0, 0.0, 0.0, 0.0, 0.0, ...</td>\n",
       "      <td>(0.0, 0.0, 0.0, 0.0, 0.0, 0.0, 0.0, 0.0, 0.0, ...</td>\n",
       "      <td>0.0</td>\n",
       "      <td>(1.0, 0.0, 0.0, 0.0, 0.0, 0.0, 0.0, 0.0, 0.0, ...</td>\n",
       "      <td>57.0</td>\n",
       "      <td>(0.0, 0.0, 0.0, 0.0, 0.0, 0.0, 0.0, 0.0, 0.0, ...</td>\n",
       "      <td>(0.0, 0.0, 0.0, 0.0, 0.0, 0.0, 0.0, 0.0, 0.0, ...</td>\n",
       "      <td>13.877898</td>\n",
       "    </tr>\n",
       "    <tr>\n",
       "      <th>3</th>\n",
       "      <td>10002</td>\n",
       "      <td>Lo Loestrin Fe</td>\n",
       "      <td>Birth Control</td>\n",
       "      <td>\"\"\"Well, I&amp;#039;ve been on this right now for ...</td>\n",
       "      <td>6.0</td>\n",
       "      <td>April 4, 2013</td>\n",
       "      <td>10</td>\n",
       "      <td>6</td>\n",
       "      <td>[\"\"\"well,, i&amp;#039;ve, been, on, this, right, n...</td>\n",
       "      <td>(0.0, 0.0, 0.0, 0.0, 0.0, 0.0, 0.0, 0.0, 0.0, ...</td>\n",
       "      <td>(0.0, 0.0, 0.0, 0.0, 0.0, 0.0, 0.0, 0.0, 0.0, ...</td>\n",
       "      <td>0.0</td>\n",
       "      <td>(1.0, 0.0, 0.0, 0.0, 0.0, 0.0, 0.0, 0.0, 0.0, ...</td>\n",
       "      <td>35.0</td>\n",
       "      <td>(0.0, 0.0, 0.0, 0.0, 0.0, 0.0, 0.0, 0.0, 0.0, ...</td>\n",
       "      <td>(0.0, 0.0, 0.0, 0.0, 0.0, 0.0, 0.0, 0.0, 0.0, ...</td>\n",
       "      <td>11.811314</td>\n",
       "    </tr>\n",
       "    <tr>\n",
       "      <th>4</th>\n",
       "      <td>100021</td>\n",
       "      <td>Desogestrel / ethinyl estradiol</td>\n",
       "      <td>Birth Control</td>\n",
       "      <td>\"\"\"So I&amp;#039;ve been on this birth control a l...</td>\n",
       "      <td>5.0</td>\n",
       "      <td>May 18, 2017</td>\n",
       "      <td>3</td>\n",
       "      <td>5</td>\n",
       "      <td>[\"\"\"so, i&amp;#039;ve, been, on, this, birth, cont...</td>\n",
       "      <td>(0.0, 0.0, 0.0, 0.0, 0.0, 0.0, 0.0, 0.0, 0.0, ...</td>\n",
       "      <td>(0.0, 0.0, 0.0, 0.0, 0.0, 0.0, 0.0, 0.0, 0.0, ...</td>\n",
       "      <td>0.0</td>\n",
       "      <td>(1.0, 0.0, 0.0, 0.0, 0.0, 0.0, 0.0, 0.0, 0.0, ...</td>\n",
       "      <td>57.0</td>\n",
       "      <td>(0.0, 0.0, 0.0, 0.0, 0.0, 0.0, 0.0, 0.0, 0.0, ...</td>\n",
       "      <td>(0.0, 0.0, 0.0, 0.0, 0.0, 0.0, 0.0, 0.0, 0.0, ...</td>\n",
       "      <td>2.463575</td>\n",
       "    </tr>\n",
       "    <tr>\n",
       "      <th>5</th>\n",
       "      <td>100107</td>\n",
       "      <td>Desogestrel / ethinyl estradiol</td>\n",
       "      <td>Birth Control</td>\n",
       "      <td>\"\"\"completely lost every bit of sex drive i ha...</td>\n",
       "      <td>5.0</td>\n",
       "      <td>November 23, 2016</td>\n",
       "      <td>1</td>\n",
       "      <td>5</td>\n",
       "      <td>[\"\"\"completely, lost, every, bit, of, sex, dri...</td>\n",
       "      <td>(0.0, 0.0, 0.0, 0.0, 0.0, 0.0, 0.0, 0.0, 0.0, ...</td>\n",
       "      <td>(0.0, 0.0, 0.0, 0.0, 0.0, 0.0, 0.0, 0.0, 0.0, ...</td>\n",
       "      <td>0.0</td>\n",
       "      <td>(1.0, 0.0, 0.0, 0.0, 0.0, 0.0, 0.0, 0.0, 0.0, ...</td>\n",
       "      <td>57.0</td>\n",
       "      <td>(0.0, 0.0, 0.0, 0.0, 0.0, 0.0, 0.0, 0.0, 0.0, ...</td>\n",
       "      <td>(0.0, 0.0, 0.0, 0.0, 0.0, 0.0, 0.0, 0.0, 0.0, ...</td>\n",
       "      <td>2.795300</td>\n",
       "    </tr>\n",
       "    <tr>\n",
       "      <th>6</th>\n",
       "      <td>100123</td>\n",
       "      <td>Desogestrel / ethinyl estradiol</td>\n",
       "      <td>Birth Control</td>\n",
       "      <td>\"\"\"I haven&amp;#039;t taken any BC in 5 years sinc...</td>\n",
       "      <td>1.0</td>\n",
       "      <td>November 2, 2016</td>\n",
       "      <td>2</td>\n",
       "      <td>1</td>\n",
       "      <td>[\"\"\"i, haven&amp;#039;t, taken, any, bc, in, 5, ye...</td>\n",
       "      <td>(0.0, 0.0, 0.0, 0.0, 0.0, 0.0, 0.0, 0.0, 0.0, ...</td>\n",
       "      <td>(0.0, 0.0, 0.0, 0.0, 0.0, 0.0, 0.0, 0.0, 0.0, ...</td>\n",
       "      <td>0.0</td>\n",
       "      <td>(1.0, 0.0, 0.0, 0.0, 0.0, 0.0, 0.0, 0.0, 0.0, ...</td>\n",
       "      <td>57.0</td>\n",
       "      <td>(0.0, 0.0, 0.0, 0.0, 0.0, 0.0, 0.0, 0.0, 0.0, ...</td>\n",
       "      <td>(0.0, 0.0, 0.0, 0.0, 0.0, 0.0, 0.0, 0.0, 0.0, ...</td>\n",
       "      <td>8.579609</td>\n",
       "    </tr>\n",
       "    <tr>\n",
       "      <th>7</th>\n",
       "      <td>100126</td>\n",
       "      <td>Desogestrel / ethinyl estradiol</td>\n",
       "      <td>Birth Control</td>\n",
       "      <td>\"\"\"I have  used Cerelle for 9 days I feel very...</td>\n",
       "      <td>10.0</td>\n",
       "      <td>October 28, 2016</td>\n",
       "      <td>1</td>\n",
       "      <td>10</td>\n",
       "      <td>[\"\"\"i, have, , used, cerelle, for, 9, days, i,...</td>\n",
       "      <td>(0.0, 0.0, 0.0, 0.0, 0.0, 0.0, 0.0, 0.0, 0.0, ...</td>\n",
       "      <td>(0.0, 0.0, 0.0, 0.0, 0.0, 0.0, 0.0, 0.0, 0.0, ...</td>\n",
       "      <td>0.0</td>\n",
       "      <td>(1.0, 0.0, 0.0, 0.0, 0.0, 0.0, 0.0, 0.0, 0.0, ...</td>\n",
       "      <td>57.0</td>\n",
       "      <td>(0.0, 0.0, 0.0, 0.0, 0.0, 0.0, 0.0, 0.0, 0.0, ...</td>\n",
       "      <td>(0.0, 0.0, 0.0, 0.0, 0.0, 0.0, 0.0, 0.0, 0.0, ...</td>\n",
       "      <td>14.858221</td>\n",
       "    </tr>\n",
       "    <tr>\n",
       "      <th>8</th>\n",
       "      <td>100165</td>\n",
       "      <td>Desogestrel / ethinyl estradiol</td>\n",
       "      <td>Birth Control</td>\n",
       "      <td>\"\"\"I&amp;#039;ve had a pretty good experience with...</td>\n",
       "      <td>8.0</td>\n",
       "      <td>March 15, 2016</td>\n",
       "      <td>1</td>\n",
       "      <td>8</td>\n",
       "      <td>[\"\"\"i&amp;#039;ve, had, a, pretty, good, experienc...</td>\n",
       "      <td>(0.0, 0.0, 0.0, 0.0, 0.0, 0.0, 0.0, 0.0, 0.0, ...</td>\n",
       "      <td>(0.0, 0.0, 0.0, 0.0, 0.0, 0.0, 0.0, 0.0, 0.0, ...</td>\n",
       "      <td>0.0</td>\n",
       "      <td>(1.0, 0.0, 0.0, 0.0, 0.0, 0.0, 0.0, 0.0, 0.0, ...</td>\n",
       "      <td>57.0</td>\n",
       "      <td>(0.0, 0.0, 0.0, 0.0, 0.0, 0.0, 0.0, 0.0, 0.0, ...</td>\n",
       "      <td>(0.0, 0.0, 0.0, 0.0, 0.0, 0.0, 0.0, 0.0, 0.0, ...</td>\n",
       "      <td>3.726479</td>\n",
       "    </tr>\n",
       "    <tr>\n",
       "      <th>9</th>\n",
       "      <td>100167</td>\n",
       "      <td>Desogestrel / ethinyl estradiol</td>\n",
       "      <td>Birth Control</td>\n",
       "      <td>\"\"\"I had previously been on Microgestin which ...</td>\n",
       "      <td>10.0</td>\n",
       "      <td>March 11, 2016</td>\n",
       "      <td>10</td>\n",
       "      <td>10</td>\n",
       "      <td>[\"\"\"i, had, previously, been, on, microgestin,...</td>\n",
       "      <td>(0.0, 0.0, 0.0, 0.0, 0.0, 0.0, 0.0, 0.0, 0.0, ...</td>\n",
       "      <td>(0.0, 0.0, 0.0, 0.0, 0.0, 0.0, 0.0, 0.0, 0.0, ...</td>\n",
       "      <td>0.0</td>\n",
       "      <td>(1.0, 0.0, 0.0, 0.0, 0.0, 0.0, 0.0, 0.0, 0.0, ...</td>\n",
       "      <td>57.0</td>\n",
       "      <td>(0.0, 0.0, 0.0, 0.0, 0.0, 0.0, 0.0, 0.0, 0.0, ...</td>\n",
       "      <td>(0.0, 0.0, 0.0, 0.0, 0.0, 0.0, 0.0, 0.0, 0.0, ...</td>\n",
       "      <td>14.712724</td>\n",
       "    </tr>\n",
       "  </tbody>\n",
       "</table>\n",
       "</div>"
      ],
      "text/plain": [
       "      _c0                         drugName      condition  \\\n",
       "0     100              Medroxyprogesterone  Birth Control   \n",
       "1  100002  Desogestrel / ethinyl estradiol  Birth Control   \n",
       "2  100017  Desogestrel / ethinyl estradiol  Birth Control   \n",
       "3   10002                   Lo Loestrin Fe  Birth Control   \n",
       "4  100021  Desogestrel / ethinyl estradiol  Birth Control   \n",
       "5  100107  Desogestrel / ethinyl estradiol  Birth Control   \n",
       "6  100123  Desogestrel / ethinyl estradiol  Birth Control   \n",
       "7  100126  Desogestrel / ethinyl estradiol  Birth Control   \n",
       "8  100165  Desogestrel / ethinyl estradiol  Birth Control   \n",
       "9  100167  Desogestrel / ethinyl estradiol  Birth Control   \n",
       "\n",
       "                                              review rating  \\\n",
       "0  \"\"\"Depo was not for me, but that does not mean...    5.0   \n",
       "1  \"\"\"I have been taking this birth control for f...    4.0   \n",
       "2  \"\"\"Love it! Been continuously dosing without b...    9.0   \n",
       "3  \"\"\"Well, I&#039;ve been on this right now for ...    6.0   \n",
       "4  \"\"\"So I&#039;ve been on this birth control a l...    5.0   \n",
       "5  \"\"\"completely lost every bit of sex drive i ha...    5.0   \n",
       "6  \"\"\"I haven&#039;t taken any BC in 5 years sinc...    1.0   \n",
       "7  \"\"\"I have  used Cerelle for 9 days I feel very...   10.0   \n",
       "8  \"\"\"I&#039;ve had a pretty good experience with...    8.0   \n",
       "9  \"\"\"I had previously been on Microgestin which ...   10.0   \n",
       "\n",
       "                date  usefulCount  ratingNum  \\\n",
       "0    August 17, 2015            2          5   \n",
       "1      July 12, 2017            2          4   \n",
       "2       May 30, 2017            3          9   \n",
       "3      April 4, 2013           10          6   \n",
       "4       May 18, 2017            3          5   \n",
       "5  November 23, 2016            1          5   \n",
       "6   November 2, 2016            2          1   \n",
       "7   October 28, 2016            1         10   \n",
       "8     March 15, 2016            1          8   \n",
       "9     March 11, 2016           10         10   \n",
       "\n",
       "                                               words  \\\n",
       "0  [\"\"\"depo, was, not, for, me,, but, that, does,...   \n",
       "1  [\"\"\"i, have, been, taking, this, birth, contro...   \n",
       "2  [\"\"\"love, it!, been, continuously, dosing, wit...   \n",
       "3  [\"\"\"well,, i&#039;ve, been, on, this, right, n...   \n",
       "4  [\"\"\"so, i&#039;ve, been, on, this, birth, cont...   \n",
       "5  [\"\"\"completely, lost, every, bit, of, sex, dri...   \n",
       "6  [\"\"\"i, haven&#039;t, taken, any, bc, in, 5, ye...   \n",
       "7  [\"\"\"i, have, , used, cerelle, for, 9, days, i,...   \n",
       "8  [\"\"\"i&#039;ve, had, a, pretty, good, experienc...   \n",
       "9  [\"\"\"i, had, previously, been, on, microgestin,...   \n",
       "\n",
       "                                         rawFeatures  \\\n",
       "0  (0.0, 0.0, 0.0, 0.0, 0.0, 0.0, 0.0, 0.0, 0.0, ...   \n",
       "1  (0.0, 0.0, 0.0, 0.0, 0.0, 0.0, 0.0, 0.0, 0.0, ...   \n",
       "2  (0.0, 0.0, 0.0, 0.0, 0.0, 0.0, 0.0, 0.0, 0.0, ...   \n",
       "3  (0.0, 0.0, 0.0, 0.0, 0.0, 0.0, 0.0, 0.0, 0.0, ...   \n",
       "4  (0.0, 0.0, 0.0, 0.0, 0.0, 0.0, 0.0, 0.0, 0.0, ...   \n",
       "5  (0.0, 0.0, 0.0, 0.0, 0.0, 0.0, 0.0, 0.0, 0.0, ...   \n",
       "6  (0.0, 0.0, 0.0, 0.0, 0.0, 0.0, 0.0, 0.0, 0.0, ...   \n",
       "7  (0.0, 0.0, 0.0, 0.0, 0.0, 0.0, 0.0, 0.0, 0.0, ...   \n",
       "8  (0.0, 0.0, 0.0, 0.0, 0.0, 0.0, 0.0, 0.0, 0.0, ...   \n",
       "9  (0.0, 0.0, 0.0, 0.0, 0.0, 0.0, 0.0, 0.0, 0.0, ...   \n",
       "\n",
       "                                     revviewFeatures  conditionIndex  \\\n",
       "0  (0.0, 0.0, 0.0, 0.0, 0.0, 0.0, 0.0, 0.0, 0.0, ...             0.0   \n",
       "1  (0.0, 0.0, 0.0, 0.0, 0.0, 0.0, 0.0, 0.0, 0.0, ...             0.0   \n",
       "2  (0.0, 0.0, 0.0, 0.0, 0.0, 0.0, 0.0, 0.0, 0.0, ...             0.0   \n",
       "3  (0.0, 0.0, 0.0, 0.0, 0.0, 0.0, 0.0, 0.0, 0.0, ...             0.0   \n",
       "4  (0.0, 0.0, 0.0, 0.0, 0.0, 0.0, 0.0, 0.0, 0.0, ...             0.0   \n",
       "5  (0.0, 0.0, 0.0, 0.0, 0.0, 0.0, 0.0, 0.0, 0.0, ...             0.0   \n",
       "6  (0.0, 0.0, 0.0, 0.0, 0.0, 0.0, 0.0, 0.0, 0.0, ...             0.0   \n",
       "7  (0.0, 0.0, 0.0, 0.0, 0.0, 0.0, 0.0, 0.0, 0.0, ...             0.0   \n",
       "8  (0.0, 0.0, 0.0, 0.0, 0.0, 0.0, 0.0, 0.0, 0.0, ...             0.0   \n",
       "9  (0.0, 0.0, 0.0, 0.0, 0.0, 0.0, 0.0, 0.0, 0.0, ...             0.0   \n",
       "\n",
       "                                        conditionVec  drugIndex  \\\n",
       "0  (1.0, 0.0, 0.0, 0.0, 0.0, 0.0, 0.0, 0.0, 0.0, ...       13.0   \n",
       "1  (1.0, 0.0, 0.0, 0.0, 0.0, 0.0, 0.0, 0.0, 0.0, ...       57.0   \n",
       "2  (1.0, 0.0, 0.0, 0.0, 0.0, 0.0, 0.0, 0.0, 0.0, ...       57.0   \n",
       "3  (1.0, 0.0, 0.0, 0.0, 0.0, 0.0, 0.0, 0.0, 0.0, ...       35.0   \n",
       "4  (1.0, 0.0, 0.0, 0.0, 0.0, 0.0, 0.0, 0.0, 0.0, ...       57.0   \n",
       "5  (1.0, 0.0, 0.0, 0.0, 0.0, 0.0, 0.0, 0.0, 0.0, ...       57.0   \n",
       "6  (1.0, 0.0, 0.0, 0.0, 0.0, 0.0, 0.0, 0.0, 0.0, ...       57.0   \n",
       "7  (1.0, 0.0, 0.0, 0.0, 0.0, 0.0, 0.0, 0.0, 0.0, ...       57.0   \n",
       "8  (1.0, 0.0, 0.0, 0.0, 0.0, 0.0, 0.0, 0.0, 0.0, ...       57.0   \n",
       "9  (1.0, 0.0, 0.0, 0.0, 0.0, 0.0, 0.0, 0.0, 0.0, ...       57.0   \n",
       "\n",
       "                                             drugVec  \\\n",
       "0  (0.0, 0.0, 0.0, 0.0, 0.0, 0.0, 0.0, 0.0, 0.0, ...   \n",
       "1  (0.0, 0.0, 0.0, 0.0, 0.0, 0.0, 0.0, 0.0, 0.0, ...   \n",
       "2  (0.0, 0.0, 0.0, 0.0, 0.0, 0.0, 0.0, 0.0, 0.0, ...   \n",
       "3  (0.0, 0.0, 0.0, 0.0, 0.0, 0.0, 0.0, 0.0, 0.0, ...   \n",
       "4  (0.0, 0.0, 0.0, 0.0, 0.0, 0.0, 0.0, 0.0, 0.0, ...   \n",
       "5  (0.0, 0.0, 0.0, 0.0, 0.0, 0.0, 0.0, 0.0, 0.0, ...   \n",
       "6  (0.0, 0.0, 0.0, 0.0, 0.0, 0.0, 0.0, 0.0, 0.0, ...   \n",
       "7  (0.0, 0.0, 0.0, 0.0, 0.0, 0.0, 0.0, 0.0, 0.0, ...   \n",
       "8  (0.0, 0.0, 0.0, 0.0, 0.0, 0.0, 0.0, 0.0, 0.0, ...   \n",
       "9  (0.0, 0.0, 0.0, 0.0, 0.0, 0.0, 0.0, 0.0, 0.0, ...   \n",
       "\n",
       "                                            features  prediction  \n",
       "0  (0.0, 0.0, 0.0, 0.0, 0.0, 0.0, 0.0, 0.0, 0.0, ...    3.807131  \n",
       "1  (0.0, 0.0, 0.0, 0.0, 0.0, 0.0, 0.0, 0.0, 0.0, ...    3.221320  \n",
       "2  (0.0, 0.0, 0.0, 0.0, 0.0, 0.0, 0.0, 0.0, 0.0, ...   13.877898  \n",
       "3  (0.0, 0.0, 0.0, 0.0, 0.0, 0.0, 0.0, 0.0, 0.0, ...   11.811314  \n",
       "4  (0.0, 0.0, 0.0, 0.0, 0.0, 0.0, 0.0, 0.0, 0.0, ...    2.463575  \n",
       "5  (0.0, 0.0, 0.0, 0.0, 0.0, 0.0, 0.0, 0.0, 0.0, ...    2.795300  \n",
       "6  (0.0, 0.0, 0.0, 0.0, 0.0, 0.0, 0.0, 0.0, 0.0, ...    8.579609  \n",
       "7  (0.0, 0.0, 0.0, 0.0, 0.0, 0.0, 0.0, 0.0, 0.0, ...   14.858221  \n",
       "8  (0.0, 0.0, 0.0, 0.0, 0.0, 0.0, 0.0, 0.0, 0.0, ...    3.726479  \n",
       "9  (0.0, 0.0, 0.0, 0.0, 0.0, 0.0, 0.0, 0.0, 0.0, ...   14.712724  "
      ]
     },
     "execution_count": 46,
     "metadata": {},
     "output_type": "execute_result"
    }
   ],
   "source": [
    "predictions.limit(10).toPandas()"
   ]
  },
  {
   "cell_type": "code",
   "execution_count": 47,
   "metadata": {
    "cell_status": {
     "execute_time": {
      "duration": 2279.85205078125,
      "end_time": 1614008138042.79
     }
    }
   },
   "outputs": [
    {
     "data": {
      "text/plain": [
       "0.29985621946711505"
      ]
     },
     "execution_count": 47,
     "metadata": {},
     "output_type": "execute_result"
    }
   ],
   "source": [
    "lr_evaluator = RegressionEvaluator(predictionCol=\"prediction\", labelCol=\"usefulCount\", metricName=\"r2\")\n",
    "lr_evaluator.evaluate(predictions)"
   ]
  },
  {
   "cell_type": "code",
   "execution_count": null,
   "metadata": {},
   "outputs": [],
   "source": []
  },
  {
   "cell_type": "markdown",
   "metadata": {},
   "source": [
    "С недавнего времени на Spark появился CatBoost. Давайте попробуем поиграться с этим инструментом."
   ]
  },
  {
   "cell_type": "code",
   "execution_count": 1,
   "metadata": {},
   "outputs": [],
   "source": [
    "import findspark\n",
    "findspark.init()"
   ]
  },
  {
   "cell_type": "code",
   "execution_count": 2,
   "metadata": {},
   "outputs": [],
   "source": [
    "import pyspark\n",
    "se = pyspark.sql.SparkSession.builder.appName(\"MyApp2\") \\\n",
    "            .config(\"spark.jars.packages\", \"ai.catboost:catboost-spark_3.0_2.12:1.1.1\") \\\n",
    "            .config(\"spark.dynamicAllocation.enabled\", False) \\\n",
    "            .config(\"spark.locality.wait\", 0) \\\n",
    "            .getOrCreate()\n"
   ]
  },
  {
   "cell_type": "code",
   "execution_count": 3,
   "metadata": {},
   "outputs": [],
   "source": [
    "import catboost_spark"
   ]
  },
  {
   "cell_type": "code",
   "execution_count": 4,
   "metadata": {},
   "outputs": [],
   "source": [
    "data = se.read.option(\"delimiter\", \"\\t\").csv('/user/drugs/data/*', header=True, inferSchema=True)\n",
    "\n",
    "data = (\n",
    "    data\n",
    "    .na.drop('any')\n",
    "    .withColumn('ratingNum', data.rating.cast('integer'))\n",
    ")\n",
    "\n",
    "\n",
    "train, test = data.randomSplit([0.9, 0.1], 422)\n",
    "train, test = train.cache(), test.cache()"
   ]
  },
  {
   "cell_type": "code",
   "execution_count": 5,
   "metadata": {},
   "outputs": [],
   "source": [
    "from pyspark.ml.classification import LogisticRegression\n",
    "from pyspark.ml.regression import LinearRegression\n",
    "from pyspark.ml.feature import HashingTF, IDF, Tokenizer\n",
    "from pyspark.ml import Pipeline\n",
    "from pyspark.ml.feature import OneHotEncoder, StringIndexer, VectorAssembler"
   ]
  },
  {
   "cell_type": "code",
   "execution_count": 6,
   "metadata": {},
   "outputs": [],
   "source": [
    "stringIndexerCondition = StringIndexer(inputCol='condition', outputCol = \"conditionIndex\").setHandleInvalid(\"skip\")\n",
    "encoderCondition = OneHotEncoder(inputCol=\"conditionIndex\", outputCol=\"conditionVec\")\n",
    "\n",
    "stringIndexerDrug = StringIndexer(inputCol='drugName', outputCol = \"drugIndex\").setHandleInvalid(\"skip\")\n",
    "encoderDrug = OneHotEncoder(inputCol=\"drugIndex\", outputCol=\"drugVec\")\n",
    "\n",
    "assembler = VectorAssembler(inputCols=[\"drugVec\", \"conditionVec\", 'ratingNum'], outputCol=\"features\")\n",
    "\n",
    "\n",
    "preproc = Pipeline(stages=[\n",
    "    stringIndexerCondition,\n",
    "    encoderCondition,\n",
    "    stringIndexerDrug,\n",
    "    encoderDrug,\n",
    "    assembler\n",
    "])"
   ]
  },
  {
   "cell_type": "code",
   "execution_count": 7,
   "metadata": {},
   "outputs": [],
   "source": [
    "preproc = preproc.fit(data)"
   ]
  },
  {
   "cell_type": "code",
   "execution_count": 8,
   "metadata": {},
   "outputs": [],
   "source": [
    "train_proc = preproc.transform(train).cache()\n",
    "test_proc = preproc.transform(test).cache()"
   ]
  },
  {
   "cell_type": "code",
   "execution_count": 9,
   "metadata": {},
   "outputs": [
    {
     "data": {
      "text/html": [
       "<div>\n",
       "<style scoped>\n",
       "    .dataframe tbody tr th:only-of-type {\n",
       "        vertical-align: middle;\n",
       "    }\n",
       "\n",
       "    .dataframe tbody tr th {\n",
       "        vertical-align: top;\n",
       "    }\n",
       "\n",
       "    .dataframe thead th {\n",
       "        text-align: right;\n",
       "    }\n",
       "</style>\n",
       "<table border=\"1\" class=\"dataframe\">\n",
       "  <thead>\n",
       "    <tr style=\"text-align: right;\">\n",
       "      <th></th>\n",
       "      <th>_c0</th>\n",
       "      <th>drugName</th>\n",
       "      <th>condition</th>\n",
       "      <th>review</th>\n",
       "      <th>rating</th>\n",
       "      <th>date</th>\n",
       "      <th>usefulCount</th>\n",
       "      <th>ratingNum</th>\n",
       "      <th>conditionIndex</th>\n",
       "      <th>conditionVec</th>\n",
       "      <th>drugIndex</th>\n",
       "      <th>drugVec</th>\n",
       "      <th>features</th>\n",
       "    </tr>\n",
       "  </thead>\n",
       "  <tbody>\n",
       "    <tr>\n",
       "      <th>0</th>\n",
       "      <td>10000</td>\n",
       "      <td>Lo Loestrin Fe</td>\n",
       "      <td>Birth Control</td>\n",
       "      <td>\"\"\"I was on this birth control for 8 months. T...</td>\n",
       "      <td>7.0</td>\n",
       "      <td>April 10, 2013</td>\n",
       "      <td>4</td>\n",
       "      <td>7</td>\n",
       "      <td>0.0</td>\n",
       "      <td>(1.0, 0.0, 0.0, 0.0, 0.0, 0.0, 0.0, 0.0, 0.0, ...</td>\n",
       "      <td>35.0</td>\n",
       "      <td>(0.0, 0.0, 0.0, 0.0, 0.0, 0.0, 0.0, 0.0, 0.0, ...</td>\n",
       "      <td>(0.0, 0.0, 0.0, 0.0, 0.0, 0.0, 0.0, 0.0, 0.0, ...</td>\n",
       "    </tr>\n",
       "    <tr>\n",
       "      <th>1</th>\n",
       "      <td>100012</td>\n",
       "      <td>Desogestrel / ethinyl estradiol</td>\n",
       "      <td>Birth Control</td>\n",
       "      <td>\"\"\"I&amp;#039;ve been taking Velivet for about a y...</td>\n",
       "      <td>9.0</td>\n",
       "      <td>June 17, 2017</td>\n",
       "      <td>2</td>\n",
       "      <td>9</td>\n",
       "      <td>0.0</td>\n",
       "      <td>(1.0, 0.0, 0.0, 0.0, 0.0, 0.0, 0.0, 0.0, 0.0, ...</td>\n",
       "      <td>60.0</td>\n",
       "      <td>(0.0, 0.0, 0.0, 0.0, 0.0, 0.0, 0.0, 0.0, 0.0, ...</td>\n",
       "      <td>(0.0, 0.0, 0.0, 0.0, 0.0, 0.0, 0.0, 0.0, 0.0, ...</td>\n",
       "    </tr>\n",
       "    <tr>\n",
       "      <th>2</th>\n",
       "      <td>100013</td>\n",
       "      <td>Desogestrel / ethinyl estradiol</td>\n",
       "      <td>Birth Control</td>\n",
       "      <td>\"\"\"Gives me heartburn and indigestion. Also ma...</td>\n",
       "      <td>2.0</td>\n",
       "      <td>June 8, 2017</td>\n",
       "      <td>1</td>\n",
       "      <td>2</td>\n",
       "      <td>0.0</td>\n",
       "      <td>(1.0, 0.0, 0.0, 0.0, 0.0, 0.0, 0.0, 0.0, 0.0, ...</td>\n",
       "      <td>60.0</td>\n",
       "      <td>(0.0, 0.0, 0.0, 0.0, 0.0, 0.0, 0.0, 0.0, 0.0, ...</td>\n",
       "      <td>(0.0, 0.0, 0.0, 0.0, 0.0, 0.0, 0.0, 0.0, 0.0, ...</td>\n",
       "    </tr>\n",
       "    <tr>\n",
       "      <th>3</th>\n",
       "      <td>100029</td>\n",
       "      <td>Desogestrel / ethinyl estradiol</td>\n",
       "      <td>Birth Control</td>\n",
       "      <td>\"\"\"I was switched from Azurette to Viorele by ...</td>\n",
       "      <td>5.0</td>\n",
       "      <td>December 6, 2017</td>\n",
       "      <td>0</td>\n",
       "      <td>5</td>\n",
       "      <td>0.0</td>\n",
       "      <td>(1.0, 0.0, 0.0, 0.0, 0.0, 0.0, 0.0, 0.0, 0.0, ...</td>\n",
       "      <td>60.0</td>\n",
       "      <td>(0.0, 0.0, 0.0, 0.0, 0.0, 0.0, 0.0, 0.0, 0.0, ...</td>\n",
       "      <td>(0.0, 0.0, 0.0, 0.0, 0.0, 0.0, 0.0, 0.0, 0.0, ...</td>\n",
       "    </tr>\n",
       "    <tr>\n",
       "      <th>4</th>\n",
       "      <td>10004</td>\n",
       "      <td>Lo Loestrin Fe</td>\n",
       "      <td>Birth Control</td>\n",
       "      <td>\"\"\"I&amp;#039;m 41, using for cramps and excessive...</td>\n",
       "      <td>2.0</td>\n",
       "      <td>March 31, 2013</td>\n",
       "      <td>12</td>\n",
       "      <td>2</td>\n",
       "      <td>0.0</td>\n",
       "      <td>(1.0, 0.0, 0.0, 0.0, 0.0, 0.0, 0.0, 0.0, 0.0, ...</td>\n",
       "      <td>35.0</td>\n",
       "      <td>(0.0, 0.0, 0.0, 0.0, 0.0, 0.0, 0.0, 0.0, 0.0, ...</td>\n",
       "      <td>(0.0, 0.0, 0.0, 0.0, 0.0, 0.0, 0.0, 0.0, 0.0, ...</td>\n",
       "    </tr>\n",
       "    <tr>\n",
       "      <th>5</th>\n",
       "      <td>100055</td>\n",
       "      <td>Desogestrel / ethinyl estradiol</td>\n",
       "      <td>Birth Control</td>\n",
       "      <td>\"\"\"I was on Apri for about a year. The first f...</td>\n",
       "      <td>5.0</td>\n",
       "      <td>May 2, 2017</td>\n",
       "      <td>1</td>\n",
       "      <td>5</td>\n",
       "      <td>0.0</td>\n",
       "      <td>(1.0, 0.0, 0.0, 0.0, 0.0, 0.0, 0.0, 0.0, 0.0, ...</td>\n",
       "      <td>60.0</td>\n",
       "      <td>(0.0, 0.0, 0.0, 0.0, 0.0, 0.0, 0.0, 0.0, 0.0, ...</td>\n",
       "      <td>(0.0, 0.0, 0.0, 0.0, 0.0, 0.0, 0.0, 0.0, 0.0, ...</td>\n",
       "    </tr>\n",
       "    <tr>\n",
       "      <th>6</th>\n",
       "      <td>10007</td>\n",
       "      <td>Lo Loestrin Fe</td>\n",
       "      <td>Birth Control</td>\n",
       "      <td>\"\"\"I posted on this forum when I first started...</td>\n",
       "      <td>9.0</td>\n",
       "      <td>March 10, 2013</td>\n",
       "      <td>18</td>\n",
       "      <td>9</td>\n",
       "      <td>0.0</td>\n",
       "      <td>(1.0, 0.0, 0.0, 0.0, 0.0, 0.0, 0.0, 0.0, 0.0, ...</td>\n",
       "      <td>35.0</td>\n",
       "      <td>(0.0, 0.0, 0.0, 0.0, 0.0, 0.0, 0.0, 0.0, 0.0, ...</td>\n",
       "      <td>(0.0, 0.0, 0.0, 0.0, 0.0, 0.0, 0.0, 0.0, 0.0, ...</td>\n",
       "    </tr>\n",
       "    <tr>\n",
       "      <th>7</th>\n",
       "      <td>100071</td>\n",
       "      <td>Desogestrel / ethinyl estradiol</td>\n",
       "      <td>Birth Control</td>\n",
       "      <td>\"\"\"So I&amp;#039;ve only been on this pill for a m...</td>\n",
       "      <td>8.0</td>\n",
       "      <td>March 7, 2017</td>\n",
       "      <td>7</td>\n",
       "      <td>8</td>\n",
       "      <td>0.0</td>\n",
       "      <td>(1.0, 0.0, 0.0, 0.0, 0.0, 0.0, 0.0, 0.0, 0.0, ...</td>\n",
       "      <td>60.0</td>\n",
       "      <td>(0.0, 0.0, 0.0, 0.0, 0.0, 0.0, 0.0, 0.0, 0.0, ...</td>\n",
       "      <td>(0.0, 0.0, 0.0, 0.0, 0.0, 0.0, 0.0, 0.0, 0.0, ...</td>\n",
       "    </tr>\n",
       "    <tr>\n",
       "      <th>8</th>\n",
       "      <td>100085</td>\n",
       "      <td>Desogestrel / ethinyl estradiol</td>\n",
       "      <td>Birth Control</td>\n",
       "      <td>\"\"\"I was on this for a year or two, I had been...</td>\n",
       "      <td>1.0</td>\n",
       "      <td>January 28, 2017</td>\n",
       "      <td>4</td>\n",
       "      <td>1</td>\n",
       "      <td>0.0</td>\n",
       "      <td>(1.0, 0.0, 0.0, 0.0, 0.0, 0.0, 0.0, 0.0, 0.0, ...</td>\n",
       "      <td>60.0</td>\n",
       "      <td>(0.0, 0.0, 0.0, 0.0, 0.0, 0.0, 0.0, 0.0, 0.0, ...</td>\n",
       "      <td>(0.0, 0.0, 0.0, 0.0, 0.0, 0.0, 0.0, 0.0, 0.0, ...</td>\n",
       "    </tr>\n",
       "    <tr>\n",
       "      <th>9</th>\n",
       "      <td>100087</td>\n",
       "      <td>Desogestrel / ethinyl estradiol</td>\n",
       "      <td>Birth Control</td>\n",
       "      <td>\"\"\"I&amp;#039;m 19 and have been on this birth con...</td>\n",
       "      <td>9.0</td>\n",
       "      <td>January 26, 2017</td>\n",
       "      <td>3</td>\n",
       "      <td>9</td>\n",
       "      <td>0.0</td>\n",
       "      <td>(1.0, 0.0, 0.0, 0.0, 0.0, 0.0, 0.0, 0.0, 0.0, ...</td>\n",
       "      <td>60.0</td>\n",
       "      <td>(0.0, 0.0, 0.0, 0.0, 0.0, 0.0, 0.0, 0.0, 0.0, ...</td>\n",
       "      <td>(0.0, 0.0, 0.0, 0.0, 0.0, 0.0, 0.0, 0.0, 0.0, ...</td>\n",
       "    </tr>\n",
       "  </tbody>\n",
       "</table>\n",
       "</div>"
      ],
      "text/plain": [
       "      _c0                         drugName      condition  \\\n",
       "0   10000                   Lo Loestrin Fe  Birth Control   \n",
       "1  100012  Desogestrel / ethinyl estradiol  Birth Control   \n",
       "2  100013  Desogestrel / ethinyl estradiol  Birth Control   \n",
       "3  100029  Desogestrel / ethinyl estradiol  Birth Control   \n",
       "4   10004                   Lo Loestrin Fe  Birth Control   \n",
       "5  100055  Desogestrel / ethinyl estradiol  Birth Control   \n",
       "6   10007                   Lo Loestrin Fe  Birth Control   \n",
       "7  100071  Desogestrel / ethinyl estradiol  Birth Control   \n",
       "8  100085  Desogestrel / ethinyl estradiol  Birth Control   \n",
       "9  100087  Desogestrel / ethinyl estradiol  Birth Control   \n",
       "\n",
       "                                              review rating              date  \\\n",
       "0  \"\"\"I was on this birth control for 8 months. T...    7.0    April 10, 2013   \n",
       "1  \"\"\"I&#039;ve been taking Velivet for about a y...    9.0     June 17, 2017   \n",
       "2  \"\"\"Gives me heartburn and indigestion. Also ma...    2.0      June 8, 2017   \n",
       "3  \"\"\"I was switched from Azurette to Viorele by ...    5.0  December 6, 2017   \n",
       "4  \"\"\"I&#039;m 41, using for cramps and excessive...    2.0    March 31, 2013   \n",
       "5  \"\"\"I was on Apri for about a year. The first f...    5.0       May 2, 2017   \n",
       "6  \"\"\"I posted on this forum when I first started...    9.0    March 10, 2013   \n",
       "7  \"\"\"So I&#039;ve only been on this pill for a m...    8.0     March 7, 2017   \n",
       "8  \"\"\"I was on this for a year or two, I had been...    1.0  January 28, 2017   \n",
       "9  \"\"\"I&#039;m 19 and have been on this birth con...    9.0  January 26, 2017   \n",
       "\n",
       "   usefulCount  ratingNum  conditionIndex  \\\n",
       "0            4          7             0.0   \n",
       "1            2          9             0.0   \n",
       "2            1          2             0.0   \n",
       "3            0          5             0.0   \n",
       "4           12          2             0.0   \n",
       "5            1          5             0.0   \n",
       "6           18          9             0.0   \n",
       "7            7          8             0.0   \n",
       "8            4          1             0.0   \n",
       "9            3          9             0.0   \n",
       "\n",
       "                                        conditionVec  drugIndex  \\\n",
       "0  (1.0, 0.0, 0.0, 0.0, 0.0, 0.0, 0.0, 0.0, 0.0, ...       35.0   \n",
       "1  (1.0, 0.0, 0.0, 0.0, 0.0, 0.0, 0.0, 0.0, 0.0, ...       60.0   \n",
       "2  (1.0, 0.0, 0.0, 0.0, 0.0, 0.0, 0.0, 0.0, 0.0, ...       60.0   \n",
       "3  (1.0, 0.0, 0.0, 0.0, 0.0, 0.0, 0.0, 0.0, 0.0, ...       60.0   \n",
       "4  (1.0, 0.0, 0.0, 0.0, 0.0, 0.0, 0.0, 0.0, 0.0, ...       35.0   \n",
       "5  (1.0, 0.0, 0.0, 0.0, 0.0, 0.0, 0.0, 0.0, 0.0, ...       60.0   \n",
       "6  (1.0, 0.0, 0.0, 0.0, 0.0, 0.0, 0.0, 0.0, 0.0, ...       35.0   \n",
       "7  (1.0, 0.0, 0.0, 0.0, 0.0, 0.0, 0.0, 0.0, 0.0, ...       60.0   \n",
       "8  (1.0, 0.0, 0.0, 0.0, 0.0, 0.0, 0.0, 0.0, 0.0, ...       60.0   \n",
       "9  (1.0, 0.0, 0.0, 0.0, 0.0, 0.0, 0.0, 0.0, 0.0, ...       60.0   \n",
       "\n",
       "                                             drugVec  \\\n",
       "0  (0.0, 0.0, 0.0, 0.0, 0.0, 0.0, 0.0, 0.0, 0.0, ...   \n",
       "1  (0.0, 0.0, 0.0, 0.0, 0.0, 0.0, 0.0, 0.0, 0.0, ...   \n",
       "2  (0.0, 0.0, 0.0, 0.0, 0.0, 0.0, 0.0, 0.0, 0.0, ...   \n",
       "3  (0.0, 0.0, 0.0, 0.0, 0.0, 0.0, 0.0, 0.0, 0.0, ...   \n",
       "4  (0.0, 0.0, 0.0, 0.0, 0.0, 0.0, 0.0, 0.0, 0.0, ...   \n",
       "5  (0.0, 0.0, 0.0, 0.0, 0.0, 0.0, 0.0, 0.0, 0.0, ...   \n",
       "6  (0.0, 0.0, 0.0, 0.0, 0.0, 0.0, 0.0, 0.0, 0.0, ...   \n",
       "7  (0.0, 0.0, 0.0, 0.0, 0.0, 0.0, 0.0, 0.0, 0.0, ...   \n",
       "8  (0.0, 0.0, 0.0, 0.0, 0.0, 0.0, 0.0, 0.0, 0.0, ...   \n",
       "9  (0.0, 0.0, 0.0, 0.0, 0.0, 0.0, 0.0, 0.0, 0.0, ...   \n",
       "\n",
       "                                            features  \n",
       "0  (0.0, 0.0, 0.0, 0.0, 0.0, 0.0, 0.0, 0.0, 0.0, ...  \n",
       "1  (0.0, 0.0, 0.0, 0.0, 0.0, 0.0, 0.0, 0.0, 0.0, ...  \n",
       "2  (0.0, 0.0, 0.0, 0.0, 0.0, 0.0, 0.0, 0.0, 0.0, ...  \n",
       "3  (0.0, 0.0, 0.0, 0.0, 0.0, 0.0, 0.0, 0.0, 0.0, ...  \n",
       "4  (0.0, 0.0, 0.0, 0.0, 0.0, 0.0, 0.0, 0.0, 0.0, ...  \n",
       "5  (0.0, 0.0, 0.0, 0.0, 0.0, 0.0, 0.0, 0.0, 0.0, ...  \n",
       "6  (0.0, 0.0, 0.0, 0.0, 0.0, 0.0, 0.0, 0.0, 0.0, ...  \n",
       "7  (0.0, 0.0, 0.0, 0.0, 0.0, 0.0, 0.0, 0.0, 0.0, ...  \n",
       "8  (0.0, 0.0, 0.0, 0.0, 0.0, 0.0, 0.0, 0.0, 0.0, ...  \n",
       "9  (0.0, 0.0, 0.0, 0.0, 0.0, 0.0, 0.0, 0.0, 0.0, ...  "
      ]
     },
     "execution_count": 9,
     "metadata": {},
     "output_type": "execute_result"
    }
   ],
   "source": [
    "train_proc.limit(10).toPandas()"
   ]
  },
  {
   "cell_type": "code",
   "execution_count": 10,
   "metadata": {},
   "outputs": [],
   "source": [
    "from pyspark.sql.types import *\n",
    "from pyspark.ml.linalg import Vectors, VectorUDT\n",
    "from pyspark.sql import Row,SparkSession"
   ]
  },
  {
   "cell_type": "code",
   "execution_count": 11,
   "metadata": {},
   "outputs": [],
   "source": [
    "srcDataSchema = [\n",
    "    StructField(\"features\", VectorUDT()),\n",
    "    StructField(\"label\", DoubleType())\n",
    "]"
   ]
  },
  {
   "cell_type": "code",
   "execution_count": 12,
   "metadata": {},
   "outputs": [
    {
     "data": {
      "text/plain": [
       "[<Row(SparseVector(4469, {35: 1.0, 3572: 1.0, 4468: 7.0}), 4.0)>]"
      ]
     },
     "execution_count": 12,
     "metadata": {},
     "output_type": "execute_result"
    }
   ],
   "source": [
    "train_proc.rdd.map(lambda x: Row(x.features, float(x.usefulCount))).take(1)"
   ]
  },
  {
   "cell_type": "code",
   "execution_count": 13,
   "metadata": {},
   "outputs": [],
   "source": [
    "trainData = train_proc.rdd.map(lambda x: Row(x.features, float(x.usefulCount)))"
   ]
  },
  {
   "cell_type": "code",
   "execution_count": 14,
   "metadata": {},
   "outputs": [],
   "source": [
    "trainDf = se.createDataFrame(trainData, StructType(srcDataSchema))"
   ]
  },
  {
   "cell_type": "code",
   "execution_count": 15,
   "metadata": {},
   "outputs": [
    {
     "data": {
      "text/html": [
       "<div>\n",
       "<style scoped>\n",
       "    .dataframe tbody tr th:only-of-type {\n",
       "        vertical-align: middle;\n",
       "    }\n",
       "\n",
       "    .dataframe tbody tr th {\n",
       "        vertical-align: top;\n",
       "    }\n",
       "\n",
       "    .dataframe thead th {\n",
       "        text-align: right;\n",
       "    }\n",
       "</style>\n",
       "<table border=\"1\" class=\"dataframe\">\n",
       "  <thead>\n",
       "    <tr style=\"text-align: right;\">\n",
       "      <th></th>\n",
       "      <th>features</th>\n",
       "      <th>label</th>\n",
       "    </tr>\n",
       "  </thead>\n",
       "  <tbody>\n",
       "    <tr>\n",
       "      <th>0</th>\n",
       "      <td>(0.0, 0.0, 0.0, 0.0, 0.0, 0.0, 0.0, 0.0, 0.0, ...</td>\n",
       "      <td>4.0</td>\n",
       "    </tr>\n",
       "    <tr>\n",
       "      <th>1</th>\n",
       "      <td>(0.0, 0.0, 0.0, 0.0, 0.0, 0.0, 0.0, 0.0, 0.0, ...</td>\n",
       "      <td>2.0</td>\n",
       "    </tr>\n",
       "    <tr>\n",
       "      <th>2</th>\n",
       "      <td>(0.0, 0.0, 0.0, 0.0, 0.0, 0.0, 0.0, 0.0, 0.0, ...</td>\n",
       "      <td>1.0</td>\n",
       "    </tr>\n",
       "    <tr>\n",
       "      <th>3</th>\n",
       "      <td>(0.0, 0.0, 0.0, 0.0, 0.0, 0.0, 0.0, 0.0, 0.0, ...</td>\n",
       "      <td>0.0</td>\n",
       "    </tr>\n",
       "    <tr>\n",
       "      <th>4</th>\n",
       "      <td>(0.0, 0.0, 0.0, 0.0, 0.0, 0.0, 0.0, 0.0, 0.0, ...</td>\n",
       "      <td>12.0</td>\n",
       "    </tr>\n",
       "    <tr>\n",
       "      <th>5</th>\n",
       "      <td>(0.0, 0.0, 0.0, 0.0, 0.0, 0.0, 0.0, 0.0, 0.0, ...</td>\n",
       "      <td>1.0</td>\n",
       "    </tr>\n",
       "    <tr>\n",
       "      <th>6</th>\n",
       "      <td>(0.0, 0.0, 0.0, 0.0, 0.0, 0.0, 0.0, 0.0, 0.0, ...</td>\n",
       "      <td>18.0</td>\n",
       "    </tr>\n",
       "    <tr>\n",
       "      <th>7</th>\n",
       "      <td>(0.0, 0.0, 0.0, 0.0, 0.0, 0.0, 0.0, 0.0, 0.0, ...</td>\n",
       "      <td>7.0</td>\n",
       "    </tr>\n",
       "    <tr>\n",
       "      <th>8</th>\n",
       "      <td>(0.0, 0.0, 0.0, 0.0, 0.0, 0.0, 0.0, 0.0, 0.0, ...</td>\n",
       "      <td>4.0</td>\n",
       "    </tr>\n",
       "    <tr>\n",
       "      <th>9</th>\n",
       "      <td>(0.0, 0.0, 0.0, 0.0, 0.0, 0.0, 0.0, 0.0, 0.0, ...</td>\n",
       "      <td>3.0</td>\n",
       "    </tr>\n",
       "  </tbody>\n",
       "</table>\n",
       "</div>"
      ],
      "text/plain": [
       "                                            features  label\n",
       "0  (0.0, 0.0, 0.0, 0.0, 0.0, 0.0, 0.0, 0.0, 0.0, ...    4.0\n",
       "1  (0.0, 0.0, 0.0, 0.0, 0.0, 0.0, 0.0, 0.0, 0.0, ...    2.0\n",
       "2  (0.0, 0.0, 0.0, 0.0, 0.0, 0.0, 0.0, 0.0, 0.0, ...    1.0\n",
       "3  (0.0, 0.0, 0.0, 0.0, 0.0, 0.0, 0.0, 0.0, 0.0, ...    0.0\n",
       "4  (0.0, 0.0, 0.0, 0.0, 0.0, 0.0, 0.0, 0.0, 0.0, ...   12.0\n",
       "5  (0.0, 0.0, 0.0, 0.0, 0.0, 0.0, 0.0, 0.0, 0.0, ...    1.0\n",
       "6  (0.0, 0.0, 0.0, 0.0, 0.0, 0.0, 0.0, 0.0, 0.0, ...   18.0\n",
       "7  (0.0, 0.0, 0.0, 0.0, 0.0, 0.0, 0.0, 0.0, 0.0, ...    7.0\n",
       "8  (0.0, 0.0, 0.0, 0.0, 0.0, 0.0, 0.0, 0.0, 0.0, ...    4.0\n",
       "9  (0.0, 0.0, 0.0, 0.0, 0.0, 0.0, 0.0, 0.0, 0.0, ...    3.0"
      ]
     },
     "execution_count": 15,
     "metadata": {},
     "output_type": "execute_result"
    }
   ],
   "source": [
    "trainDf.limit(10).toPandas()"
   ]
  },
  {
   "cell_type": "code",
   "execution_count": 16,
   "metadata": {},
   "outputs": [],
   "source": [
    "evalData = test_proc.rdd.map(lambda x: Row(x.features, float(x.usefulCount)))"
   ]
  },
  {
   "cell_type": "code",
   "execution_count": 17,
   "metadata": {},
   "outputs": [],
   "source": [
    "evalDf = se.createDataFrame(evalData, StructType(srcDataSchema))"
   ]
  },
  {
   "cell_type": "code",
   "execution_count": 18,
   "metadata": {},
   "outputs": [
    {
     "data": {
      "text/html": [
       "<div>\n",
       "<style scoped>\n",
       "    .dataframe tbody tr th:only-of-type {\n",
       "        vertical-align: middle;\n",
       "    }\n",
       "\n",
       "    .dataframe tbody tr th {\n",
       "        vertical-align: top;\n",
       "    }\n",
       "\n",
       "    .dataframe thead th {\n",
       "        text-align: right;\n",
       "    }\n",
       "</style>\n",
       "<table border=\"1\" class=\"dataframe\">\n",
       "  <thead>\n",
       "    <tr style=\"text-align: right;\">\n",
       "      <th></th>\n",
       "      <th>features</th>\n",
       "      <th>label</th>\n",
       "    </tr>\n",
       "  </thead>\n",
       "  <tbody>\n",
       "    <tr>\n",
       "      <th>0</th>\n",
       "      <td>(0.0, 0.0, 0.0, 0.0, 0.0, 0.0, 0.0, 0.0, 0.0, ...</td>\n",
       "      <td>2.0</td>\n",
       "    </tr>\n",
       "    <tr>\n",
       "      <th>1</th>\n",
       "      <td>(0.0, 0.0, 0.0, 0.0, 0.0, 0.0, 0.0, 0.0, 0.0, ...</td>\n",
       "      <td>10.0</td>\n",
       "    </tr>\n",
       "    <tr>\n",
       "      <th>2</th>\n",
       "      <td>(0.0, 0.0, 0.0, 0.0, 0.0, 0.0, 0.0, 0.0, 0.0, ...</td>\n",
       "      <td>3.0</td>\n",
       "    </tr>\n",
       "    <tr>\n",
       "      <th>3</th>\n",
       "      <td>(0.0, 0.0, 0.0, 0.0, 0.0, 0.0, 0.0, 0.0, 0.0, ...</td>\n",
       "      <td>2.0</td>\n",
       "    </tr>\n",
       "    <tr>\n",
       "      <th>4</th>\n",
       "      <td>(0.0, 0.0, 0.0, 0.0, 0.0, 0.0, 0.0, 0.0, 0.0, ...</td>\n",
       "      <td>16.0</td>\n",
       "    </tr>\n",
       "    <tr>\n",
       "      <th>5</th>\n",
       "      <td>(0.0, 0.0, 0.0, 0.0, 0.0, 0.0, 0.0, 0.0, 0.0, ...</td>\n",
       "      <td>3.0</td>\n",
       "    </tr>\n",
       "    <tr>\n",
       "      <th>6</th>\n",
       "      <td>(0.0, 0.0, 0.0, 0.0, 0.0, 0.0, 0.0, 0.0, 0.0, ...</td>\n",
       "      <td>1.0</td>\n",
       "    </tr>\n",
       "    <tr>\n",
       "      <th>7</th>\n",
       "      <td>(0.0, 0.0, 0.0, 0.0, 0.0, 0.0, 0.0, 0.0, 0.0, ...</td>\n",
       "      <td>2.0</td>\n",
       "    </tr>\n",
       "    <tr>\n",
       "      <th>8</th>\n",
       "      <td>(0.0, 0.0, 0.0, 0.0, 0.0, 0.0, 0.0, 0.0, 0.0, ...</td>\n",
       "      <td>4.0</td>\n",
       "    </tr>\n",
       "    <tr>\n",
       "      <th>9</th>\n",
       "      <td>(0.0, 0.0, 0.0, 0.0, 0.0, 0.0, 0.0, 0.0, 0.0, ...</td>\n",
       "      <td>1.0</td>\n",
       "    </tr>\n",
       "  </tbody>\n",
       "</table>\n",
       "</div>"
      ],
      "text/plain": [
       "                                            features  label\n",
       "0  (0.0, 0.0, 0.0, 0.0, 0.0, 0.0, 0.0, 0.0, 0.0, ...    2.0\n",
       "1  (0.0, 0.0, 0.0, 0.0, 0.0, 0.0, 0.0, 0.0, 0.0, ...   10.0\n",
       "2  (0.0, 0.0, 0.0, 0.0, 0.0, 0.0, 0.0, 0.0, 0.0, ...    3.0\n",
       "3  (0.0, 0.0, 0.0, 0.0, 0.0, 0.0, 0.0, 0.0, 0.0, ...    2.0\n",
       "4  (0.0, 0.0, 0.0, 0.0, 0.0, 0.0, 0.0, 0.0, 0.0, ...   16.0\n",
       "5  (0.0, 0.0, 0.0, 0.0, 0.0, 0.0, 0.0, 0.0, 0.0, ...    3.0\n",
       "6  (0.0, 0.0, 0.0, 0.0, 0.0, 0.0, 0.0, 0.0, 0.0, ...    1.0\n",
       "7  (0.0, 0.0, 0.0, 0.0, 0.0, 0.0, 0.0, 0.0, 0.0, ...    2.0\n",
       "8  (0.0, 0.0, 0.0, 0.0, 0.0, 0.0, 0.0, 0.0, 0.0, ...    4.0\n",
       "9  (0.0, 0.0, 0.0, 0.0, 0.0, 0.0, 0.0, 0.0, 0.0, ...    1.0"
      ]
     },
     "execution_count": 18,
     "metadata": {},
     "output_type": "execute_result"
    }
   ],
   "source": [
    "evalDf.limit(10).toPandas()"
   ]
  },
  {
   "cell_type": "code",
   "execution_count": 19,
   "metadata": {},
   "outputs": [],
   "source": [
    "trainPool = catboost_spark.Pool(trainDf)\n",
    "evalPool = catboost_spark.Pool(evalDf)"
   ]
  },
  {
   "cell_type": "code",
   "execution_count": 20,
   "metadata": {},
   "outputs": [],
   "source": [
    "regressor = catboost_spark.CatBoostRegressor()"
   ]
  },
  {
   "cell_type": "code",
   "execution_count": 21,
   "metadata": {},
   "outputs": [],
   "source": [
    "model = regressor.fit(trainPool, evalDatasets=[evalPool])"
   ]
  },
  {
   "cell_type": "code",
   "execution_count": 22,
   "metadata": {},
   "outputs": [
    {
     "name": "stdout",
     "output_type": "stream",
     "text": [
      "+--------------------+-----+------------------+\n",
      "|            features|label|        prediction|\n",
      "+--------------------+-----+------------------+\n",
      "|(4469,[60,3572,44...|  2.0| 5.214922423180441|\n",
      "|(4469,[35,3572,44...| 10.0| 6.100332500341619|\n",
      "|(4469,[60,3572,44...|  3.0| 6.550188630001711|\n",
      "|(4469,[60,3572,44...|  2.0| 6.550188630001711|\n",
      "|(4469,[1379,3655,...| 16.0|61.332309340966034|\n",
      "|(4469,[60,3572,44...|  3.0| 5.214922423180441|\n",
      "|(4469,[60,3572,44...|  1.0|10.677310229258739|\n",
      "|(4469,[60,3572,44...|  2.0| 6.124822325433688|\n",
      "|(4469,[60,3572,44...|  4.0| 8.900531957551411|\n",
      "|(4469,[60,3572,44...|  1.0| 8.900531957551411|\n",
      "|(4469,[35,3572,44...| 23.0| 8.900531957551411|\n",
      "|(4469,[60,3572,44...| 13.0| 6.394147588050941|\n",
      "|(4469,[60,3572,44...|  6.0|10.677310229258739|\n",
      "|(4469,[60,3572,44...|  1.0| 5.885504622524754|\n",
      "|(4469,[35,3572,44...| 18.0| 6.394147588050941|\n",
      "|(4469,[60,3572,44...|  8.0| 8.900531957551411|\n",
      "|(4469,[60,3572,44...|  1.0| 6.124822325433688|\n",
      "|(4469,[60,3572,44...| 15.0| 6.007510951259225|\n",
      "|(4469,[35,3572,44...| 36.0| 8.900531957551411|\n",
      "|(4469,[35,3572,44...| 14.0| 6.394147588050941|\n",
      "+--------------------+-----+------------------+\n",
      "only showing top 20 rows\n",
      "\n"
     ]
    }
   ],
   "source": [
    "predictions = model.transform(evalPool.data)\n",
    "predictions.show()"
   ]
  },
  {
   "cell_type": "code",
   "execution_count": 23,
   "metadata": {},
   "outputs": [],
   "source": [
    "from pyspark.ml.evaluation import RegressionEvaluator"
   ]
  },
  {
   "cell_type": "code",
   "execution_count": 24,
   "metadata": {},
   "outputs": [
    {
     "data": {
      "text/plain": [
       "0.3480818780499839"
      ]
     },
     "execution_count": 24,
     "metadata": {},
     "output_type": "execute_result"
    }
   ],
   "source": [
    "lr_evaluator = RegressionEvaluator(predictionCol=\"prediction\", labelCol=\"label\", metricName=\"r2\")\n",
    "lr_evaluator.evaluate(predictions)"
   ]
  },
  {
   "cell_type": "code",
   "execution_count": 25,
   "metadata": {},
   "outputs": [
    {
     "data": {
      "text/plain": [
       "29.16727918487994"
      ]
     },
     "execution_count": 25,
     "metadata": {},
     "output_type": "execute_result"
    }
   ],
   "source": [
    "lr_evaluator = RegressionEvaluator(predictionCol=\"prediction\", labelCol=\"label\", metricName=\"rmse\")\n",
    "lr_evaluator.evaluate(predictions)"
   ]
  },
  {
   "cell_type": "code",
   "execution_count": null,
   "metadata": {},
   "outputs": [],
   "source": []
  }
 ],
 "metadata": {
  "kernelspec": {
   "display_name": "Python 3",
   "language": "python",
   "name": "python3"
  },
  "language_info": {
   "codemirror_mode": {
    "name": "ipython",
    "version": 3
   },
   "file_extension": ".py",
   "mimetype": "text/x-python",
   "name": "python",
   "nbconvert_exporter": "python",
   "pygments_lexer": "ipython3",
   "version": "3.8.10"
  }
 },
 "nbformat": 4,
 "nbformat_minor": 2
}
